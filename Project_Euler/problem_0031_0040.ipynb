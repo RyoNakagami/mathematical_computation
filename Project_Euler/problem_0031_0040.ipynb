{
 "cells": [
  {
   "cell_type": "markdown",
   "metadata": {},
   "source": [
    "# Project Euler Problem 31 ~ 40"
   ]
  },
  {
   "cell_type": "markdown",
   "metadata": {},
   "source": [
    "### Hardware"
   ]
  },
  {
   "cell_type": "code",
   "execution_count": 1,
   "metadata": {},
   "outputs": [
    {
     "name": "stdout",
     "output_type": "stream",
     "text": [
      "      Model Identifier: MacBookPro13,1\n",
      "      Processor Name: Dual-Core Intel Core i5\n",
      "      Processor Speed: 2 GHz\n",
      "      Number of Processors: 1\n",
      "      Memory: 16 GB\n"
     ]
    }
   ],
   "source": [
    "%%bash\n",
    "system_profiler SPHardwareDataType | grep -E \\\n",
    "\"Model Identifier\"\\|\"Processor Name\"\\|\"Processor Speed\"\\\n",
    "\\|\"Number of Processors\"\\|\"Memory:\""
   ]
  },
  {
   "cell_type": "code",
   "execution_count": 2,
   "metadata": {},
   "outputs": [
    {
     "name": "stdout",
     "output_type": "stream",
     "text": [
      "Python 3.7.4\n"
     ]
    }
   ],
   "source": [
    "!python -V"
   ]
  },
  {
   "cell_type": "markdown",
   "metadata": {},
   "source": [
    "### Import"
   ]
  },
  {
   "cell_type": "code",
   "execution_count": 3,
   "metadata": {},
   "outputs": [],
   "source": [
    "import itertools\n",
    "from functools import reduce"
   ]
  },
  {
   "cell_type": "markdown",
   "metadata": {},
   "source": [
    "## Problem 31\n",
    "\n",
    "In the United Kingdom the currency is made up of pound (£) and pence (p). There are eight coins in general circulation:\n",
    "\n",
    "```\n",
    "1p, 2p, 5p, 10p, 20p, 50p, £1 (100p), and £2 (200p).\n",
    "```\n",
    "\n",
    "It is possible to make £2 in the following way:\n",
    "```\n",
    "1×£1 + 1×50p + 2×20p + 1×5p + 1×2p + 3×1p\n",
    "```\n",
    "How many different ways can £2 be made using any number of coins?\n"
   ]
  },
  {
   "cell_type": "markdown",
   "metadata": {},
   "source": [
    "### 方針\n",
    "\n",
    "- DP\n"
   ]
  },
  {
   "cell_type": "markdown",
   "metadata": {},
   "source": [
    "### Python Solution"
   ]
  },
  {
   "cell_type": "code",
   "execution_count": 4,
   "metadata": {},
   "outputs": [
    {
     "name": "stdout",
     "output_type": "stream",
     "text": [
      "CPU times: user 346 µs, sys: 1 µs, total: 347 µs\n",
      "Wall time: 351 µs\n"
     ]
    },
    {
     "data": {
      "text/plain": [
       "73682"
      ]
     },
     "execution_count": 4,
     "metadata": {},
     "output_type": "execute_result"
    }
   ],
   "source": [
    "%%time\n",
    "target = 200\n",
    "coin_list = [1, 2, 5, 10, 20, 50, 100, 200]\n",
    "ways = [1] + [0]*target\n",
    "\n",
    "for coin in coin_list:\n",
    "    for i in range(coin, target + 1):\n",
    "        ways[i] += ways[i - coin]\n",
    "\n",
    "ways[target]"
   ]
  },
  {
   "cell_type": "markdown",
   "metadata": {},
   "source": [
    "## Problem 32: Pandigital products\n",
    "\n",
    "We shall say that an n-digit number is pandigital if it makes use of all the digits 1 to n exactly once; for example, the 5-digit number, 15234, is 1 through 5 pandigital.\n",
    "\n",
    "The product 7254 is unusual, as the identity, 39 × 186 = 7254, containing multiplicand, multiplier, and product is 1 through 9 pandigital.\n",
    "\n",
    "Find the sum of all products whose multiplicand/multiplier/product identity can be written as a 1 through 9 pandigital.\n",
    "\n",
    "HINT: Some products can be obtained in more than one way so be sure to only include it once in your sum."
   ]
  },
  {
   "cell_type": "markdown",
   "metadata": {},
   "source": [
    "### Solution Guideline\n",
    "\n",
    "<img src = \"https://github.com/RyoNakagami/omorikaizuka/blob/master/algorithm/project_euler/problem32.jpg?raw=true\">\n"
   ]
  },
  {
   "cell_type": "markdown",
   "metadata": {},
   "source": [
    "### Python Solution"
   ]
  },
  {
   "cell_type": "code",
   "execution_count": 5,
   "metadata": {},
   "outputs": [
    {
     "name": "stdout",
     "output_type": "stream",
     "text": [
      "CPU times: user 702 ms, sys: 7.57 ms, total: 709 ms\n",
      "Wall time: 759 ms\n"
     ]
    },
    {
     "data": {
      "text/plain": [
       "45228"
      ]
     },
     "execution_count": 5,
     "metadata": {},
     "output_type": "execute_result"
    }
   ],
   "source": [
    "%%time\n",
    "def is_pandigital(num, digits):\n",
    "    sep = ''\n",
    "    num_string = sep.join(map(str, num))\n",
    "    num_set = set(num_string)\n",
    "    num_set.discard('0')\n",
    "    if len(num_string) == digits and len(num_set) == digits:\n",
    "        return True\n",
    "    else:\n",
    "        return False\n",
    "\n",
    "def count_digits(num):\n",
    "    count = 0\n",
    "    while True:\n",
    "        count += 1\n",
    "        a, remainder = divmod(num, 10)\n",
    "        if a == 0:\n",
    "            return count\n",
    "        else:\n",
    "            num = a\n",
    "\n",
    "base = 10\n",
    "target = 9\n",
    "a_max = base ** ((target - 1) // 2)\n",
    "pandigitals = set()\n",
    "for multiplicand in range(1, a_max):  # search over values of a\n",
    "        a_len = count_digits(multiplicand)\n",
    "        b_lower_digits = (target + 1) // 2 - 1  # minimum number of digits in b\n",
    "        b_upper_digits = target // 2 + 1  # maximum number of digits in b\n",
    "        b_lower = base ** (b_lower_digits - a_len)  # minimum value of b (half-open interval)\n",
    "        b_upper = base ** (b_upper_digits - a_len)  # maximum value of b (half-open interval)\n",
    "\n",
    "        for multiplier in range(b_lower, b_upper):  # search over values of b\n",
    "            product = multiplicand * multiplier  # compute c = a * b\n",
    "\n",
    "            if is_pandigital([multiplicand, multiplier, product], target):\n",
    "                pandigitals.add(product) # save any unique target-pandigital numbers 'product'\n",
    "\n",
    "sum(pandigitals)"
   ]
  },
  {
   "cell_type": "markdown",
   "metadata": {},
   "source": [
    "### Python Solution version 2"
   ]
  },
  {
   "cell_type": "code",
   "execution_count": 6,
   "metadata": {},
   "outputs": [
    {
     "name": "stdout",
     "output_type": "stream",
     "text": [
      "45228\n",
      "CPU times: user 120 ms, sys: 4.68 ms, total: 124 ms\n",
      "Wall time: 133 ms\n"
     ]
    }
   ],
   "source": [
    "%%time\n",
    "products = set()\n",
    "\n",
    "for a in range(1,100):\n",
    "    if a < 10:\n",
    "        inner_range = range(1234, 10000)\n",
    "    else:\n",
    "        inner_range = range(123,1000)\n",
    "\n",
    "    for b in inner_range:\n",
    "        product = a * b\n",
    "        if product >= 10000:\n",
    "            continue\n",
    "        digits = {d for d in str(product)}\n",
    "        digits = digits.union({d for d in str(a)},{d for d in str(b)})\n",
    "        if len(digits) == 9 and '0' not in digits:\n",
    "            products.add(product)\n",
    "\n",
    "product_sum = sum(products)\n",
    "print(product_sum)"
   ]
  },
  {
   "cell_type": "markdown",
   "metadata": {},
   "source": [
    "## Problem 33\n",
    "\n",
    "The fraction 49/98 is a curious fraction, as an inexperienced mathematician in attempting to simplify it may incorrectly believe that 49/98 = 4/8, which is correct, is obtained by cancelling the 9s.\n",
    "\n",
    "We shall consider fractions like, 30/50 = 3/5, to be trivial examples.\n",
    "\n",
    "There are exactly four non-trivial examples of this type of fraction, less than one in value, and containing two digits in the numerator and denominator.\n",
    "\n",
    "If the product of these four fractions is given in its lowest common terms, find the value of the denominator."
   ]
  },
  {
   "cell_type": "markdown",
   "metadata": {},
   "source": [
    "### Solution\n",
    "\n",
    "1. if the numerator or the denominator is mod 10, skip\n",
    "2. find the common number\n",
    "3. remove the common number from the denominator and the numerator, and compute the fraction (naive fraction)\n",
    "4. True if the naive fraction == the true fraction else False"
   ]
  },
  {
   "cell_type": "markdown",
   "metadata": {},
   "source": [
    "### Python Solution"
   ]
  },
  {
   "cell_type": "code",
   "execution_count": 7,
   "metadata": {},
   "outputs": [
    {
     "name": "stdout",
     "output_type": "stream",
     "text": [
      "100\n",
      "CPU times: user 8.46 ms, sys: 259 µs, total: 8.72 ms\n",
      "Wall time: 8.98 ms\n"
     ]
    }
   ],
   "source": [
    "%%time\n",
    "def gcd(a,b):\n",
    "    while b!=0:\n",
    "        a,b=b,a%b\n",
    "    return a\n",
    "\n",
    "def lcm(a,b):\n",
    "    return a*b//gcd(a,b)\n",
    "\n",
    "\n",
    "\n",
    "res = []\n",
    "for num in range(10, 100):\n",
    "    if num % 10 == 0:\n",
    "        continue\n",
    "    for denom in range(num+1, 100):\n",
    "        if denom % 10 == 0:\n",
    "            continue\n",
    "        \n",
    "        num_list = list(str(num))\n",
    "        denom_list = list(str(denom))\n",
    "        common = set(num_list) & set(denom_list)\n",
    "        if common:\n",
    "            common_val = common.pop()\n",
    "            num_list.remove(common_val)\n",
    "            denom_list.remove(common_val)\n",
    "            a = int(num_list[0])\n",
    "            b = int(denom_list[0])\n",
    "            if a/b == num/denom:\n",
    "                res.append((a,b))\n",
    "\n",
    "num = reduce(lambda a, b: a*b, [i[0] for i in res])\n",
    "denom = reduce(lambda a, b: a*b, [i[1] for i in res])\n",
    "print(denom//gcd(num, denom))"
   ]
  },
  {
   "cell_type": "markdown",
   "metadata": {},
   "source": [
    "## Problem 34\n",
    "\n",
    "145 is a curious number, as 1! + 4! + 5! = 1 + 24 + 120 = 145.\n",
    "\n",
    "Find the sum of all numbers which are equal to the sum of the factorial of their digits.\n",
    "\n",
    "Note: as 1! = 1 and 2! = 2 are not sums they are not included."
   ]
  },
  {
   "cell_type": "markdown",
   "metadata": {},
   "source": [
    "### Python Solution"
   ]
  },
  {
   "cell_type": "code",
   "execution_count": 8,
   "metadata": {},
   "outputs": [
    {
     "name": "stdout",
     "output_type": "stream",
     "text": [
      "40730\n",
      "CPU times: user 23 s, sys: 164 ms, total: 23.1 s\n",
      "Wall time: 23.6 s\n"
     ]
    }
   ],
   "source": [
    "%%time\n",
    "a_max = reduce(lambda a, b: a*b,[i for i in range(1, 10)])*7\n",
    "ans = []\n",
    "\n",
    "for a in range(3, a_max):\n",
    "    iterator = list(map(int, list(str(a))))\n",
    "    res = 0\n",
    "    for i in iterator:\n",
    "        if i == 0:\n",
    "            res += 1\n",
    "        else:\n",
    "            res += reduce(lambda a, b: a*b, range(1, i+1))\n",
    "    if a == int(res):\n",
    "        ans.append(a) \n",
    "print(sum(ans))"
   ]
  },
  {
   "cell_type": "markdown",
   "metadata": {},
   "source": [
    "### Python Solution 2"
   ]
  },
  {
   "cell_type": "code",
   "execution_count": 9,
   "metadata": {},
   "outputs": [
    {
     "name": "stdout",
     "output_type": "stream",
     "text": [
      "40730\n",
      "CPU times: user 2.87 s, sys: 373 ms, total: 3.24 s\n",
      "Wall time: 7.38 s\n"
     ]
    }
   ],
   "source": [
    "%%time\n",
    "from functools import lru_cache\n",
    "from concurrent.futures import ProcessPoolExecutor\n",
    "\n",
    "@lru_cache(maxsize=128, typed=False)\n",
    "def factorial(x):\n",
    "    if x < 2:\n",
    "        return 1\n",
    "    return x * factorial(x-1)\n",
    "\n",
    "def is_curious(n):\n",
    "    summ = 0\n",
    "    for i in list(str(n)):\n",
    "        summ += factorial(int(i))\n",
    "    if summ == n:\n",
    "        return n\n",
    "    \n",
    "def main():\n",
    "    summ = 0\n",
    "    with ProcessPoolExecutor() as executor:\n",
    "        worklist = [i for i in range(3, 362880 * 9)]\n",
    "        for result in executor.map(is_curious, worklist, chunksize=3000):\n",
    "            if result:\n",
    "                summ += result\n",
    "    return summ\n",
    "                \n",
    "\n",
    "print(main())"
   ]
  },
  {
   "cell_type": "markdown",
   "metadata": {},
   "source": [
    "## Problem 35\n",
    "\n",
    "The number, 197, is called a circular prime because all rotations of the digits: 197, 971, and 719, are themselves prime.\n",
    "\n",
    "There are thirteen such primes below 100: 2, 3, 5, 7, 11, 13, 17, 31, 37, 71, 73, 79, and 97.\n",
    "\n",
    "How many circular primes are there below one million?"
   ]
  },
  {
   "cell_type": "markdown",
   "metadata": {},
   "source": [
    "### Python Solution"
   ]
  },
  {
   "cell_type": "code",
   "execution_count": 10,
   "metadata": {},
   "outputs": [],
   "source": [
    "def generate_prime(max_num):\n",
    "    prime_list = [2, 3]\n",
    "    for i in range(5, max_num, 2):\n",
    "        is_prime = True\n",
    "        for x in range(2, int(i ** 0.5)+1):\n",
    "            if i % x == 0:\n",
    "                is_prime = False\n",
    "                break\n",
    "        if is_prime:\n",
    "            prime_list.append(i)\n",
    "    return prime_list\n",
    "        \n",
    "def string_rotation(num):\n",
    "    res = []\n",
    "    for i in range(0, len(num)):\n",
    "        tmp = num[i:] + num[0:i]\n",
    "        res.append(tmp)\n",
    "    return set(res)\n",
    "    \n",
    "    "
   ]
  },
  {
   "cell_type": "code",
   "execution_count": 11,
   "metadata": {},
   "outputs": [
    {
     "name": "stdout",
     "output_type": "stream",
     "text": [
      "55\n",
      "CPU times: user 4.81 s, sys: 34.9 ms, total: 4.84 s\n",
      "Wall time: 4.94 s\n"
     ]
    }
   ],
   "source": [
    "%%time\n",
    "prime_list = list(map(str, generate_prime(1000000)))\n",
    "prime_set = set(prime_list)\n",
    "count = 0\n",
    "emp = []\n",
    "for i in prime_set:\n",
    "    tmp_set = string_rotation(i)\n",
    "    if tmp_set < prime_set:\n",
    "        count += 1\n",
    "print(count)"
   ]
  },
  {
   "cell_type": "code",
   "execution_count": null,
   "metadata": {},
   "outputs": [],
   "source": []
  },
  {
   "cell_type": "code",
   "execution_count": null,
   "metadata": {},
   "outputs": [],
   "source": []
  },
  {
   "cell_type": "code",
   "execution_count": null,
   "metadata": {},
   "outputs": [],
   "source": []
  }
 ],
 "metadata": {
  "kernelspec": {
   "display_name": "Python 3",
   "language": "python",
   "name": "python3"
  },
  "language_info": {
   "codemirror_mode": {
    "name": "ipython",
    "version": 3
   },
   "file_extension": ".py",
   "mimetype": "text/x-python",
   "name": "python",
   "nbconvert_exporter": "python",
   "pygments_lexer": "ipython3",
   "version": "3.7.4"
  }
 },
 "nbformat": 4,
 "nbformat_minor": 4
}
