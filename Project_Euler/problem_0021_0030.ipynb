{
 "cells": [
  {
   "cell_type": "markdown",
   "metadata": {},
   "source": [
    "# Project Euler Problem 21 ~ 30"
   ]
  },
  {
   "cell_type": "code",
   "execution_count": 1,
   "metadata": {},
   "outputs": [],
   "source": [
    "import numpy as np\n",
    "import math\n",
    "from urllib import request as ur\n",
    "import itertools\n",
    "from functools import reduce"
   ]
  },
  {
   "cell_type": "markdown",
   "metadata": {},
   "source": [
    "## Problem 21\n",
    "\n",
    "Let d(n) be defined as the sum of proper divisors of n (numbers less than n which divide evenly into n).\n",
    "If d(a) = b and d(b) = a, where a ≠ b, then a and b are an amicable pair and each of a and b are called amicable numbers.\n",
    "\n",
    "For example, the proper divisors of 220 are 1, 2, 4, 5, 10, 11, 20, 22, 44, 55 and 110; therefore d(220) = 284. The proper divisors of 284 are 1, 2, 4, 71 and 142; so d(284) = 220.\n",
    "\n",
    "Evaluate the sum of all the amicable numbers under 10000."
   ]
  },
  {
   "cell_type": "markdown",
   "metadata": {},
   "source": [
    "### Python Solution"
   ]
  },
  {
   "cell_type": "code",
   "execution_count": 2,
   "metadata": {},
   "outputs": [
    {
     "name": "stdout",
     "output_type": "stream",
     "text": [
      "31626\n",
      "CPU times: user 159 ms, sys: 5.85 ms, total: 165 ms\n",
      "Wall time: 156 ms\n"
     ]
    }
   ],
   "source": [
    "%%time\n",
    "def divisor_list(num):\n",
    "    if num < 1:\n",
    "        return None\n",
    "        \n",
    "    max_num = int(num**0.5) + 1\n",
    "    divisor = {1}\n",
    "    for i in range(2, max_num):\n",
    "        pair, remainder = divmod(num, i)\n",
    "        if remainder == 0:\n",
    "            divisor.update([i, pair])\n",
    "    return list(divisor)\n",
    "\n",
    "res = []\n",
    "for i in range(2, 10000):\n",
    "    tmp = sum(divisor_list(i))\n",
    "    res.append(tmp)\n",
    "\n",
    "target = 0    \n",
    "\n",
    "for i, j in enumerate(res):\n",
    "    if i + 2 == j or j+2 > 10000:\n",
    "        continue\n",
    "    if res[j-2] == i + 2:\n",
    "        target += i+2\n",
    "        \n",
    "print(target)            "
   ]
  },
  {
   "cell_type": "markdown",
   "metadata": {},
   "source": [
    "## Problem 22\n",
    "\n",
    "Using [names.txt](https://projecteuler.net/project/resources/p022_names.txt), a 46K text file containing over five-thousand first names, begin by sorting it into alphabetical order. Then working out the alphabetical value for each name, multiply this value by its alphabetical position in the list to obtain a name score.\n",
    "\n",
    "For example, when the list is sorted into alphabetical order, COLIN, which is worth 3 + 15 + 12 + 9 + 14 = 53, is the 938th name in the list. So, COLIN would obtain a score of 938 × 53 = 49714.\n",
    "\n",
    "What is the total of all the name scores in the file?"
   ]
  },
  {
   "cell_type": "markdown",
   "metadata": {},
   "source": [
    "### Python Solution"
   ]
  },
  {
   "cell_type": "code",
   "execution_count": 3,
   "metadata": {},
   "outputs": [
    {
     "data": {
      "text/plain": [
       "<http.client.HTTPResponse at 0x11746ce10>"
      ]
     },
     "execution_count": 3,
     "metadata": {},
     "output_type": "execute_result"
    }
   ],
   "source": [
    "target_url = 'https://projecteuler.net/project/resources/p022_names.txt'\n",
    "data = ur.urlopen(target_url)\n",
    "data"
   ]
  },
  {
   "cell_type": "code",
   "execution_count": 4,
   "metadata": {},
   "outputs": [
    {
     "data": {
      "text/plain": [
       "bytes"
      ]
     },
     "execution_count": 4,
     "metadata": {},
     "output_type": "execute_result"
    }
   ],
   "source": [
    "name_data = data.read()\n",
    "type(name_data)"
   ]
  },
  {
   "cell_type": "code",
   "execution_count": 5,
   "metadata": {},
   "outputs": [
    {
     "data": {
      "text/plain": [
       "str"
      ]
     },
     "execution_count": 5,
     "metadata": {},
     "output_type": "execute_result"
    }
   ],
   "source": [
    "type(name_data.decode('utf-8'))"
   ]
  },
  {
   "cell_type": "code",
   "execution_count": 6,
   "metadata": {},
   "outputs": [],
   "source": [
    "test_data = name_data.decode('utf-8')\n",
    "test_data = test_data.replace('\"', \"\").split(',')\n",
    "test_data.sort()"
   ]
  },
  {
   "cell_type": "code",
   "execution_count": 7,
   "metadata": {},
   "outputs": [
    {
     "name": "stdout",
     "output_type": "stream",
     "text": [
      "871198282\n"
     ]
    }
   ],
   "source": [
    "res = 0\n",
    "for i in range(0, len(test_data)):\n",
    "    name_sum = 0\n",
    "    for j in test_data[i]:\n",
    "        name_sum += ord(j) - ord('A') + 1\n",
    "    res += name_sum * (i + 1)\n",
    "print(res)   "
   ]
  },
  {
   "cell_type": "markdown",
   "metadata": {},
   "source": [
    "## Problem 23\n",
    "\n",
    "A perfect number is a number for which the sum of its proper divisors is exactly equal to the number. For example, the sum of the proper divisors of 28 would be 1 + 2 + 4 + 7 + 14 = 28, which means that 28 is a perfect number.\n",
    "\n",
    "A number n is called deficient if the sum of its proper divisors is less than n and it is called abundant if this sum exceeds n.\n",
    "\n",
    "As 12 is the smallest abundant number, 1 + 2 + 3 + 4 + 6 = 16, the smallest number that can be written as the sum of two abundant numbers is 24. By mathematical analysis, it can be shown that all integers greater than 28123 can be written as the sum of two abundant numbers. However, this upper limit cannot be reduced any further by analysis even though it is known that the greatest number that cannot be expressed as the sum of two abundant numbers is less than this limit.\n",
    "\n",
    "Find the sum of all the positive integers which cannot be written as the sum of two abundant numbers."
   ]
  },
  {
   "cell_type": "markdown",
   "metadata": {},
   "source": [
    "### Python Solution version 1"
   ]
  },
  {
   "cell_type": "code",
   "execution_count": 8,
   "metadata": {},
   "outputs": [
    {
     "name": "stdout",
     "output_type": "stream",
     "text": [
      "4179871\n",
      "CPU times: user 12.1 s, sys: 1.62 s, total: 13.7 s\n",
      "Wall time: 13.7 s\n"
     ]
    }
   ],
   "source": [
    "%%time\n",
    "def find_abundant(num):\n",
    "    max_num = int(num ** 0.5) + 1\n",
    "    divisor = {1}\n",
    "    for i in range(2, max_num):\n",
    "        pair, remainder = divmod(num, i)\n",
    "        if remainder == 0:\n",
    "            divisor.update([i, pair])\n",
    "    res = sum(divisor)\n",
    "    if res > num:\n",
    "        return True\n",
    "    else:\n",
    "        return False\n",
    "\n",
    "CONST = 28123\n",
    "abundant_list = []\n",
    "for i in range(1, CONST):\n",
    "    if find_abundant(i):\n",
    "        abundant_list.append(i)\n",
    "abundant_sum = set(map(sum, list(itertools.product(abundant_list, abundant_list))))\n",
    "res = sum(set([i for i in range(1, CONST)]) - abundant_sum)\n",
    "print(res)"
   ]
  },
  {
   "cell_type": "markdown",
   "metadata": {},
   "source": [
    "### Python その2"
   ]
  },
  {
   "cell_type": "code",
   "execution_count": 9,
   "metadata": {},
   "outputs": [
    {
     "name": "stdout",
     "output_type": "stream",
     "text": [
      "4179871\n",
      "CPU times: user 13 s, sys: 15.1 ms, total: 13 s\n",
      "Wall time: 13 s\n"
     ]
    }
   ],
   "source": [
    "%%time\n",
    "def find_abundant(num):\n",
    "    max_num = int(num ** 0.5) + 1\n",
    "    divisor = {1}\n",
    "    for i in range(2, max_num):\n",
    "        pair, remainder = divmod(num, i)\n",
    "        if remainder == 0:\n",
    "            divisor.update([i, pair])\n",
    "    res = sum(divisor)\n",
    "    if res > num:\n",
    "        return True\n",
    "    else:\n",
    "        return False\n",
    "\n",
    "CONST = 28123\n",
    "abundant_list = []\n",
    "for i in range(1, CONST):\n",
    "    if find_abundant(i):\n",
    "        abundant_list.append(i)\n",
    "        \n",
    "abundant_sum = {0}\n",
    "for i in abundant_list:\n",
    "    for j in abundant_list:\n",
    "        twosum = i + j\n",
    "        if twosum < CONST:\n",
    "            abundant_sum.update([twosum])\n",
    "\n",
    "res = sum(set([i for i in range(1, CONST)]) - abundant_sum)\n",
    "print(res)"
   ]
  },
  {
   "cell_type": "markdown",
   "metadata": {},
   "source": [
    "## Problem 24: Lexicographic permutations\n",
    "A permutation is an ordered arrangement of objects. For example, 3124 is one possible permutation of the digits 1, 2, 3 and 4. If all of the permutations are listed numerically or alphabetically, we call it lexicographic order. The lexicographic permutations of 0, 1 and 2 are:\n",
    "\n",
    "012   021   102   120   201   210\n",
    "\n",
    "What is the millionth lexicographic permutation of the digits 0, 1, 2, 3, 4, 5, 6, 7, 8 and 9?"
   ]
  },
  {
   "cell_type": "code",
   "execution_count": 10,
   "metadata": {},
   "outputs": [
    {
     "name": "stdout",
     "output_type": "stream",
     "text": [
      "2783915460\n",
      "CPU times: user 285 µs, sys: 65 µs, total: 350 µs\n",
      "Wall time: 317 µs\n"
     ]
    }
   ],
   "source": [
    "%%time\n",
    "CONST = 1000000 - 1 \n",
    "x = 10\n",
    "tmp = [i for i in range(x)]\n",
    "res = []\n",
    "while True:\n",
    "    a, remainder = divmod(CONST, math.factorial(x - 1))\n",
    "    CONST = remainder\n",
    "    x -= 1\n",
    "    res.append(tmp[a])\n",
    "    del tmp[a]\n",
    "    if remainder == 0:\n",
    "        res += tmp\n",
    "    if CONST == 0:\n",
    "        break\n",
    "print(reduce(lambda a, b: a+b, list(map(str, res))))"
   ]
  },
  {
   "cell_type": "markdown",
   "metadata": {},
   "source": [
    "## Problem 25: 1000-digit Fibonacci number\n",
    "\n",
    "The Fibonacci sequence is defined by the recurrence relation:\n",
    "```\n",
    "Fn = Fn−1 + Fn−2, where F1 = 1 and F2 = 1.\n",
    "```\n",
    "Hence the first 12 terms will be:\n",
    "```\n",
    "F1 = 1\n",
    "F2 = 1\n",
    "F3 = 2\n",
    "F4 = 3\n",
    "F5 = 5\n",
    "F6 = 8\n",
    "F7 = 13\n",
    "F8 = 21\n",
    "F9 = 34\n",
    "F10 = 55\n",
    "F11 = 89\n",
    "F12 = 144\n",
    "```\n",
    "The 12th term, F12, is the first term to contain three digits.\n",
    "\n",
    "What is the index of the first term in the Fibonacci sequence to contain 1000 digits?\n",
    "\n"
   ]
  },
  {
   "cell_type": "markdown",
   "metadata": {},
   "source": [
    "### Python Solution version 1"
   ]
  },
  {
   "cell_type": "code",
   "execution_count": 11,
   "metadata": {},
   "outputs": [
    {
     "name": "stdout",
     "output_type": "stream",
     "text": [
      "4782\n",
      "CPU times: user 32.2 ms, sys: 1.65 ms, total: 33.8 ms\n",
      "Wall time: 35.7 ms\n"
     ]
    }
   ],
   "source": [
    "%%time\n",
    "def fibonacci():\n",
    "    num = 1\n",
    "    lag_1 = 1\n",
    "    lag_2 = 1\n",
    "    while True:\n",
    "        if num == 1:\n",
    "            num += 1\n",
    "            yield 1\n",
    "        elif num == 2:\n",
    "            num += 1\n",
    "            yield 1\n",
    "        else:\n",
    "            res = lag_1 + lag_2\n",
    "            lag_1, lag_2 = lag_2, res\n",
    "            num += 1\n",
    "            yield res\n",
    "\n",
    "seq_generator = fibonacci()    \n",
    "index_num = 0\n",
    "while True:\n",
    "    fib = next(seq_generator)\n",
    "    index_num += 1\n",
    "    a = fib//(10 ** (1000 - 1))\n",
    "    if a > 0:\n",
    "        break\n",
    "print(index_num)"
   ]
  },
  {
   "cell_type": "markdown",
   "metadata": {},
   "source": [
    "### Python Solution version 2"
   ]
  },
  {
   "cell_type": "code",
   "execution_count": 12,
   "metadata": {},
   "outputs": [
    {
     "name": "stdout",
     "output_type": "stream",
     "text": [
      "4782\n",
      "CPU times: user 34 ms, sys: 1.71 ms, total: 35.7 ms\n",
      "Wall time: 42.7 ms\n"
     ]
    }
   ],
   "source": [
    "%%time\n",
    "def fibonacci():\n",
    "    lag_1 = 1\n",
    "    lag_2 = 1\n",
    "    while True:\n",
    "        yield lag_1\n",
    "        lag_1, lag_2 = lag_2, lag_1 + lag_2\n",
    "\n",
    "seq_generator = fibonacci()    \n",
    "index_num = 0\n",
    "while True:\n",
    "    fib = next(seq_generator)\n",
    "    index_num += 1\n",
    "    a = fib//(10 ** (1000 - 1))\n",
    "    if a > 0:\n",
    "        break\n",
    "print(index_num)"
   ]
  },
  {
   "cell_type": "markdown",
   "metadata": {},
   "source": [
    "## Problem 26: Reciprocal cycles\n",
    "\n",
    "A unit fraction contains 1 in the numerator. The decimal representation of the unit fractions with denominators 2 to 10 are given:\n",
    "\n",
    "```\n",
    "\n",
    "1/2\t= \t0.5\n",
    "1/3\t= \t0.(3)\n",
    "1/4\t= \t0.25\n",
    "1/5\t= \t0.2\n",
    "1/6\t= \t0.1(6)\n",
    "1/7\t= \t0.(142857)\n",
    "1/8\t= \t0.125\n",
    "1/9\t= \t0.(1)\n",
    "1/10　　= \t0.1\n",
    "```\n",
    "\n",
    "Where 0.1(6) means 0.166666..., and has a 1-digit recurring cycle. It can be seen that 1/7 has a 6-digit recurring cycle.\n",
    "\n",
    "Find the value of d < 1000 for which 1/d contains the longest recurring cycle in its decimal fraction part.\n"
   ]
  },
  {
   "cell_type": "markdown",
   "metadata": {},
   "source": [
    "### Python Solution"
   ]
  },
  {
   "cell_type": "code",
   "execution_count": 13,
   "metadata": {},
   "outputs": [],
   "source": [
    "def find_reciprocal(num):\n",
    "    res = []\n",
    "    remainder = []\n",
    "    b = 1\n",
    "    i = 0\n",
    "    while True:\n",
    "        a, b = divmod(b*10, num)\n",
    "        if [a, b] in remainder:\n",
    "            return i\n",
    "        remainder.append([a, b])\n",
    "        i += 1"
   ]
  },
  {
   "cell_type": "code",
   "execution_count": 14,
   "metadata": {},
   "outputs": [
    {
     "name": "stdout",
     "output_type": "stream",
     "text": [
      "982 983\n"
     ]
    }
   ],
   "source": [
    "res = 0\n",
    "target_index = 0\n",
    "for i in range(1, 1000):\n",
    "    tmp = find_reciprocal(i)\n",
    "    if tmp > res:\n",
    "        res = tmp\n",
    "        target_index = i\n",
    "print(res, target_index)"
   ]
  },
  {
   "cell_type": "markdown",
   "metadata": {},
   "source": [
    "## Problem 27: \n",
    "\n",
    "Euler discovered the remarkable quadratic formula:\n",
    "\n",
    "$$\n",
    "n^2+n+41\n",
    "$$\n",
    "\n",
    "It turns out that the formula will produce 40 primes for the consecutive integer values `0≤n≤39`. \n",
    "However, when n=40,\n",
    "\n",
    "$$\n",
    "40^2+40+41=40(40+1)+41\n",
    "$$\n",
    "\n",
    "is divisible by 41, and certainly when n=41,\n",
    "\n",
    "$$\n",
    "41^2+41+41\n",
    "$$\n",
    "\n",
    "is clearly divisible by 41.\n",
    "\n",
    "The incredible formula \n",
    "$$\n",
    "n^2−79n+1601\n",
    "$$\n",
    "\n",
    "was discovered, which produces 80 primes for the consecutive values `0≤n≤79`. \n",
    "The product of the coefficients, −79 and 1601, is −126479.\n",
    "\n",
    "Considering quadratics of the form:\n",
    "\n",
    "$$\n",
    "n^2+an+b\n",
    "$$\n",
    ", where $|a|<1000$ and $|b|≤1000$\n",
    "\n",
    "where $|n|$ is the modulus/absolute value of n\n",
    "\n",
    "e.g. \n",
    "```\n",
    "|11|=11\n",
    "```\n",
    "and \n",
    "```\n",
    "|−4|=4\n",
    "```\n",
    "\n",
    "Find the product of the coefficients, `a` and `b`, for the quadratic expression that produces the maximum number of primes for consecutive values of `n`, starting with n=0"
   ]
  },
  {
   "cell_type": "markdown",
   "metadata": {},
   "source": [
    "### Python Solution"
   ]
  },
  {
   "cell_type": "code",
   "execution_count": 15,
   "metadata": {},
   "outputs": [
    {
     "name": "stdout",
     "output_type": "stream",
     "text": [
      "-59231\n",
      "CPU times: user 5.63 s, sys: 6.67 ms, total: 5.64 s\n",
      "Wall time: 5.65 s\n"
     ]
    }
   ],
   "source": [
    "%%time\n",
    "def is_prime(num):\n",
    "    if num < 0 or num % 2 == 0:\n",
    "        return False\n",
    "    max_count = int(num ** 0.5) + 1\n",
    "    for i in range(3, num, 2):\n",
    "        if num % i == 0:\n",
    "            return False\n",
    "    return True\n",
    "\n",
    "def count_primes(a, b):\n",
    "    count = 0\n",
    "    n = 0\n",
    "    while True:\n",
    "        num = n**2 + a*n + b\n",
    "        if is_prime(num):\n",
    "            count += 1\n",
    "            n += 1\n",
    "        else:\n",
    "            return count\n",
    "\n",
    "res = 1\n",
    "coef = []\n",
    "for j in range(-999, 1000):\n",
    "    for i in range(int((2-j-res*res)/res) , 1000):\n",
    "        tmp = count_primes(i, j)\n",
    "        if tmp > res:\n",
    "            res = tmp\n",
    "            coef = [i, j]\n",
    "\n",
    "print(coef[0]*coef[1])"
   ]
  },
  {
   "cell_type": "markdown",
   "metadata": {},
   "source": [
    "## Problem 28: Number spiral diagonals\n",
    "\n",
    "Starting with the number 1 and moving to the right in a clockwise direction a 5 by 5 spiral is formed as follows:\n",
    "\n",
    "```\n",
    "21 22 23 24 25\n",
    "20  7  8  9 10\n",
    "19  6  1  2 11\n",
    "18  5  4  3 12\n",
    "17 16 15 14 13\n",
    "```\n",
    "\n",
    "It can be verified that the sum of the numbers on the diagonals is 101.\n",
    "What is the sum of the numbers on the diagonals in a 1001 by 1001 spiral formed in the same way?"
   ]
  },
  {
   "cell_type": "markdown",
   "metadata": {},
   "source": [
    "### Python Solution"
   ]
  },
  {
   "cell_type": "code",
   "execution_count": 16,
   "metadata": {},
   "outputs": [
    {
     "name": "stdout",
     "output_type": "stream",
     "text": [
      "CPU times: user 473 µs, sys: 0 ns, total: 473 µs\n",
      "Wall time: 481 µs\n"
     ]
    },
    {
     "data": {
      "text/plain": [
       "669171001"
      ]
     },
     "execution_count": 16,
     "metadata": {},
     "output_type": "execute_result"
    }
   ],
   "source": [
    "%%time\n",
    "max_row = 1001\n",
    "diag_sum = sum([i**2 * 4 - (i-1)*6 for i in range(3, max_row + 1, 2)]) + 1\n",
    "diag_sum"
   ]
  },
  {
   "cell_type": "markdown",
   "metadata": {},
   "source": [
    "## Problem 29\n",
    "\n",
    "Consider all integer combinations of $a^b$ for `2 ≤ a ≤ 5 and 2 ≤ b ≤ 5`:\n",
    "$$\n",
    "2^2=4, 2^3=8,  2^4=16,  2^5=32\n",
    "3^2=9, 3^3=27, 3^4=81,  3^5=243\n",
    "4^2=16,4^3=64, 4^4=256, 4^5=1024\n",
    "5^2=25,5^3=125,5^4=625, 5^5=3125\n",
    "$$\n",
    "\n",
    "If they are then placed in numerical order, with any repeats removed, we get the following sequence of 15 distinct terms:\n",
    "\n",
    "```\n",
    "4, 8, 9, 16, 25, 27, 32, 64, 81, 125, 243, 256, 625, 1024, 3125\n",
    "```\n",
    "\n",
    "How many distinct terms are in the sequence generated by $a^b$ for `2 ≤ a ≤ 100 and 2 ≤ b ≤ 100`\n"
   ]
  },
  {
   "cell_type": "markdown",
   "metadata": {},
   "source": [
    "### Python Solution"
   ]
  },
  {
   "cell_type": "code",
   "execution_count": 17,
   "metadata": {},
   "outputs": [
    {
     "data": {
      "text/plain": [
       "9183"
      ]
     },
     "execution_count": 17,
     "metadata": {},
     "output_type": "execute_result"
    }
   ],
   "source": [
    "res = set()\n",
    "max_num = 101\n",
    "for a in range(2, max_num):\n",
    "    for b in range(2, max_num):\n",
    "        res.add(a**b)\n",
    "len(res)"
   ]
  },
  {
   "cell_type": "markdown",
   "metadata": {},
   "source": [
    "### Problem 30 : Digit fifth powers\n",
    "\n",
    "Surprisingly there are only three numbers that can be written as the sum of fourth powers of their digits:\n",
    "\n",
    "$$\n",
    "\\begin{aligned}\n",
    "1634 &= 1^4 + 6^4 + 3^4 + 4^4 \\\\\n",
    "8208 &= 8^4 + 2^4 + 0^4 + 8^4 \\\\\n",
    "9474 &= 9^4 + 4^4 + 7^4 + 4^4 \n",
    "\\end{aligned}\n",
    "$$\n",
    "\n",
    "As $1 = 1^4$ is not a sum it is not included.\n",
    "\n",
    "The sum of these numbers is 1634 + 8208 + 9474 = 19316.\n",
    "\n",
    "Find the sum of all the numbers that can be written as the sum of fifth powers of their digits."
   ]
  },
  {
   "cell_type": "markdown",
   "metadata": {},
   "source": [
    "### Python Solution\n",
    "\n",
    "桁数をdとすると\n",
    "\n",
    "$$\n",
    "d\\times 9^5 < 10^d\n",
    "$$\n",
    "を満たさなくてはならない\n",
    "\n",
    "さらに、lower boundとして\n",
    "\n",
    "$$\n",
    "d\\times 9^d > 10^{d-1}\n",
    "$$\n",
    "\n",
    "\n",
    "よって、\n",
    "\n",
    "\n"
   ]
  },
  {
   "cell_type": "code",
   "execution_count": 18,
   "metadata": {},
   "outputs": [
    {
     "name": "stdout",
     "output_type": "stream",
     "text": [
      "6\n"
     ]
    }
   ],
   "source": [
    "for d in range(2, 10):\n",
    "    if d - 1 < math.log10(d) + 5*math.log10(9) < d:\n",
    "        max_digit = d\n",
    "print(max_digit)"
   ]
  },
  {
   "cell_type": "code",
   "execution_count": 19,
   "metadata": {},
   "outputs": [
    {
     "name": "stdout",
     "output_type": "stream",
     "text": [
      "443839\n",
      "CPU times: user 4.19 s, sys: 9.31 ms, total: 4.2 s\n",
      "Wall time: 4.21 s\n"
     ]
    }
   ],
   "source": [
    "%%time\n",
    "res = 0\n",
    "power_num = 5\n",
    "for i in range(10, 10**(max_digit)):\n",
    "    tmp = 0\n",
    "    val = i\n",
    "    while val > 0:\n",
    "        val, remainder = divmod(val, 10)\n",
    "        tmp += remainder ** power_num\n",
    "    if tmp == i:\n",
    "        res += i\n",
    "print(res)"
   ]
  }
 ],
 "metadata": {
  "kernelspec": {
   "display_name": "Python 3",
   "language": "python",
   "name": "python3"
  },
  "language_info": {
   "codemirror_mode": {
    "name": "ipython",
    "version": 3
   },
   "file_extension": ".py",
   "mimetype": "text/x-python",
   "name": "python",
   "nbconvert_exporter": "python",
   "pygments_lexer": "ipython3",
   "version": "3.7.4"
  }
 },
 "nbformat": 4,
 "nbformat_minor": 4
}
