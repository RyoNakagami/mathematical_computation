{
 "cells": [
  {
   "cell_type": "markdown",
   "metadata": {},
   "source": [
    "# 第一章:数列と極限"
   ]
  },
  {
   "cell_type": "markdown",
   "metadata": {},
   "source": [
    "### Hardware"
   ]
  },
  {
   "cell_type": "code",
   "execution_count": 1,
   "metadata": {},
   "outputs": [
    {
     "name": "stdout",
     "output_type": "stream",
     "text": [
      "      Model Identifier: MacBookPro13,1\n",
      "      Processor Name: Dual-Core Intel Core i5\n",
      "      Processor Speed: 2 GHz\n",
      "      Number of Processors: 1\n",
      "      Memory: 16 GB\n"
     ]
    }
   ],
   "source": [
    "%%bash\n",
    "system_profiler SPHardwareDataType | grep -E \\\n",
    "\"Model Identifier\"\\|\"Processor Name\"\\|\"Processor Speed\"\\\n",
    "\\|\"Number of Processors\"\\|\"Memory:\""
   ]
  },
  {
   "cell_type": "markdown",
   "metadata": {},
   "source": [
    "### Python"
   ]
  },
  {
   "cell_type": "code",
   "execution_count": 2,
   "metadata": {},
   "outputs": [
    {
     "name": "stdout",
     "output_type": "stream",
     "text": [
      "Python 3.7.4\n"
     ]
    }
   ],
   "source": [
    "!python -V"
   ]
  },
  {
   "cell_type": "markdown",
   "metadata": {},
   "source": [
    "### Import"
   ]
  },
  {
   "cell_type": "code",
   "execution_count": 250,
   "metadata": {},
   "outputs": [],
   "source": [
    "import numpy as np\n",
    "import matplotlib.pyplot as plt\n",
    "import itertools"
   ]
  },
  {
   "cell_type": "markdown",
   "metadata": {},
   "source": [
    "## 1. 実数の性質\n",
    "### 定理：連続する整数は互いに素\n",
    "\n",
    "```\n",
    "連続する二つの整数：n と n+1，は互いに素である。\n",
    "```\n",
    "\n",
    "#### 証明\n",
    "\n",
    "- 背理法で証明する。 \n",
    "- n と n+1 が互いに素でないと仮定する。\n",
    "- このとき、n と n+1 の両方を割り切る整数p($\\geq 2$)が存在する\n",
    "\n",
    "p の倍数どうしの差も p の倍数なので，$(n+1)−n=1$も p の倍数となる。これは $p\\geq2$ に矛盾"
   ]
  },
  {
   "cell_type": "markdown",
   "metadata": {},
   "source": [
    "### 問題 1.1 :無理数\n",
    "#### (1) $\\sqrt 6$は無理数であることを示せ\n",
    "\n",
    "[解]\n",
    "\n",
    "Suppose $\\sqrt 6$ can be written as \n",
    "$$\n",
    "\\sqrt 6 = \\frac{p}{q} \\text{ where } p, q \\in \\mathbb Z \\text{ and, p and q are co-prime} \n",
    "$$\n",
    "\n",
    "Let us power both sides by 2, then we have\n",
    "\n",
    "$$\n",
    "6 = p^2/q^2 \\Rightarrow 6q^2 = p^2\n",
    "$$\n",
    "\n",
    "Then,\n",
    "\n",
    "$$\n",
    "\\begin{aligned}\n",
    "p^2 &\\propto 2\\\\\n",
    "p^2 &\\propto 3\\\\\n",
    "\\end{aligned}\n",
    "$$\n",
    "\n",
    "Then, \n",
    "\n",
    "$$\n",
    "\\begin{aligned}\n",
    "p &\\propto 2\\\\\n",
    "p &\\propto 3\\\\\n",
    "\\end{aligned}\n",
    "$$\n",
    "\n",
    "Then,\n",
    "\n",
    "$$\n",
    "\\begin{aligned}\n",
    "p^2 &\\propto 4\\\\\n",
    "p^2 &\\propto 9\\\\\n",
    "\\end{aligned}\n",
    "$$\n",
    "\n",
    "Recall that $6q^2 = p^2$\n",
    "\n",
    "Then,\n",
    "\n",
    "$$\n",
    "\\begin{aligned}\n",
    "q^2 &\\propto 2\\\\\n",
    "q^2 &\\propto 3\\\\\n",
    "\\end{aligned}\n",
    "$$\n",
    "\n",
    "Similarly,\n",
    "\n",
    "$$\n",
    "\\begin{aligned}\n",
    "q &\\propto 2\\\\\n",
    "q &\\propto 3\\\\\n",
    "\\end{aligned}\n",
    "$$\n",
    "\n",
    "\n",
    "It contradicts with the assumption that p and q are co-primes. \n"
   ]
  },
  {
   "cell_type": "markdown",
   "metadata": {},
   "source": [
    "#### (2) $\\sqrt 2 + \\sqrt 3$は無理数であることを示せ\n",
    "\n",
    "[解]\n",
    "\n",
    "$\\sqrt 2 + \\sqrt 3 = \\frac{p}{q}$と有理数で表現できるとする。このとき、\n",
    "\n",
    "$$\n",
    "\\frac{p^2}{q^2} = 2 + 3 + 2 \\sqrt{6} = 5 + \\sqrt{6}\n",
    "$$\n",
    "\n",
    "よって、$p/q$は無理数となるがこれは仮定に矛盾する。\n"
   ]
  },
  {
   "cell_type": "markdown",
   "metadata": {},
   "source": [
    "#### (3) nが自然数のとき$\\sqrt n + \\sqrt{n+1}$は無理数であることを示せ\n",
    "\n",
    "$\\sqrt{n(n+1)}$が無理数であることを示せば十分。\n",
    "\n",
    "$$\n",
    "\\sqrt{n(n+1)} = \\frac{p}{q}\n",
    "$$\n",
    "\n",
    "とpとqが互いに素の有理数で表せるとする。\n",
    "\n",
    "このとき,\n",
    "\n",
    "$$\n",
    "\\begin{aligned}\n",
    "p^2 &\\propto n\\\\\n",
    "p^2 &\\propto n+1\\\\\n",
    "\\end{aligned}\n",
    "$$\n",
    "\n",
    "nとn+1は互いに素なので\n",
    "\n",
    "$$\n",
    "\\begin{aligned}\n",
    "p &\\propto n\\\\\n",
    "p &\\propto n+1\\\\\n",
    "\\end{aligned}\n",
    "$$\n",
    "\n",
    "同様に\n",
    "\n",
    "$$\n",
    "\\begin{aligned}\n",
    "q &\\propto n\\\\\n",
    "q &\\propto n+1\\\\\n",
    "\\end{aligned}\n",
    "$$\n",
    "\n",
    "よって$\\sqrt{n(n+1)}$は無理数。"
   ]
  },
  {
   "cell_type": "markdown",
   "metadata": {},
   "source": [
    "### 問題 1.2\n",
    "自然数m, nで$mn = 4m + 4n$となるものを求めよ\n",
    "\n",
    "#### 解\n",
    "\n",
    "$$\n",
    "(m-4)(n-4) = mn - 4n - 4m + 16\n",
    "$$\n",
    "\n",
    "$mn = 4m + 4n$より$(m-4)(n-4) = 16$\n",
    "\n",
    "Then, $(m, n) \\in \\{(5, 20), (6, 12), (8, 8), (12, 6), (20, 5)\\}$"
   ]
  },
  {
   "cell_type": "markdown",
   "metadata": {},
   "source": [
    "#### Python Solution with numpy array"
   ]
  },
  {
   "cell_type": "code",
   "execution_count": 18,
   "metadata": {},
   "outputs": [
    {
     "data": {
      "text/plain": [
       "[[5, 20], [6, 12], [8, 8], [12, 6], [20, 5]]"
      ]
     },
     "execution_count": 18,
     "metadata": {},
     "output_type": "execute_result"
    }
   ],
   "source": [
    "A = np.arange(1, 17)\n",
    "A = A.reshape(len(A), -1)\n",
    "B = A @ A.T\n",
    "x, y = np.where(B == 16)\n",
    "res = []\n",
    "\n",
    "for i in range(len(x)):\n",
    "    tmp = [x[i]+5, y[i]+5]\n",
    "    res.append(tmp)\n",
    "res"
   ]
  },
  {
   "cell_type": "markdown",
   "metadata": {},
   "source": [
    "### 1.3 \n",
    "\n",
    "正多面体の各面がa角形で、各頂点に集まる辺の数をb, 辺の総数をlとすると、正多面体のa, b, lの関係式は\n",
    "\n",
    "$$\n",
    "\\frac{2}{a} + \\frac{2}{b} = 1 + \\frac{2}{l}\n",
    "$$\n",
    "\n",
    "と知られている。この式を用いて、正多面体全て求めよ\n",
    "\n",
    "#### 解\n",
    "\n",
    "問題文より\n",
    "\n",
    "$$\n",
    "\\frac{2}{a} + \\frac{2}{b} > 1 \n",
    "$$\n",
    "\n",
    "Then,\n",
    "\n",
    "$$\n",
    "2a + 2b > ab\n",
    "$$\n",
    "\n",
    "このとき\n",
    "\n",
    "$$\n",
    "(a - 2)(b - 2) = ab - 2a - 2b + 4\n",
    "$$\n",
    "\n",
    "を用いると、\n",
    "\n",
    "$$\n",
    "(a - 2)(b - 2) < 4\n",
    "$$\n",
    "\n",
    "よって、$(a, b) \\in \\{(3, 3), (3, 4), (3, 5), (4, 3), (5, 3)\\}$\n",
    "\n",
    "$$\n",
    "\\frac{2}{a} + \\frac{2}{b} = 1 + \\frac{2}{l}\n",
    "$$\n",
    "\n",
    "とmを面の数としたとき, $am = 2l$を用いると\n",
    "\n",
    "$(a, b, l, m) \\in \\{(3, 3, 6, 4), (3, 4, 12, 8), (3, 5, 30, 20), (4, 3, 12, 6), (5, 3, 30, 12)\\}$\n",
    "\n"
   ]
  },
  {
   "cell_type": "markdown",
   "metadata": {},
   "source": [
    "#### 正二十面体と頂点\n",
    "\n",
    "12個の頂点はGを黄金比とすると\n",
    "\n",
    "- (±1,±G,0)\n",
    "- (0,±1,±G)\n",
    "- (±G,0,±1)\n",
    "\n",
    "と知られている。"
   ]
  },
  {
   "cell_type": "code",
   "execution_count": null,
   "metadata": {},
   "outputs": [],
   "source": []
  },
  {
   "cell_type": "code",
   "execution_count": null,
   "metadata": {},
   "outputs": [],
   "source": []
  }
 ],
 "metadata": {
  "kernelspec": {
   "display_name": "Python 3",
   "language": "python",
   "name": "python3"
  },
  "language_info": {
   "codemirror_mode": {
    "name": "ipython",
    "version": 3
   },
   "file_extension": ".py",
   "mimetype": "text/x-python",
   "name": "python",
   "nbconvert_exporter": "python",
   "pygments_lexer": "ipython3",
   "version": "3.7.4"
  }
 },
 "nbformat": 4,
 "nbformat_minor": 4
}
