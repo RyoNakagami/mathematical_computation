{
 "cells": [
  {
   "cell_type": "markdown",
   "metadata": {},
   "source": [
    "# Eigenvalues and Eigenvectors Introduction　\n",
    "## Agenda\n",
    "- 固有値と固有ベクトル\n",
    "- 正方行列の正則行列による対角化"
   ]
  },
  {
   "cell_type": "markdown",
   "metadata": {},
   "source": [
    "### Hardware"
   ]
  },
  {
   "cell_type": "code",
   "execution_count": 1,
   "metadata": {},
   "outputs": [
    {
     "name": "stdout",
     "output_type": "stream",
     "text": [
      "      Model Identifier: MacBookPro13,1\n",
      "      Processor Name: Dual-Core Intel Core i5\n",
      "      Processor Speed: 2 GHz\n",
      "      Number of Processors: 1\n",
      "      Memory: 16 GB\n"
     ]
    }
   ],
   "source": [
    "%%bash\n",
    "system_profiler SPHardwareDataType | grep -E \\\n",
    "\"Model Identifier\"\\|\"Processor Name\"\\|\"Processor Speed\"\\\n",
    "\\|\"Number of Processors\"\\|\"Memory:\""
   ]
  },
  {
   "cell_type": "code",
   "execution_count": 2,
   "metadata": {},
   "outputs": [
    {
     "name": "stdout",
     "output_type": "stream",
     "text": [
      "ProductName:\tMac OS X\n",
      "ProductVersion:\t10.15.4\n",
      "BuildVersion:\t19E287\n"
     ]
    }
   ],
   "source": [
    "!sw_vers"
   ]
  },
  {
   "cell_type": "markdown",
   "metadata": {},
   "source": [
    "### Python"
   ]
  },
  {
   "cell_type": "code",
   "execution_count": 3,
   "metadata": {},
   "outputs": [
    {
     "name": "stdout",
     "output_type": "stream",
     "text": [
      "Python 3.7.4\n"
     ]
    }
   ],
   "source": [
    "!python -V"
   ]
  },
  {
   "cell_type": "markdown",
   "metadata": {},
   "source": [
    "### Install packages"
   ]
  },
  {
   "cell_type": "code",
   "execution_count": 4,
   "metadata": {},
   "outputs": [],
   "source": [
    "pass"
   ]
  },
  {
   "cell_type": "markdown",
   "metadata": {},
   "source": [
    "### Import"
   ]
  },
  {
   "cell_type": "code",
   "execution_count": 5,
   "metadata": {},
   "outputs": [],
   "source": [
    "import numpy as np\n",
    "from functools import reduce\n",
    "import sympy \n",
    "import matplotlib.pyplot as plt"
   ]
  },
  {
   "cell_type": "markdown",
   "metadata": {},
   "source": [
    "### 関数"
   ]
  },
  {
   "cell_type": "code",
   "execution_count": 6,
   "metadata": {},
   "outputs": [],
   "source": [
    "pass"
   ]
  },
  {
   "cell_type": "markdown",
   "metadata": {},
   "source": [
    "## 1. 固有値と固有ベクトル\n",
    "\n",
    "$$\n",
    "A = [a_{ij}]\n",
    "$$\n",
    "\n",
    "はn次正方行列とする。\n",
    "\n",
    "- 固有値とは、$A\\mathbf x = \\lambda \\mathbf x, \\mathbf x \\neq 0$を満たすn次元列ベクトル$\\mathbf x$が存在するような$\\lambda$のこと\n",
    "- 固有ベクトルとは、各固有値に対応する$A\\mathbf x = \\lambda \\mathbf x, \\mathbf x \\neq 0$を満たすn次元列ベクトル$\\mathbf x$\n",
    "- 固有値は、一般には複数あるが、dimA 個以下\n",
    "\n",
    "\n",
    "### 定義\n",
    "\n",
    "ゼロでないベクトル $v \\in \\mathbb C^n$に対して、$Av = \\lambda v$となるような複素数$\\lambda \\in \\mathbb C$が存在するとき、$\\lambda$をAの固有値、$v$をAの固有ベクトルと呼ぶ。\n",
    "\n",
    "### REMARKS\n",
    "\n",
    "- 固有値と固有ベクトルは必ず組になって現れる\n"
   ]
  },
  {
   "cell_type": "markdown",
   "metadata": {},
   "source": [
    "### 例題1\n",
    "\n",
    "$$\n",
    "A =\\left[\\begin{array}{ccc}\n",
    "3 & -5 & -5\\\\\n",
    "-1 & 7 & 5\\\\\n",
    "1 & -9 & -7\n",
    "\\end{array}\\right]\n",
    "$$\n",
    "の固有値と固有ベクトル(normは1に揃えよ)を求めよ。"
   ]
  },
  {
   "cell_type": "markdown",
   "metadata": {},
   "source": [
    "[解答]\n",
    "\n",
    "Aの固有方程式$\\varphi(t)$は\n",
    "\n",
    "$$\n",
    "\\varphi(t) = |A - tI_n| =\\left|\\begin{array}{ccc}\n",
    "3-t & -5 & -5\\\\\n",
    "-1 & 7-t & 5\\\\\n",
    "1 & -9 & -7-t\n",
    "\\end{array}\\right|\n",
    "$$\n",
    "\n"
   ]
  },
  {
   "cell_type": "code",
   "execution_count": 7,
   "metadata": {},
   "outputs": [
    {
     "name": "stdout",
     "output_type": "stream",
     "text": [
      "eigenvalues are [-2, 2, 3]\n"
     ]
    }
   ],
   "source": [
    "t = sympy.Symbol('t')\n",
    "expr = (3-t)*(7-t)*(-7-t)-70 + 5*(7-t) - 5*(-7-t) + 45 *(3- t)\n",
    "print('eigenvalues are' , sympy.solve(expr))"
   ]
  },
  {
   "cell_type": "markdown",
   "metadata": {},
   "source": [
    "対応する固有ベクトルの計算(-2を例とする)は"
   ]
  },
  {
   "cell_type": "markdown",
   "metadata": {},
   "source": [
    "$$\n",
    "\\left[\\begin{array}{ccc}\n",
    "5 & -5 & -5\\\\\n",
    "-1 & 9 & 5\\\\\n",
    "1 & -9 & -5\n",
    "\\end{array}\\right]\\mathbf x = 0\n",
    "$$\n",
    "\n",
    "\n",
    "よって、\n",
    "$$\n",
    "\\begin{aligned}\n",
    "5x_1 - 5x_2 - 5x_3 &= 0\\\\\n",
    "-x_1 + 9x_2 + 5x_3 &= 0\n",
    "\\end{aligned}\n",
    "$$\n",
    "\n",
    "Then,\n",
    "$$\n",
    "\\mathbf x = \\frac{1}{\\sqrt 6}(1, -1,  2)^T\n",
    "$$\n"
   ]
  },
  {
   "cell_type": "markdown",
   "metadata": {},
   "source": [
    "### 固有方程式の根と係数の関係\n",
    "$[\\lambda_1, ..., \\lambda_n]$を$A = [a_{ij}]$の固有値とすると\n",
    "\n",
    "$$\n",
    "\\begin{aligned}\n",
    "\\Sigma \\lambda_i &= tr(A)\\\\\n",
    "\\Pi \\lambda_i & = |A|\n",
    "\\end{aligned}\n",
    "$$\n",
    "\n",
    "[証明]\n",
    "\n",
    "$$\n",
    "\\varphi(t) = |A - t I_n| = (-1)^nt^n + (-1)^{n-1}t^{n-1}tr(A) + ... - \\left(\\sum_{i=1}^n \\text{det } A_{i, i}\\right)t + \\text{det }A\n",
    "$$\n",
    "\n",
    "一方、Aの固有値は固有方程式の解なので\n",
    "\n",
    "$$\n",
    "\\varphi(t) = (-1)^n(t - \\lambda_1)...(t - \\lambda_n)\n",
    "$$\n",
    "\n",
    "よって係数比較より自明。"
   ]
  },
  {
   "cell_type": "markdown",
   "metadata": {},
   "source": [
    "### 正則条件\n",
    "\n",
    "<img src = 'https://github.com/RyoNakagami/omorikaizuka/blob/master/algorithm/固有値正則条件.jpg?raw=true'>"
   ]
  },
  {
   "cell_type": "markdown",
   "metadata": {},
   "source": [
    "### Pythonで確認"
   ]
  },
  {
   "cell_type": "code",
   "execution_count": 8,
   "metadata": {},
   "outputs": [],
   "source": [
    "def eigenvalue_check(A):\n",
    "    w, v = np.linalg.eig(A)\n",
    "    res_1 = np.allclose(sum(w),np.trace(A))\n",
    "    res_2 = np.allclose(reduce(lambda a, b: a*b, w), np.linalg.det(A))\n",
    "    print(' trace check :', res_1, '\\n','determinant check: ', res_2)"
   ]
  },
  {
   "cell_type": "code",
   "execution_count": 9,
   "metadata": {},
   "outputs": [
    {
     "name": "stdout",
     "output_type": "stream",
     "text": [
      " trace check : True \n",
      " determinant check:  True\n"
     ]
    }
   ],
   "source": [
    "A = np.array([[9,10],[-6,-7]])\n",
    "eigenvalue_check(A)"
   ]
  },
  {
   "cell_type": "code",
   "execution_count": 10,
   "metadata": {},
   "outputs": [
    {
     "name": "stdout",
     "output_type": "stream",
     "text": [
      " trace check : True \n",
      " determinant check:  True\n"
     ]
    }
   ],
   "source": [
    "A = np.array([[11,9],[-4,-1]])\n",
    "eigenvalue_check(A)"
   ]
  },
  {
   "cell_type": "code",
   "execution_count": 11,
   "metadata": {},
   "outputs": [
    {
     "name": "stdout",
     "output_type": "stream",
     "text": [
      " trace check : True \n",
      " determinant check:  True\n"
     ]
    }
   ],
   "source": [
    "A = np.array([[5,-7, -7],[-4, 8, 7], [4, -10, -9]])\n",
    "eigenvalue_check(A)"
   ]
  },
  {
   "cell_type": "code",
   "execution_count": 12,
   "metadata": {},
   "outputs": [
    {
     "name": "stdout",
     "output_type": "stream",
     "text": [
      " trace check : True \n",
      " determinant check:  True\n"
     ]
    }
   ],
   "source": [
    "A = np.random.randint(10, 100, 9).reshape(3,3)\n",
    "eigenvalue_check(A)"
   ]
  },
  {
   "cell_type": "markdown",
   "metadata": {},
   "source": [
    "### 転置行列と固有多項式\n",
    "\n",
    "$$\n",
    "|A - \\lambda I_n| = |(A - \\lambda I_n)^T| = |A^T - \\lambda I_n|\n",
    "$$\n",
    "\n",
    "より、転置行列の固有多項式は一致する。\n"
   ]
  },
  {
   "cell_type": "markdown",
   "metadata": {},
   "source": [
    "## 2. Diagonalization(対角化)\n",
    "\n",
    "n次正方行列Aに対して、正則行列Pを適当に選んで、$D = P^{-1}AP$とすると、$D$はAの対角化行列となる。\n",
    "\n",
    "### 対角化条件\n",
    "\n",
    "n次正方行列Aが対角化可能な必要十分条件は、Aがn個の線形独立な固有ベクトルを有することである\n",
    "\n",
    "#### Example\n",
    "\n",
    "2次正方行列Aに対して,$\\{v, u\\}\\in \\mathbf C^2$という固有ベクトルが与えられているとする. このとき、\n",
    "\n",
    "$$\n",
    "P = (v, u)\n",
    "$$\n",
    "とすると、\n",
    "\n",
    "$$\n",
    "P^{-1}AP = \\Lambda = \\left(\\begin{array}{cc}\\lambda_v & 0\\\\ 0 & \\lambda_u \\end{array}\\right)\n",
    "$$\n"
   ]
  },
  {
   "cell_type": "markdown",
   "metadata": {},
   "source": [
    "### Pythonで実行"
   ]
  },
  {
   "cell_type": "code",
   "execution_count": 13,
   "metadata": {},
   "outputs": [
    {
     "name": "stdout",
     "output_type": "stream",
     "text": [
      "[[0.2 0.4 0.2]\n",
      " [0.7 0.5 0.6]\n",
      " [0.1 0.1 0.2]]\n"
     ]
    }
   ],
   "source": [
    "### ３次正方行列の設定\n",
    "A = np.array([[0.2,0.7, 0.1],[0.4,0.5, 0.1], [0.2, 0.6, 0.2]]).T\n",
    "print(A)"
   ]
  },
  {
   "cell_type": "code",
   "execution_count": 14,
   "metadata": {},
   "outputs": [
    {
     "name": "stdout",
     "output_type": "stream",
     "text": [
      "[ 1.  -0.2  0.1] \n",
      "\n",
      " [[-4.74054679e-01 -7.07106781e-01 -5.34522484e-01]\n",
      " [-8.64452649e-01  7.07106781e-01 -2.67261242e-01]\n",
      " [-1.67313416e-01  2.67621717e-17  8.01783726e-01]]\n"
     ]
    }
   ],
   "source": [
    "### 固有値固有ベクトルの計算\n",
    "w, v = np.linalg.eig(A)\n",
    "print(w,'\\n\\n', v)"
   ]
  },
  {
   "cell_type": "code",
   "execution_count": 15,
   "metadata": {},
   "outputs": [
    {
     "data": {
      "text/plain": [
       "array([[ 1. ,  0. ,  0. ],\n",
       "       [ 0. , -0.2,  0. ],\n",
       "       [ 0. ,  0. ,  0.1]])"
      ]
     },
     "execution_count": 15,
     "metadata": {},
     "output_type": "execute_result"
    }
   ],
   "source": [
    "### 対角化\n",
    "D = np.linalg.inv(v)@A@v\n",
    "D_1 = np.where(abs(D) > 1e-15, D, 0)\n",
    "D_1"
   ]
  },
  {
   "cell_type": "markdown",
   "metadata": {},
   "source": [
    "固有ベクトルの順番を変えてみると"
   ]
  },
  {
   "cell_type": "code",
   "execution_count": 16,
   "metadata": {},
   "outputs": [
    {
     "data": {
      "text/plain": [
       "array([[ 0.1,  0. ,  0. ],\n",
       "       [ 0. , -0.2,  0. ],\n",
       "       [ 0. ,  0. ,  1. ]])"
      ]
     },
     "execution_count": 16,
     "metadata": {},
     "output_type": "execute_result"
    }
   ],
   "source": [
    "D = np.linalg.inv(v[:,::-1])@A@v[:,::-1]\n",
    "D_2 = np.where(abs(D) > 1e-15, D, 0)\n",
    "D_2"
   ]
  },
  {
   "cell_type": "markdown",
   "metadata": {},
   "source": [
    "なお行列のn乗は一致する"
   ]
  },
  {
   "cell_type": "code",
   "execution_count": 17,
   "metadata": {},
   "outputs": [
    {
     "data": {
      "text/plain": [
       "True"
      ]
     },
     "execution_count": 17,
     "metadata": {},
     "output_type": "execute_result"
    }
   ],
   "source": [
    "test_1 = v@np.linalg.matrix_power(D_1, 10000)@np.linalg.inv(v)\n",
    "test_2 = v[:,::-1]@np.linalg.matrix_power(D_2, 10000)@np.linalg.inv(v[:,::-1])\n",
    "np.allclose(test_1,test_2)"
   ]
  },
  {
   "cell_type": "markdown",
   "metadata": {},
   "source": [
    "### 行列の冪乗と固有値\n",
    "\n",
    "$$\n",
    "A^k = (PDP^{-1})^k = PD^kP^{-1}\n",
    "$$\n",
    "との関係が知られている。\n",
    "\n",
    "\n",
    "[証明]\n",
    "$$\n",
    "A^k = (PDP^{-1})^k = (PDP^{-1})(PDP^{-1})...(PDP^{-1})\n",
    "$$\n",
    "\n",
    "このとき、$PP^{-1} = I_n$より\n",
    "\n",
    "$$\n",
    "A^k = PD^kP^{-1}\n",
    "$$\n",
    "\n"
   ]
  },
  {
   "cell_type": "code",
   "execution_count": 18,
   "metadata": {},
   "outputs": [
    {
     "data": {
      "text/plain": [
       "array([[0.31481481, 0.31481481, 0.31481481],\n",
       "       [0.57407407, 0.57407407, 0.57407407],\n",
       "       [0.11111111, 0.11111111, 0.11111111]])"
      ]
     },
     "execution_count": 18,
     "metadata": {},
     "output_type": "execute_result"
    }
   ],
   "source": [
    "prob_raw = np.linalg.matrix_power(A, 10000)\n",
    "prob_raw"
   ]
  },
  {
   "cell_type": "code",
   "execution_count": 19,
   "metadata": {},
   "outputs": [
    {
     "data": {
      "text/plain": [
       "array([[ 0.07407407,  0.07407407, -0.59259259],\n",
       "       [ 0.03703704,  0.03703704, -0.2962963 ],\n",
       "       [-0.11111111, -0.11111111,  0.88888889]])"
      ]
     },
     "execution_count": 19,
     "metadata": {},
     "output_type": "execute_result"
    }
   ],
   "source": [
    "prob = v@np.linalg.matrix_power(D, 10000)@np.linalg.inv(v)\n",
    "prob"
   ]
  },
  {
   "cell_type": "markdown",
   "metadata": {},
   "source": [
    "### Example\n",
    "\n",
    "2次正方行列Aに対して固有ベクトルが$\\{u, v\\} \\in \\mathbf C^2$で与えられたとする。任意のベクトル$w\\in \\mathbf C^2$は$\\{u, v\\}$の線形結合で表されるので、\n",
    "\n",
    "$$\n",
    "\\begin{aligned}\n",
    "Aw &= A(au + bv)\\\\\n",
    "& = a\\lambda_u u + b \\lambda_v v\n",
    "\\end{aligned}\n",
    "$$\n",
    "\n",
    "同様にして冪乗も\n",
    "\n",
    "$$\n",
    "A^kw = \\lambda_u^k au + \\lambda_v^k b v\n",
    "$$\n",
    "\n",
    "と計算できる。\n"
   ]
  },
  {
   "cell_type": "markdown",
   "metadata": {},
   "source": [
    "### 遷移確率行列と固有値\n",
    "\n",
    "n次の正方行列$A = [a_{ij}]$において、$a_{ij}>0, \\sum_{j=1}^n a_{ij} = 1$であるとき、Aの固有値の1つは１。\n",
    "\n",
    "#### 証明\n",
    "\n",
    "$$\n",
    "A\\left[\\begin{array}{c}1\\\\1\\\\\\vdots\\\\ 1\\end{array}\\right] =  \\left[\\begin{array}{c}1\\\\1\\\\\\vdots\\\\ 1\\end{array}\\right] \n",
    "$$\n",
    "\n",
    "より明らか。\n",
    "\n",
    "#### Example : 冪乗の計算\n",
    "\n",
    "Aを２次の正方行列$A = [a_{ij}]$において、$a_{ij}>0, \\sum_{j=1}^n a_{ij} = 1$であるとする。\n",
    "$B = A^k$としたとき、$\\lim_{k\\to \\infty} B$と計算したいとする。このとき、\n",
    "\n",
    "\n",
    "$$\n",
    "A = \\left(\\begin{array}{cc}1-a & a\\\\ b & 1-b\\end{array}\\right)\n",
    "$$\n",
    "とすると、固有値は$1, 1-a-b$となる。これに対応する固有ベクトルを計算すると、$(1, 1)^T$と$(a, -b)^T$となる。\n",
    "\n",
    "よって、\n",
    "\n",
    "$$\n",
    "A^m = P\\left(\\begin{array}{cc} 1 & 0\\\\0 & 1-a-b\\end{array}\\right)^m P^{-1}\n",
    "$$\n",
    "\n",
    "よって、\n",
    "\n",
    "$$\n",
    "\\lim_{k\\to \\infty}B = \\left(\\begin{array}{cc} 1 & a\\\\1 & -b\\end{array}\\right)\\left(\\begin{array}{cc} 1 & 0\\\\0 & 0\\end{array}\\right)\\frac{-1}{a+b}\\left(\\begin{array}{cc} -b & -a\\\\-1 & 1\\end{array}\\right) = \\frac{1}{a+b}\\left(\\begin{array}{cc} b & b\\\\a & a\\end{array}\\right)\n",
    "$$\n",
    "\n"
   ]
  },
  {
   "cell_type": "markdown",
   "metadata": {},
   "source": [
    "### Page遷移確率への応用\n",
    "\n",
    "$A = [a_{ij}]$をjからiへのページ遷移の確率を表す行列とする.この遷移行列の収束先はAの固有値のうち、1の値をとる固有値に対応する固有ベクトルの絶対値表現を正規化したものと一致する。\n",
    "\n",
    "steady stateの条件より\n",
    "\n",
    "$$\n",
    "Av = v\n",
    "$$\n",
    "\n",
    "が成立するため(vはsteady stateベクトル)。\n"
   ]
  },
  {
   "cell_type": "code",
   "execution_count": 20,
   "metadata": {},
   "outputs": [
    {
     "name": "stdout",
     "output_type": "stream",
     "text": [
      "[[0.2 0.4 0.2]\n",
      " [0.7 0.5 0.6]\n",
      " [0.1 0.1 0.2]]\n"
     ]
    }
   ],
   "source": [
    "### 遷移行列の定義\n",
    "A = np.array([[0.2,0.7, 0.1],[0.4,0.5, 0.1], [0.2, 0.6, 0.2]]).T\n",
    "print(A)"
   ]
  },
  {
   "cell_type": "code",
   "execution_count": 21,
   "metadata": {},
   "outputs": [
    {
     "data": {
      "text/plain": [
       "array([0.09090909, 0.81818182, 0.09090909])"
      ]
     },
     "execution_count": 21,
     "metadata": {},
     "output_type": "execute_result"
    }
   ],
   "source": [
    "init = np.random.randint(1, 10, 3)\n",
    "init = init/init.sum()\n",
    "init"
   ]
  },
  {
   "cell_type": "code",
   "execution_count": 22,
   "metadata": {},
   "outputs": [
    {
     "data": {
      "text/plain": [
       "array([0.31481481, 0.57407407, 0.11111111])"
      ]
     },
     "execution_count": 22,
     "metadata": {},
     "output_type": "execute_result"
    }
   ],
   "source": [
    "### 10000乗の計算\n",
    "np.linalg.matrix_power(A, 10000) @ init"
   ]
  },
  {
   "cell_type": "code",
   "execution_count": 23,
   "metadata": {},
   "outputs": [],
   "source": [
    "### 固有値, 固有ベクトルの計算\n",
    "w, v = np.linalg.eig(A)\n",
    "idx = np.argmin(abs(w - 1.0))\n",
    "v_adj = -1*v[:, idx]"
   ]
  },
  {
   "cell_type": "code",
   "execution_count": 24,
   "metadata": {},
   "outputs": [
    {
     "data": {
      "text/plain": [
       "array([0.31481481, 0.57407407, 0.11111111])"
      ]
     },
     "execution_count": 24,
     "metadata": {},
     "output_type": "execute_result"
    }
   ],
   "source": [
    "### 収束ベクトルと固有ベクトルが一致することを確認\n",
    "v_adj/sum(v_adj)"
   ]
  },
  {
   "cell_type": "markdown",
   "metadata": {},
   "source": [
    "#### REMARKS\n",
    "\n",
    "- 固有値1に対応する固有ベクトルを正規化したものと一致するので、ベクトル要素の合計値が１になるように調整する必要がある。"
   ]
  },
  {
   "cell_type": "markdown",
   "metadata": {},
   "source": [
    "### 連立差分方程式\n",
    "\n",
    "二つの数列$\\{x_n\\}, \\{y_n\\}$の間に\n",
    "\n",
    "$$\n",
    "\\begin{cases}\n",
    "x_n &= 7 x_{n-1} + 3 y_{n-1}\\\\\n",
    "y_n & = x_{n-1} + 5 y_{n-1}\n",
    "\\end{cases}\n",
    "$$\n",
    "\n",
    "ただし、$(x_0, y_0) = (3, -2)$としたとき、"
   ]
  },
  {
   "cell_type": "code",
   "execution_count": 25,
   "metadata": {},
   "outputs": [
    {
     "data": {
      "text/plain": [
       "array([[8., 0.],\n",
       "       [0., 4.]])"
      ]
     },
     "execution_count": 25,
     "metadata": {},
     "output_type": "execute_result"
    }
   ],
   "source": [
    "A = np.array([[7, 3],[1, 5]], dtype = float)\n",
    "w, v = np.linalg.eig(A)\n",
    "D = np.linalg.inv(v)@A@v\n",
    "np.where(abs(D) > 1e-15, D, 0)"
   ]
  },
  {
   "cell_type": "markdown",
   "metadata": {},
   "source": [
    "よって\n",
    "\n",
    "$$\n",
    "A^k = P\\left(\\begin{array}{cc}8 & 0\\\\ 0 & 4\\end{array}\\right)^kP^{-1}\n",
    "$$"
   ]
  },
  {
   "cell_type": "code",
   "execution_count": 26,
   "metadata": {},
   "outputs": [],
   "source": [
    "def calculate_transition(tran_mat, power, init):\n",
    "    w, v = np.linalg.eig(tran_mat)\n",
    "    D = np.linalg.inv(v)@tran_mat@v\n",
    "    D = np.where(abs(D) > 1e-15, D, 0)\n",
    "    return np.array(v@D**(power-1)@np.linalg.inv(v)@init, dtype = int)"
   ]
  },
  {
   "cell_type": "code",
   "execution_count": 27,
   "metadata": {},
   "outputs": [
    {
     "data": {
      "text/plain": [
       "array([15, -6])"
      ]
     },
     "execution_count": 27,
     "metadata": {},
     "output_type": "execute_result"
    }
   ],
   "source": [
    "calculate_transition(tran_mat = A, power = 2, init = np.array([3, -2]))"
   ]
  },
  {
   "cell_type": "markdown",
   "metadata": {},
   "source": [
    "### 漸化式\n",
    "\n",
    "$$\n",
    "x_{n+2} - 4 x_{n+1} - 5 x_n = 0\n",
    "$$\n",
    "\n",
    "$(x_1, x_0) = (7, -1)$と与えられたとき、$x_{n+1} = y_n$と変形すると\n",
    "\n",
    "$$\n",
    "\\begin{aligned}\n",
    "x_{n} &=  y_{n-1}\\\\\n",
    "y_{n} &= 4 y_{n-1} + 5 x_{n-1}\n",
    "\\end{aligned}\n",
    "$$\n",
    "\n"
   ]
  },
  {
   "cell_type": "code",
   "execution_count": 28,
   "metadata": {},
   "outputs": [
    {
     "data": {
      "text/plain": [
       "array([ 7, 23])"
      ]
     },
     "execution_count": 28,
     "metadata": {},
     "output_type": "execute_result"
    }
   ],
   "source": [
    "A =  np.array([[0, 1],[5, 4]], dtype = float)\n",
    "calculate_transition(tran_mat = A, power = 2, init = np.array([-1, 7]))"
   ]
  },
  {
   "cell_type": "markdown",
   "metadata": {},
   "source": [
    "### Example: ジョギング人口\n",
    "\n",
    "ある年、急にジョギングが流行しだした。そこで、ジョギング人口の推移を毎年一回調べることにしたところ、いつも前の年にジョギングをやっていた人の４割が脱落、やっていなかった人のうち２割がジョギングを始めることがわかった。\n",
    "\n",
    "n年後のジョギング人口、非ジョギング人口をそれぞれ$x_n, y_n$としたとき、\n",
    "\n",
    "$$\n",
    "\\begin{aligned}\n",
    "\\left(\\begin{array}{c}x_n\\\\ y_n\\end{array}\\right) = \\left(\\begin{array}{cc}0.6 & 0.2\\\\ 0.4 & 0.8\\end{array}\\right)\\left(\\begin{array}{c}x_{n-1}\\\\ y_{n-1}\\end{array}\\right)\\\n",
    "\\end{aligned}\n",
    "$$\n"
   ]
  },
  {
   "cell_type": "code",
   "execution_count": 29,
   "metadata": {},
   "outputs": [],
   "source": [
    "prob = np.array([[0.6, 0.2],[0.4, 0.8]])\n",
    "w, v = np.linalg.eig(prob)\n",
    "idx = np.argmin(abs(w - 1))"
   ]
  },
  {
   "cell_type": "code",
   "execution_count": 30,
   "metadata": {},
   "outputs": [
    {
     "data": {
      "text/plain": [
       "array([-0.4472136 , -0.89442719])"
      ]
     },
     "execution_count": 30,
     "metadata": {},
     "output_type": "execute_result"
    }
   ],
   "source": [
    "v[:,idx]"
   ]
  },
  {
   "cell_type": "markdown",
   "metadata": {},
   "source": [
    "Then, nを十分大きくとったときのジョギング人口比は"
   ]
  },
  {
   "cell_type": "code",
   "execution_count": 31,
   "metadata": {},
   "outputs": [
    {
     "data": {
      "text/plain": [
       "array([1., 2.])"
      ]
     },
     "execution_count": 31,
     "metadata": {},
     "output_type": "execute_result"
    }
   ],
   "source": [
    "v[:,idx]/v[0, idx]"
   ]
  },
  {
   "cell_type": "markdown",
   "metadata": {},
   "source": [
    "と計算できる。"
   ]
  },
  {
   "cell_type": "markdown",
   "metadata": {},
   "source": [
    "## Appendix: 行列式のIntuition\n",
    "\n",
    "正方行列Aに対して、行列式 `det A` は行列　Aのある一面の特性を表すスカラー量にすぎず、決して行列そのものではない。\n",
    "\n",
    "### 行列式の定義\n",
    "\n",
    "正方行列 $A = [a_{ij}]$を考える。このとき、\n",
    "\n",
    "$$\n",
    "\\text{det} A = \\sum_{\\rho \\in S_n}\\text{sgn}( \\rho) a_{\\rho(1)1}a_{\\rho(2)2}...a_{\\rho(n)n}\n",
    "$$\n",
    "\n",
    "- $S_n$: n文字の置換全体の集合を表す\n",
    "\n"
   ]
  },
  {
   "cell_type": "markdown",
   "metadata": {},
   "source": [
    "### 行列式のIntuition\n",
    "\n",
    "<img src = 'https://github.com/RyoNakagami/omorikaizuka/blob/master/math101/行列_面積拡大率.jpg?raw=true'>\n",
    "\n",
    "\n",
    "Aは2次正方行列とする。１辺の長さが1の正方形に行列Aを作用させると、一般には、少しひしゃげた平行四辺形に変更される。このときのAの行列式は、Aをかけたときの面積の拡大率である。ただし、図形が裏返ったときは、行列式は負になる。"
   ]
  },
  {
   "cell_type": "markdown",
   "metadata": {},
   "source": [
    "### Example 1\n",
    "\n",
    "$$\n",
    "B = \\left(\\begin{array}{cc}\n",
    "3 & 0\\\\\n",
    "0 & 2\n",
    "\\end{array}\\right)\n",
    "$$\n",
    "\n",
    "を作用させたときは"
   ]
  },
  {
   "cell_type": "code",
   "execution_count": 32,
   "metadata": {},
   "outputs": [
    {
     "data": {
      "image/png": "[encoded data removed]",
      "text/plain": [
       "<Figure size 576x432 with 1 Axes>"
      ]
     },
     "metadata": {
      "needs_background": "light"
     },
     "output_type": "display_data"
    }
   ],
   "source": [
    "fig, ax = plt.subplots(figsize=(8, 6))\n",
    "# Set the axes through the origin\n",
    "for spine in ['left', 'bottom']:\n",
    "    ax.spines[spine].set_position('zero')\n",
    "for spine in ['right', 'top']:\n",
    "    ax.spines[spine].set_color('none')\n",
    "\n",
    "ax.set(xlim=(-3, 3), ylim=(-3, 3))\n",
    "ax.grid()\n",
    "vecs = ((3, 0), (0, 2))\n",
    "for v in vecs:\n",
    "    ax.annotate('', xy=v, xytext=(0, 0),\n",
    "                arrowprops=dict(facecolor='blue',\n",
    "                shrink=0,\n",
    "                alpha=0.7,\n",
    "                width=0.5))\n",
    "    ax.text(1.1 * v[0], 1.1 * v[1], str(v))"
   ]
  },
  {
   "cell_type": "code",
   "execution_count": 33,
   "metadata": {},
   "outputs": [
    {
     "data": {
      "text/plain": [
       "6.0"
      ]
     },
     "execution_count": 33,
     "metadata": {},
     "output_type": "execute_result"
    }
   ],
   "source": [
    "B = np.array([[3, 0],\n",
    "              [0, 2]])\n",
    "np.linalg.det(B)"
   ]
  },
  {
   "cell_type": "markdown",
   "metadata": {},
   "source": [
    "このとき、図形は横に３倍、縦に２倍されるので面積は６倍になる。"
   ]
  },
  {
   "cell_type": "markdown",
   "metadata": {},
   "source": [
    "### Example 2\n",
    "\n",
    "$$\n",
    "C = \\left(\\begin{array}{cc}\n",
    "-1 & 0\\\\\n",
    "0 & 1\n",
    "\\end{array}\\right)\n",
    "$$\n",
    "\n",
    "を作用させたときは"
   ]
  },
  {
   "cell_type": "code",
   "execution_count": 34,
   "metadata": {},
   "outputs": [
    {
     "data": {
      "text/plain": [
       "-1.0"
      ]
     },
     "execution_count": 34,
     "metadata": {},
     "output_type": "execute_result"
    }
   ],
   "source": [
    "C = np.array([[-1, 0],\n",
    "              [0, 1]])\n",
    "np.linalg.det(C)"
   ]
  },
  {
   "cell_type": "markdown",
   "metadata": {},
   "source": [
    "### Example 3\n",
    "\n",
    "$$\n",
    "P = \\left(\\begin{array}{cc}\n",
    "\\cos \\theta & -\\sin \\theta\\\\\n",
    "-\\sin \\theta & \\cos \\theta\n",
    "\\end{array}\\right)\n",
    "$$\n",
    "\n",
    "という回転行列を作用させたときは、図形は回転するだけなので$det P = 1$."
   ]
  },
  {
   "cell_type": "code",
   "execution_count": 35,
   "metadata": {},
   "outputs": [
    {
     "data": {
      "image/png": "[encoded data removed]",
      "text/plain": [
       "<Figure size 576x432 with 1 Axes>"
      ]
     },
     "metadata": {
      "needs_background": "light"
     },
     "output_type": "display_data"
    }
   ],
   "source": [
    "theta = np.pi/4\n",
    "\n",
    "fig, ax = plt.subplots(figsize=(8, 6))\n",
    "# Set the axes through the origin\n",
    "for spine in ['left', 'bottom']:\n",
    "    ax.spines[spine].set_position('zero')\n",
    "for spine in ['right', 'top']:\n",
    "    ax.spines[spine].set_color('none')\n",
    "\n",
    "ax.set(xlim=(-2, 2), ylim=(-2, 2))\n",
    "ax.grid()\n",
    "vecs = ((np.cos(theta), np.sin(theta)), (-np.sin(theta), np.cos(theta)))\n",
    "for v in vecs:\n",
    "    ax.annotate('', xy=v, xytext=(0, 0),\n",
    "                arrowprops=dict(facecolor='blue',\n",
    "                shrink=0,\n",
    "                alpha=0.7,\n",
    "                width=0.5))\n",
    "    w = (v[0].round(3), v[1].round(3))\n",
    "    ax.text(1.1 * v[0], 1.1 * v[1], str(w))"
   ]
  },
  {
   "cell_type": "markdown",
   "metadata": {},
   "source": [
    "### 行列式の性質：線形性と交代性"
   ]
  },
  {
   "cell_type": "markdown",
   "metadata": {},
   "source": [
    "#### 交代性\n",
    "\n",
    "$$\n",
    "\\text{det} (\\mathbf b, \\mathbf a) = - \\text{det} (\\mathbf a, \\mathbf b)\n",
    "$$\n",
    "\n",
    "平行四辺形の２辺を入れ替えると図形が裏返る、従って、行列式は-1倍になる。\n",
    "\n",
    "このことから\n",
    "\n",
    "$$\n",
    "\\text{det} (\\mathbf a, \\mathbf a) = - \\text{det} (\\mathbf a, \\mathbf a)\n",
    "$$\n",
    "\n",
    "つまり、$\\text{det} (\\mathbf a, \\mathbf a) = 0$がわかる。\n"
   ]
  },
  {
   "cell_type": "markdown",
   "metadata": {},
   "source": [
    "#### 線形性\n",
    "\n",
    "関数$f(v, t)$は次のような性質を持つとき変数tについて線形性を持つという\n",
    "\n",
    "$$\n",
    "\\begin{aligned}\n",
    "f(v, t_1 + t_2) &= f(v, t_1) + f(v, t_2)\\\\\n",
    "f(v, ct) &= cf(v,t)\n",
    "\\end{aligned}\n",
    "$$\n"
   ]
  },
  {
   "cell_type": "markdown",
   "metadata": {},
   "source": [
    "### 行列式と多重線形性\n",
    "\n",
    "$\\text{det} (\\mathbf a_1, \\mathbf a_2)$は$\\mathbf a_1, \\mathbf a_2$のつくる平行四辺形の面積に符号をつけたものなので、多重線形性を満たす。\n",
    "\n",
    "$$\n",
    "\\begin{aligned}\n",
    "\\text{det} (\\mathbf a_1 + \\mathbf a_1', \\mathbf a_2) &= \\text{det} (\\mathbf a_1, \\mathbf a_2) + \\text{det}(\\mathbf a_1', \\mathbf a_2) \\\\\n",
    "\\text{det}(c  \\mathbf a_1, \\mathbf a_2) & = c \\ \\ \\text{det}(\\mathbf a_1, \\mathbf a_2)\n",
    "\\end{aligned}\n",
    "$$\n"
   ]
  },
  {
   "cell_type": "code",
   "execution_count": null,
   "metadata": {},
   "outputs": [],
   "source": []
  }
 ],
 "metadata": {
  "kernelspec": {
   "display_name": "Python 3",
   "language": "python",
   "name": "python3"
  },
  "language_info": {
   "codemirror_mode": {
    "name": "ipython",
    "version": 3
   },
   "file_extension": ".py",
   "mimetype": "text/x-python",
   "name": "python",
   "nbconvert_exporter": "python",
   "pygments_lexer": "ipython3",
   "version": "3.7.4"
  }
 },
 "nbformat": 4,
 "nbformat_minor": 4
}
