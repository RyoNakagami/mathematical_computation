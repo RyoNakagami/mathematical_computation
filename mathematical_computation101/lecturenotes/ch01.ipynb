{
 "cells": [
  {
   "cell_type": "markdown",
   "metadata": {},
   "source": [
    "# 1. 数の表現と誤差"
   ]
  },
  {
   "cell_type": "markdown",
   "metadata": {},
   "source": [
    "## 概要\n",
    "\n",
    "- コンピューターは、浮動小数点という形式のbit列で実数を表現している。\n",
    "- 列の長さと計算時間が有限という制約から発生する誤差をまとめる\n",
    "\n",
    "## Key-words\n",
    "\n",
    "- float\n",
    "- overflow, underflow\n",
    "- absolute error, relative error\n",
    "- rounding error\n",
    "- 桁落ち\n",
    "- 情報落ち\n",
    "- 打ち切り誤差\n",
    "- 離散化誤差"
   ]
  },
  {
   "cell_type": "code",
   "execution_count": 1,
   "metadata": {},
   "outputs": [
    {
     "name": "stdout",
     "output_type": "stream",
     "text": [
      "Python 3.7.4\n"
     ]
    }
   ],
   "source": [
    "!python3 -V"
   ]
  },
  {
   "cell_type": "markdown",
   "metadata": {},
   "source": [
    "imports"
   ]
  },
  {
   "cell_type": "code",
   "execution_count": 2,
   "metadata": {},
   "outputs": [],
   "source": [
    "import numpy as np\n",
    "import matplotlib.pyplot as plt"
   ]
  },
  {
   "cell_type": "markdown",
   "metadata": {},
   "source": [
    "### [例題１]\n",
    "\n",
    "2進数00101001を10進数で表せ"
   ]
  },
  {
   "cell_type": "code",
   "execution_count": 3,
   "metadata": {},
   "outputs": [],
   "source": [
    "def binary_to_decimal(x):\n",
    "    import re\n",
    "    \n",
    "    if not isinstance(x, str):\n",
    "        raise ValueError('引数が文字列ではありません')\n",
    "    condition_1 = re.findall('\\D|[2-9]', x)\n",
    "    \n",
    "    if condition_1:\n",
    "        print(condition_1)\n",
    "        raise ValueError('引数に不正な文字列が入っています')\n",
    "    \n",
    "    res = 0\n",
    "    length = len(x) - 1\n",
    "    for i, j in enumerate(x):\n",
    "        i = length - i\n",
    "        res += int(j) * (2 ** (i))\n",
    "        \n",
    "    return res"
   ]
  },
  {
   "cell_type": "code",
   "execution_count": 4,
   "metadata": {},
   "outputs": [
    {
     "data": {
      "text/plain": [
       "41"
      ]
     },
     "execution_count": 4,
     "metadata": {},
     "output_type": "execute_result"
    }
   ],
   "source": [
    "binary_to_decimal('00101001')"
   ]
  },
  {
   "cell_type": "code",
   "execution_count": 5,
   "metadata": {},
   "outputs": [],
   "source": [
    "def binary_to_decimal_2(x):\n",
    "    import re\n",
    "    if not isinstance(x, str):\n",
    "        raise ValueError('引数が文字列ではありません')\n",
    "    condition_1 = re.findall('\\D|[2-9]', x)\n",
    "    \n",
    "    if condition_1:\n",
    "        print(condition_1)\n",
    "        raise ValueError('引数に不正な文字列が入っています')\n",
    "    \n",
    "    x = int(x)\n",
    "    base = 0\n",
    "    res = 0\n",
    "    while x:\n",
    "        digit = x % 10\n",
    "        res += (2 ** base) * digit\n",
    "        \n",
    "        base += 1\n",
    "        x = int(x / 10)\n",
    "        \n",
    "    return res"
   ]
  },
  {
   "cell_type": "code",
   "execution_count": 6,
   "metadata": {},
   "outputs": [
    {
     "data": {
      "text/plain": [
       "41"
      ]
     },
     "execution_count": 6,
     "metadata": {},
     "output_type": "execute_result"
    }
   ],
   "source": [
    "binary_to_decimal_2('00101001')"
   ]
  },
  {
   "cell_type": "code",
   "execution_count": 7,
   "metadata": {},
   "outputs": [
    {
     "name": "stdout",
     "output_type": "stream",
     "text": [
      "9.27 µs ± 1.87 µs per loop (mean ± std. dev. of 3 runs, 1000 loops each)\n"
     ]
    }
   ],
   "source": [
    "%%timeit -r 3 -n 1000\n",
    "binary_to_decimal('00101001')"
   ]
  },
  {
   "cell_type": "code",
   "execution_count": 8,
   "metadata": {},
   "outputs": [
    {
     "name": "stdout",
     "output_type": "stream",
     "text": [
      "6.52 µs ± 124 ns per loop (mean ± std. dev. of 3 runs, 1000 loops each)\n"
     ]
    }
   ],
   "source": [
    "%%timeit -r 3 -n 1000\n",
    "binary_to_decimal_2('00101001')"
   ]
  },
  {
   "cell_type": "markdown",
   "metadata": {},
   "source": [
    "### [例題２]\n",
    "\n",
    "10進数41を10進数で表せ"
   ]
  },
  {
   "cell_type": "code",
   "execution_count": 9,
   "metadata": {},
   "outputs": [],
   "source": [
    "def decimal_to_binary(x):\n",
    "    quotient, remainder = divmod(x, 2)\n",
    "    res = str(remainder)\n",
    "    while quotient > 0:\n",
    "        quotient, remainder = divmod(quotient, 2)\n",
    "        res = str(remainder) + res\n",
    "    \n",
    "    return res\n",
    "    "
   ]
  },
  {
   "cell_type": "code",
   "execution_count": 10,
   "metadata": {},
   "outputs": [
    {
     "data": {
      "text/plain": [
       "'101001'"
      ]
     },
     "execution_count": 10,
     "metadata": {},
     "output_type": "execute_result"
    }
   ],
   "source": [
    "decimal_to_binary(41)"
   ]
  },
  {
   "cell_type": "code",
   "execution_count": 11,
   "metadata": {},
   "outputs": [
    {
     "name": "stdout",
     "output_type": "stream",
     "text": [
      "6.11 µs ± 1.65 µs per loop (mean ± std. dev. of 3 runs, 1000 loops each)\n"
     ]
    }
   ],
   "source": [
    "%%timeit -r 3 -n 1000\n",
    "decimal_to_binary(41)"
   ]
  },
  {
   "cell_type": "markdown",
   "metadata": {},
   "source": [
    "### [例題3]\n",
    "\n",
    "2進数0.1100を10進数で表せ"
   ]
  },
  {
   "cell_type": "code",
   "execution_count": 12,
   "metadata": {},
   "outputs": [],
   "source": [
    "def binary_to_decimalpoint(x, point = 7):\n",
    "    \"\"\"\n",
    "    x should be smaller than 1 and positive \n",
    "    \"\"\"\n",
    "    eps = eval('1e-' + str(point - 1))\n",
    "    base = 1\n",
    "    res = 0\n",
    "    while abs(x - 0) > eps:\n",
    "        x = 10*x\n",
    "        res += ((1/2)**base) * int(x)\n",
    "        x = round(x -  int(x), point)\n",
    "        base += 1\n",
    "    \n",
    "    return res"
   ]
  },
  {
   "cell_type": "code",
   "execution_count": 13,
   "metadata": {},
   "outputs": [
    {
     "data": {
      "text/plain": [
       "0.75"
      ]
     },
     "execution_count": 13,
     "metadata": {},
     "output_type": "execute_result"
    }
   ],
   "source": [
    "binary_to_decimalpoint(0.1100000)"
   ]
  },
  {
   "cell_type": "code",
   "execution_count": 14,
   "metadata": {},
   "outputs": [
    {
     "name": "stdout",
     "output_type": "stream",
     "text": [
      "22.6 µs ± 7.53 µs per loop (mean ± std. dev. of 3 runs, 1000 loops each)\n"
     ]
    }
   ],
   "source": [
    "%%timeit -r 3 -n 1000\n",
    "binary_to_decimalpoint(0.1100)"
   ]
  },
  {
   "cell_type": "markdown",
   "metadata": {},
   "source": [
    "### [例題4]\n",
    "\n",
    "10進数0.6875を2進数で表せ"
   ]
  },
  {
   "cell_type": "code",
   "execution_count": 15,
   "metadata": {},
   "outputs": [],
   "source": [
    "def decimal_to_binarypoint(x, iterator, point = 7):\n",
    "    \"\"\"\n",
    "    x should be smaller than 1 and positive \n",
    "    \"\"\"\n",
    "    eps = eval('1e-' + str(point - 1))\n",
    "    res = '0.'\n",
    "    counter = 0\n",
    "    while abs(x - 0) > eps and counter < iterator: \n",
    "        x = 2*x\n",
    "        res += str(int(x))\n",
    "        x = round(x - int(x), point)\n",
    "        counter += 1\n",
    "    \n",
    "    return res"
   ]
  },
  {
   "cell_type": "code",
   "execution_count": 16,
   "metadata": {},
   "outputs": [
    {
     "data": {
      "text/plain": [
       "'0.1011'"
      ]
     },
     "execution_count": 16,
     "metadata": {},
     "output_type": "execute_result"
    }
   ],
   "source": [
    "decimal_to_binarypoint(x = 0.6875, iterator = 7, point = 7)"
   ]
  },
  {
   "cell_type": "markdown",
   "metadata": {},
   "source": [
    "### 固定小数点, fixed-point number\n",
    "\n",
    "- 浮動小数点数に比べて表現できる値の範囲ははるかに狭い\n",
    "- 情報落ちが起こらない（そもそも情報落ちが起きるような差のある値は表現できない）ことや高速に演算できることが利点に挙げられる。\n",
    "- 整数部、小数部、固定小数点で構成されている\n",
    "\n",
    "### 浮動小数点(IEEE形式 32 bit)\n",
    "\n",
    "- s: 符号, 1 bit\n",
    "- m: 仮数部, 23 bit\n",
    "- e: 指数部, 8 bit\n",
    "\n",
    "$$\n",
    "(-1)^s\\times (1.m)_2\\times 2^{e - 127}\n",
    "$$\n",
    "\n",
    "- $e \\in (0, 255)$ then, $(-1)^s\\times (1.m)_2\\times 2^{e - 127}$\n",
    "- $e = 255, m \\neq 0$, NaN\n",
    "- $e = 255, m = 0$, then $(-1)^s\\times\\infty$\n",
    "- $e = 0, m \\neq 0$, then $(-1)^s\\times (0.m)_2\\times 2^{e - 127}$\n",
    "\n",
    "IEEE形式倍精度(64 bit)は\n",
    "\n",
    "- s: 符号, 1 bit\n",
    "- m: 仮数部, 52 bit\n",
    "- e: 指数部, 11 bit\n",
    "\n",
    "$$\n",
    "(-1)^s\\times (1.m)_2\\times 2^{e - 1023}\n",
    "$$\n",
    "\n",
    "### オーバーフローとアンダーフロー\n",
    "\n",
    "どちらもコンピューターによる数の表現範囲には限界があることに起因：\n",
    "\n",
    "- オーバーフロー：数値の絶対値が表現可能な最大数を超える場合に発生\n",
    "- アンダーフロー：数値の絶対値が表現可能な最小数より小さい場合に発生"
   ]
  },
  {
   "cell_type": "markdown",
   "metadata": {},
   "source": [
    "### [例題5] 計算機イプシロンの確認"
   ]
  },
  {
   "cell_type": "code",
   "execution_count": 17,
   "metadata": {},
   "outputs": [],
   "source": [
    "def machine_eps_checker():\n",
    "    eps = 1\n",
    "    while 1.0 + eps != 1.0:\n",
    "        eps = eps/2\n",
    "    return eps"
   ]
  },
  {
   "cell_type": "code",
   "execution_count": 18,
   "metadata": {},
   "outputs": [
    {
     "data": {
      "text/plain": [
       "1.1102230246251565e-16"
      ]
     },
     "execution_count": 18,
     "metadata": {},
     "output_type": "execute_result"
    }
   ],
   "source": [
    "machine_eps_checker()"
   ]
  },
  {
   "cell_type": "markdown",
   "metadata": {},
   "source": [
    "### 誤差\n",
    "\n",
    "```\n",
    "絶対誤差 = abs(近似値 - 真の値)\n",
    "相対誤差 = abs(近似値 - 真の値)/abs(真の値)\n",
    "```\n",
    "\n",
    "### 精度の桁数\n",
    "\n",
    "$$\n",
    "\\text{精度の桁数} = - \\log_{10}|\\text{相対誤差}|\n",
    "$$"
   ]
  },
  {
   "cell_type": "markdown",
   "metadata": {},
   "source": [
    "### 誤差の原因\n",
    "\n",
    "- 丸め誤差\n",
    "- 桁落ち\n",
    "- 情報落ち\n",
    "- 打ち切り誤差\n",
    "- 離散化誤差\n"
   ]
  },
  {
   "cell_type": "markdown",
   "metadata": {},
   "source": [
    "### 丸め誤差\n",
    "丸め誤差とは数値を有限ビット数で表現するため、最下位桁より小さい部分について四捨五入や切り上げ、切り捨てが行われ発生する誤差のこと。10進数0.1を二進数で表現すると循環小数となってしまい誤差が発生する。"
   ]
  },
  {
   "cell_type": "markdown",
   "metadata": {},
   "source": [
    "### [例題6]\n",
    "丸め誤差の一例を示す。"
   ]
  },
  {
   "cell_type": "code",
   "execution_count": 19,
   "metadata": {},
   "outputs": [
    {
     "name": "stdout",
     "output_type": "stream",
     "text": [
      "0.1\n",
      "0.2\n",
      "0.30000000000000004\n",
      "0.4\n",
      "0.5\n",
      "0.6\n",
      "0.7\n",
      "0.7999999999999999\n",
      "0.8999999999999999\n",
      "0.9999999999999999\n",
      "1.0999999999999999\n",
      "1.2\n",
      "1.3\n",
      "1.4000000000000001\n",
      "1.5000000000000002\n",
      "1.6000000000000003\n",
      "1.7000000000000004\n",
      "1.8000000000000005\n",
      "1.9000000000000006\n",
      "2.0000000000000004\n"
     ]
    }
   ],
   "source": [
    "x = 0.0\n",
    "while x != 1.0 and x < 2.0:\n",
    "    x += 0.1\n",
    "    print(x)"
   ]
  },
  {
   "cell_type": "markdown",
   "metadata": {},
   "source": [
    "- 丸め誤差との兼ね合いで、浮動小数点の比較で完全一致==, != は使ってはならないという原則がある。\n",
    "- 上述のように丸め誤差が伝搬して大きな誤差となる場合もある"
   ]
  },
  {
   "cell_type": "code",
   "execution_count": 20,
   "metadata": {},
   "outputs": [
    {
     "name": "stdout",
     "output_type": "stream",
     "text": [
      "0.1\n",
      "0.2\n",
      "0.30000000000000004\n",
      "0.4\n",
      "0.5\n",
      "0.6000000000000001\n",
      "0.7000000000000001\n",
      "0.8\n",
      "0.9\n",
      "1.0\n"
     ]
    }
   ],
   "source": [
    "x = 0.0\n",
    "i = 1\n",
    "while x != 1.0 and x < 2.0:\n",
    "    x = 0.1 * i\n",
    "    i += 1\n",
    "    print(x)"
   ]
  },
  {
   "cell_type": "markdown",
   "metadata": {},
   "source": [
    "### REMARK\n",
    "- 二進数で表現できる数を用いた加算を行うべきとされる\n"
   ]
  },
  {
   "cell_type": "markdown",
   "metadata": {},
   "source": [
    "### 桁落ち\n",
    "\n",
    "2つの浮動小数点数の大きさがほぼ等しく n 桁からなる仮数部のうち上位 k 桁が等しい場合を考える。2つの引き算を行うと上位k桁が打ち消して結果の仮数部には n - k 桁の情報しか残らないことになる。これを桁落ちという。"
   ]
  },
  {
   "cell_type": "markdown",
   "metadata": {},
   "source": [
    "### [例題7] 桁落ちと有理化\n",
    "\n",
    "$x$が0に近いとき、桁落ちしないように$\\sqrt{x + 1} - 1$を計算せよ"
   ]
  },
  {
   "cell_type": "markdown",
   "metadata": {},
   "source": [
    "#### 解\n",
    "\n",
    "$$\n",
    "\\sqrt{x + 1} - 1 = \\frac{x}{\\sqrt{x + 1} + 1}\n",
    "$$"
   ]
  },
  {
   "cell_type": "code",
   "execution_count": 21,
   "metadata": {},
   "outputs": [
    {
     "name": "stdout",
     "output_type": "stream",
     "text": [
      "-5.0000001250438686e-08 -5.000000125000006e-08\n"
     ]
    }
   ],
   "source": [
    "x = -1e-7\n",
    "root = (x + 1)**(1/2)\n",
    "before = root - 1\n",
    "after = x/(root + 1)\n",
    "\n",
    "print(before, after)"
   ]
  },
  {
   "cell_type": "markdown",
   "metadata": {},
   "source": [
    "桁落ちの例として、"
   ]
  },
  {
   "cell_type": "code",
   "execution_count": 22,
   "metadata": {},
   "outputs": [],
   "source": [
    "def log_error(y):\n",
    "    try:\n",
    "        return np.log(1 - y)/y\n",
    "    except:\n",
    "        return 0"
   ]
  },
  {
   "cell_type": "code",
   "execution_count": 23,
   "metadata": {},
   "outputs": [
    {
     "data": {
      "image/png": "[encoded data removed]",
      "text/plain": [
       "<Figure size 432x288 with 1 Axes>"
      ]
     },
     "metadata": {
      "needs_background": "light"
     },
     "output_type": "display_data"
    }
   ],
   "source": [
    "x = np.linspace(-1, 0.99999, 1000000)\n",
    "y = log_error(x)\n",
    "plt.plot(x, y);"
   ]
  },
  {
   "cell_type": "markdown",
   "metadata": {},
   "source": [
    "x = 0近傍のplot"
   ]
  },
  {
   "cell_type": "code",
   "execution_count": 24,
   "metadata": {},
   "outputs": [
    {
     "data": {
      "image/png": "[encoded data removed]",
      "text/plain": [
       "<Figure size 432x288 with 1 Axes>"
      ]
     },
     "metadata": {
      "needs_background": "light"
     },
     "output_type": "display_data"
    }
   ],
   "source": [
    "x = np.linspace(-2**(-50), 2**(-50), 1000000)\n",
    "y = log_error(x)\n",
    "plt.plot(x, y);"
   ]
  },
  {
   "cell_type": "markdown",
   "metadata": {},
   "source": [
    "$\\log(x)$の特徴としてxが1に近い場合、$x - 1$に近似されるので"
   ]
  },
  {
   "cell_type": "code",
   "execution_count": 25,
   "metadata": {},
   "outputs": [],
   "source": [
    "def log_approx(x):\n",
    "    return ((1-x)-1)/x"
   ]
  },
  {
   "cell_type": "code",
   "execution_count": 26,
   "metadata": {},
   "outputs": [
    {
     "data": {
      "image/png": "[encoded data removed]",
      "text/plain": [
       "<Figure size 432x288 with 1 Axes>"
      ]
     },
     "metadata": {
      "needs_background": "light"
     },
     "output_type": "display_data"
    }
   ],
   "source": [
    "x = np.linspace(-2**(-50), 2**(-50), 1000000)\n",
    "y = log_approx(x)\n",
    "plt.plot(x, y);"
   ]
  },
  {
   "cell_type": "markdown",
   "metadata": {},
   "source": [
    "桁落ちと情報落ちから発生するエラーの可視化"
   ]
  },
  {
   "cell_type": "code",
   "execution_count": 27,
   "metadata": {},
   "outputs": [
    {
     "data": {
      "image/png": "[encoded data removed]",
      "text/plain": [
       "<Figure size 720x720 with 1 Axes>"
      ]
     },
     "metadata": {
      "needs_background": "light"
     },
     "output_type": "display_data"
    }
   ],
   "source": [
    "x = np.linspace(-2**(-50), 2**(-50), 1000000)\n",
    "\n",
    "fig, ax = plt.subplots(figsize = (10, 10))\n",
    "ax.plot(x, -x, label = r'$y = - x$')\n",
    "ax.plot(x,  (1- x) - 1, label = r'$y = - (1- x) - 1$', color = 'r')\n",
    "\n",
    "ax.set_xlabel(r'$x$', fontsize=15)\n",
    "ax.set_ylabel(r'$y$', fontsize=15)\n",
    "ax.grid(True)\n",
    "\n",
    "plt.legend(loc='upper right');"
   ]
  },
  {
   "cell_type": "markdown",
   "metadata": {},
   "source": [
    "### 情報落ち\n",
    "\n",
    "- 絶対値の非常に大きな数と小さな数の加減算を行ったとき、指数部が小さい方の数の仮数部の甲斐の部分が結果に反映されないために発生する誤差\n",
    "- 指数部に合わせて、仮数部の桁ずらしを行なってから加減が実行される。従って両者の大きさが桁違いの場合、小さい方の情報が失われることは明らかである。この現象を情報落ちという\n",
    "- 情報落ちは多数の数の加算(従って無限区間の積分など )には実際上の問題になる"
   ]
  },
  {
   "cell_type": "code",
   "execution_count": 28,
   "metadata": {},
   "outputs": [
    {
     "name": "stdout",
     "output_type": "stream",
     "text": [
      "10000000000.0\n"
     ]
    }
   ],
   "source": [
    "x = 1e10\n",
    "y = 1e-8\n",
    "\n",
    "for i in range(10000000):\n",
    "    x += y\n",
    "print(x)"
   ]
  },
  {
   "cell_type": "markdown",
   "metadata": {},
   "source": [
    "### 打ち切り誤差\n",
    "\n",
    "- 打ち切りごさは、無限回の演算を有限回で打ち切るときに発生する誤差\n",
    "- フーリエ展開、ライプニッツの公式、バーゼル問題の数値計算が一例"
   ]
  },
  {
   "cell_type": "markdown",
   "metadata": {},
   "source": [
    "### [例題8] ライプニッツの公式を証明せよ\n",
    "\n",
    "$$\n",
    "\\frac{\\pi}{4} = \\sum_{k = 0}^\\infty\\frac{ (-1)^k}{2k + 1}\n",
    "$$"
   ]
  },
  {
   "cell_type": "markdown",
   "metadata": {},
   "source": [
    "#### 解\n",
    "$$\n",
    "\\begin{align}\n",
    "\\frac{\\pi}{4} &= \\arctan(1) \\\\ &= \\int_0^1 \\frac 1{1+x^2} \\, dx \\\\[8pt]\n",
    "& = \\int_0^1\\left(\\sum_{k=0}^n (-1)^k x^{2k}+\\frac{(-1)^{n+1}\\,x^{2n+2} }{1+x^2}\\right) \\, dx \\  \\ \\because\\text{ ここは等比数列}\\\\\n",
    "& = \\left(\\sum_{k=0}^n \\frac{(-1)^k}{2k+1}\\right)\n",
    "+(-1)^{n+1} \\left(\\int_0^1\\frac{x^{2n+2}}{1+x^2} \\, dx\\right).\n",
    "\\end{align}\n",
    "$$\n",
    "\n",
    "Considering only the integral in the last line, we have:\n",
    "\n",
    "$0 \\le \\int_0^1 \\frac{x^{2n+2}}{1+x^2}\\,dx \\le \\int_0^1 x^{2n+2}\\,dx = \\frac{1}{2n+3} \\;\\rightarrow 0 \\text{ as } n \\rightarrow \\infty$\n",
    "\n",
    "Therefore, by the squeeze theorem, as $n \\to \\infty$ we are left with the Leibniz series:\n",
    "\n",
    "$$\n",
    "\\frac{\\pi}4 = \\sum_{k=0}^\\infty\\frac{(-1)^k}{2k+1}\n",
    "$$"
   ]
  },
  {
   "cell_type": "markdown",
   "metadata": {},
   "source": [
    "### バーゼル問題\n",
    "\n",
    "$$\n",
    "S_n = \\sum^n_{i = 1} \\frac{1}{i^2}\n",
    "$$\n",
    "を考える\n",
    "\n",
    "$n \\to \\infty$の場合、\n",
    "\n",
    "$$\n",
    "\\sum^\\infty_{i = 1} \\frac{1}{i^2}  = \\frac{\\pi^2}{6}\n",
    "$$\n",
    "が知られている（バーゼル問題）。Proof of sketchは以下、\n",
    "\n",
    "$$\n",
    "\\sin x = x - \\frac{1}{3!}x^3 + \\frac{1}{5!}x^5 - \\frac{1}{7!}x^7 + ....\n",
    "$$\n",
    "\n",
    "次に$\\sin x$の因数分解をする。$n\\pi$, (nは整数)の周期で$\\sin n\\pi = 0$となるので\n",
    "$$\n",
    "\\begin{aligned}\n",
    "\\sin x = a \\Pi_{n\\text{は整数}}\\  \\ (x - n\\pi) = ax \\Pi_{n\\text{は自然数(0は含めない)}} \\  \\ (x^2 - n^2\\pi^2)\n",
    "\\end{aligned}\n",
    "$$\n",
    "有限時ならばaは最高次の項の係数であるが、今回は無限次なので、そのような考えは都合が悪い。そうすると\n",
    "\n",
    "$$\n",
    "x = a\\left(\\Pi(-n^2\\pi^2)\\right)x\n",
    "$$\n",
    "\n",
    "となると\n",
    "\n",
    "$$\n",
    "a = \\Pi(-n^{-2}\\pi^{-2})\n",
    "$$\n",
    "これを元の式に代入すると\n",
    "\n",
    "$$\n",
    "\\sin x = x\\Pi\\left(1 - \\frac{x^2}{n^2\\pi^2}\\right)\n",
    "$$\n",
    "\n",
    "3!の係数を比較すると\n",
    "\n",
    "$$\n",
    "\\frac{1}{\\pi^2}\\left(\\frac{1}{1^2} + \\frac{1}{2^2} + \\frac{1}{3^2} + ...\\right) = \\frac{1}{3!}\n",
    "$$\n",
    "\n",
    "結果、\n",
    "$$\n",
    "\\sum^\\infty_{i = 1} \\frac{1}{i^2}  = \\frac{\\pi^2}{6}\n",
    "$$\n",
    "\n",
    "これを数値計算で表すと$1.6449340668...$となる。"
   ]
  },
  {
   "cell_type": "markdown",
   "metadata": {},
   "source": [
    "### 離散化誤差\n",
    "\n",
    "- （数値積分における台形公式、シンプソンの公式など、）連続関数の定積分の値を小さな台形の合計と捉えて数値計算することで発生する誤差"
   ]
  },
  {
   "cell_type": "markdown",
   "metadata": {},
   "source": [
    "台形の公式は以下\n",
    "\n",
    "$$\n",
    "\\begin{aligned}\n",
    "&\\int^b_a f(x) dx \\approx \\frac{b - a}{2n}\\{ y_0 + 2(y_1 + y_2 + ... + y_{n - 1}) + y_n\\}\\\\\n",
    "&y_k = f(x_k), x_k = a + \\frac{k(b - a)}{n} (k = 0, 1, ..., n)\n",
    "\\end{aligned}\n",
    "$$\n",
    "\n",
    "- 積分区間をn等分して、それぞれの区間の面積を台形の面積で近似する手法"
   ]
  },
  {
   "cell_type": "markdown",
   "metadata": {},
   "source": [
    "### [例題9]\n",
    "$$\n",
    "\\int_0^1 e^{-x^2} \\, dx\n",
    "$$\n",
    "を台形の公式を用いて計算せよ"
   ]
  },
  {
   "cell_type": "code",
   "execution_count": 29,
   "metadata": {},
   "outputs": [
    {
     "data": {
      "image/png": "[encoded data removed]",
      "text/plain": [
       "<Figure size 432x288 with 1 Axes>"
      ]
     },
     "metadata": {
      "needs_background": "light"
     },
     "output_type": "display_data"
    }
   ],
   "source": [
    "x = np.linspace(-0.5,1.5,100)\n",
    "y = np.exp(-x**2)\n",
    "plt.plot(x,y)\n",
    "\n",
    "x0 = 0\n",
    "x1 = 1\n",
    "y0 = np.exp(-x0**2)\n",
    "y1 = np.exp(-x1**2)\n",
    "\n",
    "plt.fill_between([x0,x1],[y0,y1])\n",
    "\n",
    "plt.xlim([-0.5,1.5]); plt.ylim([0,1.5]);"
   ]
  },
  {
   "cell_type": "code",
   "execution_count": 30,
   "metadata": {},
   "outputs": [
    {
     "data": {
      "image/png": "[encoded data removed]",
      "text/plain": [
       "<Figure size 432x288 with 1 Axes>"
      ]
     },
     "metadata": {
      "needs_background": "light"
     },
     "output_type": "display_data"
    }
   ],
   "source": [
    "N = 5\n",
    "x = np.linspace(-0.5,1.5,100)\n",
    "y = np.exp(-x**2)\n",
    "plt.plot(x,y)\n",
    "\n",
    "X = np.linspace(-0.5,1.5, N + 1)\n",
    "Y = np.exp(-X**2)\n",
    "\n",
    "\n",
    "for i in range(N):\n",
    "    xs = [X[i],X[i],X[i+1],X[i+1]]\n",
    "    ys = [0,np.exp(-X[i]**2),np.exp(- X[i+1]**2),0]\n",
    "    plt.fill(xs,ys,'b',edgecolor='b',alpha=0.2)\n",
    "\n",
    "plt.title('Trapezoid Rule, N = {}'.format(N))\n",
    "plt.show()"
   ]
  },
  {
   "cell_type": "code",
   "execution_count": 31,
   "metadata": {},
   "outputs": [],
   "source": [
    "def trapz(f,a,b,N=50):\n",
    "    '''\n",
    "    Parameters\n",
    "    ----------\n",
    "    f : function\n",
    "        Vectorized function of a single variable\n",
    "    a , b : numbers\n",
    "        Interval of integration [a,b]\n",
    "    N : integer\n",
    "        Number of subintervals of [a,b]\n",
    "\n",
    "    Returns\n",
    "    -------\n",
    "    float\n",
    "        Approximation of the integral of f(x) from a to b using the\n",
    "        trapezoid rule with N subintervals of equal length.\n",
    "    '''\n",
    "    x = np.linspace(a,b,N+1) # N+1 points make N subintervals\n",
    "    y = f(x)\n",
    "    y_right = y[1:] # right endpoints\n",
    "    y_left = y[:-1] # left endpoints\n",
    "    dx = (b - a)/N\n",
    "    T = (dx/2) * np.sum(y_right + y_left)\n",
    "    return T"
   ]
  },
  {
   "cell_type": "code",
   "execution_count": 32,
   "metadata": {},
   "outputs": [
    {
     "data": {
      "text/plain": [
       "0.7467996071893512"
      ]
     },
     "execution_count": 32,
     "metadata": {},
     "output_type": "execute_result"
    }
   ],
   "source": [
    "f = lambda x : np.exp(-x**2)\n",
    "trapz(f, 0, 1)"
   ]
  },
  {
   "cell_type": "markdown",
   "metadata": {},
   "source": [
    "### Error formula theorem\n",
    "the trapezoid rule\n",
    "$$\n",
    "T_N(f) = \\frac{\\Delta x}{2} \\sum_{i=1}^N (f(x_i) + f(x_{i-1}))\n",
    "$$\n",
    "where $x_i = a + i \\Delta x$ and $\\Delta x = (b - a)/N$\n",
    "\n",
    "\n",
    "Then,\n",
    "\n",
    "$$\n",
    "E_N^T(f) = \\left| \\ \\int_a^b f(x) \\ dx - T_N(f) \\ \\right| \\leq \\frac{(b-a)^3}{12 N^2} K_2\n",
    "$$\n",
    "\n",
    "\n",
    "where $\\left| \\ f''(x) \\, \\right| \\leq K_2$ for all $x \\in [a, b]$"
   ]
  },
  {
   "cell_type": "markdown",
   "metadata": {},
   "source": [
    "### シンプソンの公式\n",
    "\n",
    "- 台形公式よりも近似精度が良いとされる\n",
    "\n",
    "$$\n",
    "\\begin{aligned}\n",
    "&\\int^b_a f(x)dx \\approx \\frac{b - a}{3n} \\sum_{i = 1}^{n/2} y_{2i - 2} + 4y_{2i - 1} + y_{2i}\\\\\n",
    "& y_i = f(x_i), x_i = a + \\frac{k(b - a)}{n}, n \\text{は偶数}\n",
    "\\end{aligned}\n",
    "$$"
   ]
  },
  {
   "cell_type": "markdown",
   "metadata": {},
   "source": [
    "#### 証明\n",
    "\n",
    "シンプソンの公式は、$f(x)$を二次関数 $P(x)$ で近似することによって導かれる。ここで、$P(x)$は$f(x)$の a, b, m における値をそれぞれとる［m は“中点”、すなわち $(a+b)/2$］。$P(x)$ は、ラグランジュ補間によって、次の多項式（x の二次式）になることがわかる。\n",
    "\n",
    "$$\n",
    "P(x) = f(a) \\frac{(x - m)(x - b)}{a - m)(a - b)} + f(m) \\frac{(x - a)(x - b)}{m - a)(m - b)} + f(b) \\frac{(x - a)(x - m)}{b - m)(b - m)}\n",
    "$$\n",
    "\n",
    "これを範囲$[a, b]$で積分すると、\n",
    "\n",
    "$$\n",
    "\\int^b_a f(x)dx \\approx \\int^b_a P(x)dx =  \\frac{b - a}{6} \\left[f(a) + 4f\\left(\\frac{a + b}{2}\\right) + f(b)\\right]\n",
    "$$\n",
    "\n",
    "が得られる。積分範囲を小さな部分区間に分割し、各部分区間についてシンプソンの公式を適用し、その結果を足し合わせることで上の公式が得られる"
   ]
  },
  {
   "cell_type": "markdown",
   "metadata": {},
   "source": [
    "なお、$f(x)$が3次式以下なら次式が成り立つ\n",
    "\n",
    "$$\n",
    "\\frac{b - a}{6} \\left[f(a) + 4f\\left(\\frac{a + b}{2}\\right) + f(b)\\right]\n",
    "$$\n",
    "\n",
    "\n",
    "証明は$f(x) = 1, x, x^2, x^3$でそれぞれで上の式が成り立つことを示せば良い。\n",
    "\n",
    "#### (1) $f(x) = 1$\n",
    "\n",
    "$$\n",
    "\\int^b_a f(x) = b - a \n",
    "$$\n",
    "\n",
    "一方\n",
    "\n",
    "$$\n",
    "\\frac{b - a}{6} \\left[f(a) + 4\\left(\\frac{a + b}{2}\\right) + f(b)\\right] = \\frac{b - a}{6} (1 + 4 + 1) = b - a\n",
    "$$\n",
    "\n",
    "#### (2) $f(x) = x$\n",
    "\n",
    "$$\n",
    "\\int^b_a f(x) = \\frac{1}{2}[b^2 - a^2] \n",
    "$$\n",
    "\n",
    "一方\n",
    "\n",
    "$$\n",
    "\\frac{b - a}{6} \\left[a + 4\\left(\\frac{a + b}{2}\\right) + b \\right] = \\frac{1}{2}(b - a)(a + b) = \\frac{1}{2}[b^2 - a^2] \n",
    "$$\n",
    "\n",
    "#### (3) $f(x) = x^2$\n",
    "\n",
    "$$\n",
    "\\int^b_a f(x) = \\frac{1}{3}[b^3 - a^3] \n",
    "$$\n",
    "\n",
    "一方\n",
    "\n",
    "$$\n",
    "\\frac{b - a}{6}[2a^2 + 2ab + 2b^2] = \\frac{1}{3}(b^3 - a^3)\n",
    "$$\n",
    "\n",
    "#### (3) $f(x) = x^3$\n",
    "\n",
    "$$\n",
    "\\int^b_a f(x) = \\frac{1}{4}[b^4 - a^4] \n",
    "$$\n",
    "\n",
    "一方\n",
    "\n",
    "$$\n",
    "\\frac{b - a}{6} \\left(a^3 + \\frac{(a + b)^3}{2} + b^3\\right) = \\frac{b - a}{12}(3a^3 + 3b^3 + 3a^2b + 3ab^2) = \\frac{1}{4}(b^4 - a^4)\n",
    "$$\n",
    "\n",
    "途中の計算は交代式\n",
    "\n",
    "\n",
    "#### 交代式の因数分解\n",
    "\n",
    "- 交代式とは，どの2つの変数を入れ替えても −1倍になるような式のことです。例えば $a^2−b^2$という式は，a と b を入れ替えると $b^2−a^2$ となり，元の式の −1 倍になるので交代式です。\n",
    "- 対称式とは，どの2つの変数を入れ替えても元の値と変わらない式のこと\n",
    "\n",
    "$$\n",
    "a^4−b^4=(a−b)(a^3+a^2b+ab^2+b^3)\n",
    "$$\n",
    "\n",
    "$$\n",
    "a^n+b^n=(a+b)(a^{n-1}-a^{n-2}b+\\cdots-ab^{n-2}+b^{n-1})\n",
    "$$\n"
   ]
  },
  {
   "cell_type": "markdown",
   "metadata": {},
   "source": [
    "### [例題10] シンプソンの公式\n",
    "\n",
    "シンプソンの公式を用いて、\n",
    "\n",
    "$$\n",
    "\\int^1_0 3x^2 dx\n",
    "$$\n",
    "\n",
    "を計算せよ"
   ]
  },
  {
   "cell_type": "code",
   "execution_count": 33,
   "metadata": {},
   "outputs": [],
   "source": [
    "def simp(f, a, b, N):\n",
    "    '''\n",
    "    Simpson's rule approximates the integral \\int_a^b f(x) dx by the sum:\n",
    "    (dx/3) \\sum_{k=1}^{N/2} (f(x_{2i-2} + 4f(x_{2i-1}) + f(x_{2i}))\n",
    "    where x_i = a + i*dx and dx = (b - a)/N.\n",
    "    '''\n",
    "    if N % 2 == 1:\n",
    "        raise ValueError(\"N must be an even integer.\")\n",
    "    \n",
    "    dx = (b-a)/N\n",
    "    x = np.linspace(a,b,N+1) # 区間をN個\n",
    "    y = f(x)\n",
    "    S = dx/3 * np.sum(y[0:-1:2] + 4*y[1::2] + y[2::2])\n",
    "    return S"
   ]
  },
  {
   "cell_type": "code",
   "execution_count": 34,
   "metadata": {},
   "outputs": [
    {
     "data": {
      "text/plain": [
       "1.0"
      ]
     },
     "execution_count": 34,
     "metadata": {},
     "output_type": "execute_result"
    }
   ],
   "source": [
    "simp(lambda x: 3*x**2, 0, 1, 50)"
   ]
  },
  {
   "cell_type": "markdown",
   "metadata": {},
   "source": [
    "### 演習問題"
   ]
  },
  {
   "cell_type": "markdown",
   "metadata": {},
   "source": [
    "#### [1 - 1]\n",
    "2進数01101000を10進数で表せ"
   ]
  },
  {
   "cell_type": "code",
   "execution_count": 35,
   "metadata": {},
   "outputs": [
    {
     "data": {
      "text/plain": [
       "104"
      ]
     },
     "execution_count": 35,
     "metadata": {},
     "output_type": "execute_result"
    }
   ],
   "source": [
    "binary_to_decimal('01101000')"
   ]
  },
  {
   "cell_type": "markdown",
   "metadata": {},
   "source": [
    "#### [1 - 2]\n",
    "10進数72を2進数で表せ"
   ]
  },
  {
   "cell_type": "code",
   "execution_count": 36,
   "metadata": {},
   "outputs": [
    {
     "data": {
      "text/plain": [
       "'1001000'"
      ]
     },
     "execution_count": 36,
     "metadata": {},
     "output_type": "execute_result"
    }
   ],
   "source": [
    "decimal_to_binary(72)"
   ]
  },
  {
   "cell_type": "markdown",
   "metadata": {},
   "source": [
    "#### [1-3]\n",
    "2進数0.011を10進数であらわせ"
   ]
  },
  {
   "cell_type": "code",
   "execution_count": 37,
   "metadata": {},
   "outputs": [
    {
     "data": {
      "text/plain": [
       "0.375"
      ]
     },
     "execution_count": 37,
     "metadata": {},
     "output_type": "execute_result"
    }
   ],
   "source": [
    "binary_to_decimalpoint(0.011)"
   ]
  },
  {
   "cell_type": "markdown",
   "metadata": {},
   "source": [
    "#### [1-4]\n",
    "10進数0.3125を2進数で表せ"
   ]
  },
  {
   "cell_type": "code",
   "execution_count": 38,
   "metadata": {},
   "outputs": [
    {
     "data": {
      "text/plain": [
       "'0.0101'"
      ]
     },
     "execution_count": 38,
     "metadata": {},
     "output_type": "execute_result"
    }
   ],
   "source": [
    "decimal_to_binarypoint(0.3125, iterator = 10)"
   ]
  },
  {
   "cell_type": "markdown",
   "metadata": {},
   "source": [
    "#### [2-2]\n",
    "次のIEEE形式浮動小数点数が表す値を答えよ\n",
    "\n",
    "```\n",
    "1 01111111 10000000000000000000000\n",
    "```"
   ]
  },
  {
   "cell_type": "code",
   "execution_count": 39,
   "metadata": {},
   "outputs": [
    {
     "name": "stdout",
     "output_type": "stream",
     "text": [
      "-1.5\n"
     ]
    }
   ],
   "source": [
    "s = 1\n",
    "e = 127 - 127\n",
    "m = 1.5\n",
    "\n",
    "print((-1 ** s) * (2 ** e) * m)"
   ]
  },
  {
   "cell_type": "markdown",
   "metadata": {},
   "source": [
    "#### [4 - 1]\n",
    "IEEE単精度浮動小数点数で表される最大の数Mの10進法における桁数を求めよ"
   ]
  },
  {
   "cell_type": "code",
   "execution_count": 40,
   "metadata": {},
   "outputs": [
    {
     "name": "stdout",
     "output_type": "stream",
     "text": [
      "10進法における桁数は39\n"
     ]
    }
   ],
   "source": [
    "res = int(np.log(2.0 * (2 ** (254 - 127)))/ np.log(10)) + 1\n",
    "print('10進法における桁数は{}'.format(res))"
   ]
  },
  {
   "cell_type": "markdown",
   "metadata": {},
   "source": [
    "#### [6-1]\n",
    "\n",
    "真の値3.141592に対して近似値が3.14であるとき絶対誤差、相対誤差、精度は何桁か？"
   ]
  },
  {
   "cell_type": "code",
   "execution_count": 41,
   "metadata": {},
   "outputs": [
    {
     "name": "stdout",
     "output_type": "stream",
     "text": [
      "0.001592 0.0005067 3\n"
     ]
    }
   ],
   "source": [
    "true = 3.141592\n",
    "approx = 3.14\n",
    "\n",
    "abs_error = abs(approx - true)\n",
    "relative_error = abs_error/true\n",
    "precision = -np.log10(relative_error)\n",
    "\n",
    "print(round(abs_error, 7), round(relative_error, 7), int(precision))"
   ]
  },
  {
   "cell_type": "markdown",
   "metadata": {},
   "source": [
    "#### [7] 二次方程式の解の公式と桁落ち対策\n",
    "\n",
    "解の公式\n",
    "\n",
    "$$\n",
    "x = \\frac{-b \\pm \\sqrt{b^2 - 4ac}}{2a}\n",
    "$$\n",
    "\n",
    "をそのまま計算すると桁落ちのリスクがある。これを回避する手法を実装せよ。"
   ]
  },
  {
   "cell_type": "markdown",
   "metadata": {},
   "source": [
    "#### [解]\n",
    "\n",
    "```\n",
    "INPUT\n",
    "    a, b, c : 二次方程式の係数（xのorderが高い順で並べている）\n",
    "\n",
    "OUTPUT\n",
    "    x0, x1: 解\n",
    "    \n",
    "ALGORITHM\n",
    "    1. x0 = [-b - sign(b)*sqrt(b^2 - 4ac)]/2a\n",
    "    2. x1 = (c/a * x0)\n",
    "    3. return x0, x1\n",
    "```"
   ]
  },
  {
   "cell_type": "code",
   "execution_count": 42,
   "metadata": {},
   "outputs": [],
   "source": [
    "def qeq(a, b, c):\n",
    "    d = np.sqrt(b**2 - 4*a*c)\n",
    "    alpha = (-b - np.sign(b)*d)/(2 * a)\n",
    "    beta = c/(a * alpha)\n",
    "    return (alpha, beta)"
   ]
  },
  {
   "cell_type": "code",
   "execution_count": 43,
   "metadata": {},
   "outputs": [
    {
     "data": {
      "text/plain": [
       "(-3.0, -2.0)"
      ]
     },
     "execution_count": 43,
     "metadata": {},
     "output_type": "execute_result"
    }
   ],
   "source": [
    "qeq(1, 5, 6)"
   ]
  },
  {
   "cell_type": "code",
   "execution_count": null,
   "metadata": {},
   "outputs": [],
   "source": []
  }
 ],
 "metadata": {
  "kernelspec": {
   "display_name": "Python 3",
   "language": "python",
   "name": "python3"
  },
  "language_info": {
   "codemirror_mode": {
    "name": "ipython",
    "version": 3
   },
   "file_extension": ".py",
   "mimetype": "text/x-python",
   "name": "python",
   "nbconvert_exporter": "python",
   "pygments_lexer": "ipython3",
   "version": "3.7.4"
  }
 },
 "nbformat": 4,
 "nbformat_minor": 4
}
