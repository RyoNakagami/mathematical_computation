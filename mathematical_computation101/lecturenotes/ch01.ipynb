{
 "cells": [
  {
   "cell_type": "markdown",
   "metadata": {
    "toc-hr-collapsed": false
   },
   "source": [
    "# 1. 数の表現と誤差"
   ]
  },
  {
   "cell_type": "markdown",
   "metadata": {
    "toc-hr-collapsed": true
   },
   "source": [
    "## 概要\n",
    "\n",
    "- コンピューターは、浮動小数点という形式のbit列で実数を表現している。\n",
    "- 列の長さと計算時間が有限という制約から発生する誤差をまとめる\n",
    "\n",
    "## Key-words\n",
    "\n",
    "- float\n",
    "- overflow, underflow\n",
    "- absolute error, relative error\n",
    "- rounding error\n",
    "- 桁落ち\n",
    "- 情報落ち\n",
    "- 打ち切り誤差\n",
    "- 離散化誤差"
   ]
  },
  {
   "cell_type": "markdown",
   "metadata": {},
   "source": [
    "### Hardware"
   ]
  },
  {
   "cell_type": "code",
   "execution_count": 1,
   "metadata": {},
   "outputs": [
    {
     "name": "stdout",
     "output_type": "stream",
     "text": [
      "      Model Identifier: MacBookPro13,1\n",
      "      Processor Name: Dual-Core Intel Core i5\n",
      "      Processor Speed: 2 GHz\n",
      "      Number of Processors: 1\n",
      "      Memory: 16 GB\n"
     ]
    }
   ],
   "source": [
    "%%bash\n",
    "system_profiler SPHardwareDataType | grep -E \\\n",
    "\"Model Identifier\"\\|\"Processor Name\"\\|\"Processor Speed\"\\\n",
    "\\|\"Number of Processors\"\\|\"Memory:\""
   ]
  },
  {
   "cell_type": "markdown",
   "metadata": {},
   "source": [
    "### Python"
   ]
  },
  {
   "cell_type": "code",
   "execution_count": 2,
   "metadata": {},
   "outputs": [
    {
     "name": "stdout",
     "output_type": "stream",
     "text": [
      "Python 3.7.4\n"
     ]
    }
   ],
   "source": [
    "!python3 -V"
   ]
  },
  {
   "cell_type": "markdown",
   "metadata": {},
   "source": [
    "### Import"
   ]
  },
  {
   "cell_type": "code",
   "execution_count": 3,
   "metadata": {},
   "outputs": [],
   "source": [
    "import numpy as np\n",
    "import matplotlib.pyplot as plt\n",
    "from scipy import optimize\n",
    "import pandas as pd\n",
    "import sys"
   ]
  },
  {
   "cell_type": "markdown",
   "metadata": {
    "toc-hr-collapsed": false
   },
   "source": [
    "## Table of Contents\n",
    "\n",
    "1. [二進法](#二進法)\n",
    "    - [ホーナー法](#ホーナー法)\n",
    "2. [Fixed point number](#Fixed_point_number)\n",
    "    - [浮動小数点演算とPython](#浮動小数点演算とPython)\n",
    "    - [オーバーフローとアンダーフロー](#オーバーフローとアンダーフロー)\n",
    "    - [計算機イプシロン](#計算機イプシロン)\n",
    "    - [IEEE単精度表現の相対誤差](#IEEE単精度表現の相対誤差の程度)\n",
    "3. [Decimal](#Decimal)\n",
    "4. [誤差](#誤差)\n",
    "    - [誤差の原因](#誤差の原因)\n",
    "    - [丸め誤差](#丸め誤差)\n",
    "    - [多項式の計算に伴う丸め誤差の見積もり](#多項式の計算に伴う丸め誤差の見積もり)\n",
    "    - [桁落ち](#桁落ち:cancellation)\n",
    "    - [情報落ち](#情報落ち)\n",
    "    - [打ち切り誤差](#打ち切り誤差)\n",
    "    - [離散化誤差](#離散化誤差)\n",
    "    - [シンプソンの公式](#シンプソンの公式)\n",
    "    - [Aitken's Delta squared method](#収束速度の加速)\n",
    "5. [演習問題](#演習問題)\n"
   ]
  },
  {
   "cell_type": "markdown",
   "metadata": {
    "toc-hr-collapsed": true
   },
   "source": [
    "## 二進法\n",
    "### [例題１]\n",
    "\n",
    "2進数00101001を10進数で表せ"
   ]
  },
  {
   "cell_type": "code",
   "execution_count": 4,
   "metadata": {},
   "outputs": [],
   "source": [
    "def binary_to_decimal(x):\n",
    "    import re\n",
    "    \n",
    "    if not isinstance(x, str):\n",
    "        raise ValueError('引数が文字列ではありません')\n",
    "    condition_1 = re.findall('\\D|[2-9]', x)\n",
    "    \n",
    "    if condition_1:\n",
    "        print(condition_1)\n",
    "        raise ValueError('引数に不正な文字列が入っています')\n",
    "    \n",
    "    res = 0\n",
    "    length = len(x) - 1\n",
    "    for i, j in enumerate(x):\n",
    "        i = length - i\n",
    "        res += int(j) * (2 ** (i))\n",
    "        \n",
    "    return res"
   ]
  },
  {
   "cell_type": "code",
   "execution_count": 5,
   "metadata": {},
   "outputs": [
    {
     "data": {
      "text/plain": [
       "41"
      ]
     },
     "execution_count": 5,
     "metadata": {},
     "output_type": "execute_result"
    }
   ],
   "source": [
    "binary_to_decimal('00101001')"
   ]
  },
  {
   "cell_type": "code",
   "execution_count": 6,
   "metadata": {},
   "outputs": [],
   "source": [
    "def binary_to_decimal_2(x):\n",
    "    import re\n",
    "    if not isinstance(x, str):\n",
    "        raise ValueError('引数が文字列ではありません')\n",
    "    condition_1 = re.findall('\\D|[2-9]', x)\n",
    "    \n",
    "    if condition_1:\n",
    "        print(condition_1)\n",
    "        raise ValueError('引数に不正な文字列が入っています')\n",
    "    \n",
    "    x = int(x)\n",
    "    base = 0\n",
    "    res = 0\n",
    "    while x:\n",
    "        digit = x % 10\n",
    "        res += (2 ** base) * digit\n",
    "        \n",
    "        base += 1\n",
    "        x = int(x / 10)\n",
    "        \n",
    "    return res"
   ]
  },
  {
   "cell_type": "code",
   "execution_count": 7,
   "metadata": {},
   "outputs": [
    {
     "data": {
      "text/plain": [
       "41"
      ]
     },
     "execution_count": 7,
     "metadata": {},
     "output_type": "execute_result"
    }
   ],
   "source": [
    "binary_to_decimal_2('00101001')"
   ]
  },
  {
   "cell_type": "code",
   "execution_count": 8,
   "metadata": {},
   "outputs": [
    {
     "name": "stdout",
     "output_type": "stream",
     "text": [
      "6.68 µs ± 152 ns per loop (mean ± std. dev. of 3 runs, 1000 loops each)\n"
     ]
    }
   ],
   "source": [
    "%%timeit -r 3 -n 1000\n",
    "binary_to_decimal('00101001')"
   ]
  },
  {
   "cell_type": "code",
   "execution_count": 9,
   "metadata": {},
   "outputs": [
    {
     "name": "stdout",
     "output_type": "stream",
     "text": [
      "5.54 µs ± 261 ns per loop (mean ± std. dev. of 3 runs, 1000 loops each)\n"
     ]
    }
   ],
   "source": [
    "%%timeit -r 3 -n 1000\n",
    "binary_to_decimal_2('00101001')"
   ]
  },
  {
   "cell_type": "markdown",
   "metadata": {
    "toc-hr-collapsed": true
   },
   "source": [
    "### ホーナー法\n",
    "\n",
    "以下のn次の代数方程式を解くときの演算回数を考える．\n",
    "\n",
    "$$\n",
    "f(x) = a_0x^n + ... + a_{n - 1}x + a_n\n",
    "$$\n",
    "\n",
    "普通にそれぞれの項を計算して、最後に足し合わせる計算方法を取ると乗算回数が$n(n+1)/2$, 加算回数がn回。一方ホーナー法では\n",
    "\n",
    "$$\n",
    "f(x) = (...((a_0x + a_1)x + a_2)x + .... + a_{n -2})x + a_{n - 1}) + a_n\n",
    "$$、\n",
    "\n",
    "として計算するので乗算回数、加算回数それぞれn回ずつとなる。"
   ]
  },
  {
   "cell_type": "code",
   "execution_count": 10,
   "metadata": {},
   "outputs": [],
   "source": [
    "def hornor_binary_to_decimal(x):\n",
    "    res = int(x[0])\n",
    "    n = len(x)\n",
    "    for i in range(1, n):\n",
    "        \n",
    "        res = res*2 + int(x[i])\n",
    "        \n",
    "    return res"
   ]
  },
  {
   "cell_type": "code",
   "execution_count": 11,
   "metadata": {},
   "outputs": [
    {
     "data": {
      "text/plain": [
       "41"
      ]
     },
     "execution_count": 11,
     "metadata": {},
     "output_type": "execute_result"
    }
   ],
   "source": [
    "hornor_binary_to_decimal('00101001')"
   ]
  },
  {
   "cell_type": "code",
   "execution_count": 12,
   "metadata": {},
   "outputs": [
    {
     "name": "stdout",
     "output_type": "stream",
     "text": [
      "4.81 µs ± 722 ns per loop (mean ± std. dev. of 3 runs, 1000 loops each)\n"
     ]
    }
   ],
   "source": [
    "%%timeit -r 3 -n 1000\n",
    "hornor_binary_to_decimal('00101001')"
   ]
  },
  {
   "cell_type": "markdown",
   "metadata": {},
   "source": [
    "hornor's ruleを用いると速い"
   ]
  },
  {
   "cell_type": "markdown",
   "metadata": {},
   "source": [
    "### [例題２]\n",
    "\n",
    "10進数41を2進数で表せ"
   ]
  },
  {
   "cell_type": "code",
   "execution_count": 13,
   "metadata": {},
   "outputs": [],
   "source": [
    "def decimal_to_binary(x):\n",
    "    quotient, remainder = divmod(x, 2)\n",
    "    res = str(remainder)\n",
    "    while quotient > 0:\n",
    "        quotient, remainder = divmod(quotient, 2)\n",
    "        res = str(remainder) + res\n",
    "    \n",
    "    return res\n",
    "    "
   ]
  },
  {
   "cell_type": "code",
   "execution_count": 14,
   "metadata": {},
   "outputs": [
    {
     "data": {
      "text/plain": [
       "'101001'"
      ]
     },
     "execution_count": 14,
     "metadata": {},
     "output_type": "execute_result"
    }
   ],
   "source": [
    "decimal_to_binary(41)"
   ]
  },
  {
   "cell_type": "code",
   "execution_count": 15,
   "metadata": {},
   "outputs": [
    {
     "name": "stdout",
     "output_type": "stream",
     "text": [
      "3.29 µs ± 549 ns per loop (mean ± std. dev. of 3 runs, 1000 loops each)\n"
     ]
    }
   ],
   "source": [
    "%%timeit -r 3 -n 1000\n",
    "decimal_to_binary(41)"
   ]
  },
  {
   "cell_type": "markdown",
   "metadata": {},
   "source": [
    "### [例題3]\n",
    "\n",
    "2進数0.1100を10進数で表せ"
   ]
  },
  {
   "cell_type": "code",
   "execution_count": 16,
   "metadata": {},
   "outputs": [],
   "source": [
    "def binary_to_decimalpoint(x, point = 7):\n",
    "    \"\"\"\n",
    "    x should be smaller than 1 and positive \n",
    "    \"\"\"\n",
    "    eps = eval('1e-' + str(point - 1))\n",
    "    base = 1\n",
    "    res = 0\n",
    "    while abs(x - 0) > eps:\n",
    "        x = 10*x\n",
    "        res += ((1/2)**base) * int(x)\n",
    "        x = round(x -  int(x), point)\n",
    "        base += 1\n",
    "    \n",
    "    return res"
   ]
  },
  {
   "cell_type": "code",
   "execution_count": 17,
   "metadata": {},
   "outputs": [
    {
     "data": {
      "text/plain": [
       "0.75"
      ]
     },
     "execution_count": 17,
     "metadata": {},
     "output_type": "execute_result"
    }
   ],
   "source": [
    "binary_to_decimalpoint(0.1100000)"
   ]
  },
  {
   "cell_type": "code",
   "execution_count": 18,
   "metadata": {},
   "outputs": [
    {
     "name": "stdout",
     "output_type": "stream",
     "text": [
      "11.2 µs ± 605 ns per loop (mean ± std. dev. of 3 runs, 1000 loops each)\n"
     ]
    }
   ],
   "source": [
    "%%timeit -r 3 -n 1000\n",
    "binary_to_decimalpoint(0.1100)"
   ]
  },
  {
   "cell_type": "markdown",
   "metadata": {},
   "source": [
    "### [例題4]\n",
    "\n",
    "10進数0.6875を2進数で表せ"
   ]
  },
  {
   "cell_type": "code",
   "execution_count": 19,
   "metadata": {},
   "outputs": [],
   "source": [
    "def decimal_to_binarypoint(x, iterator, point = 7):\n",
    "    \"\"\"\n",
    "    x should be smaller than 1 and positive \n",
    "    \"\"\"\n",
    "    eps = eval('1e-' + str(point - 1))\n",
    "    res = '0.'\n",
    "    counter = 0\n",
    "    while abs(x - 0) > eps and counter < iterator: \n",
    "        x = 2*x\n",
    "        res += str(int(x))\n",
    "        x = round(x - int(x), point)\n",
    "        counter += 1\n",
    "    \n",
    "    return res"
   ]
  },
  {
   "cell_type": "code",
   "execution_count": 20,
   "metadata": {},
   "outputs": [
    {
     "data": {
      "text/plain": [
       "'0.1011'"
      ]
     },
     "execution_count": 20,
     "metadata": {},
     "output_type": "execute_result"
    }
   ],
   "source": [
    "decimal_to_binarypoint(x = 0.6875, iterator = 7, point = 7)"
   ]
  },
  {
   "cell_type": "markdown",
   "metadata": {
    "toc-hr-collapsed": true
   },
   "source": [
    "## Fixed_point_number\n",
    "\n",
    "- 浮動小数点数に比べて表現できる値の範囲ははるかに狭い\n",
    "- 情報落ちが起こらない（そもそも情報落ちが起きるような差のある値は表現できない）ことや高速に演算できることが利点に挙げられる。\n",
    "- 整数部、小数部、固定小数点で構成されている\n",
    "\n",
    "\n",
    "### 浮動小数点(IEEE形式 32 bit = 4 byte)\n",
    "\n",
    "- s: 符号, 1 bit\n",
    "- m: 仮数部, 23 bit\n",
    "- e: 指数部, 8 bit\n",
    "\n",
    "$$\n",
    "(-1)^s\\times (1.m)_2\\times 2^{e - 127}\n",
    "$$\n",
    "\n",
    "- $e \\in (0, 255)$ then, $(-1)^s\\times (1.m)_2\\times 2^{e - 127}$\n",
    "- $e = 255, m \\neq 0$, NaN\n",
    "- $e = 255, m = 0$, then $(-1)^s\\times\\infty$\n",
    "- $e = 0, m \\neq 0$, then $(-1)^s\\times (0.m)_2\\times 2^{e - 127}$\n",
    "\n",
    "IEEE形式倍精度(64 bit)は\n",
    "\n",
    "- s: 符号, 1 bit\n",
    "- m: 仮数部, 52 bit\n",
    "- e: 指数部, 11 bit\n",
    "\n",
    "$$\n",
    "(-1)^s\\times (1.m)_2\\times 2^{e - 1023}\n",
    "$$\n",
    "\n",
    "\n",
    "\n",
    "なお、ほとんどすべて IEEE-754 浮動小数点演算を使用しており、ほとんどすべてのプラットフォームでは Python の浮動小数点を IEEE-754 における \"倍精度(double precision)\" に対応付けいているはず。\n",
    "\n",
    "### REAMRK\n",
    "\n",
    "- 浮動小数点数は数直線に一様に分布していない"
   ]
  },
  {
   "cell_type": "markdown",
   "metadata": {
    "toc-hr-collapsed": true
   },
   "source": [
    "### 浮動小数点演算とPython\n",
    "\n",
    "近年の殆どのコンピュータでは float 型は、最上位ビットから数えて最初の 53 ビットを分子、2 の冪乗を分母とした、二進小数で近似されます。1/10 の場合は、二進小数は 3602879701896397 / 2 ** 55 となります。これは、1/10 に近いですが、厳密に同じ値ではありません。"
   ]
  },
  {
   "cell_type": "markdown",
   "metadata": {},
   "source": [
    "実際に確かめてみる"
   ]
  },
  {
   "cell_type": "code",
   "execution_count": 21,
   "metadata": {},
   "outputs": [
    {
     "data": {
      "text/plain": [
       "0.1"
      ]
     },
     "execution_count": 21,
     "metadata": {},
     "output_type": "execute_result"
    }
   ],
   "source": [
    "3602879701896397 / 2 ** 55"
   ]
  },
  {
   "cell_type": "code",
   "execution_count": 22,
   "metadata": {},
   "outputs": [
    {
     "name": "stdout",
     "output_type": "stream",
     "text": [
      "0.1\n",
      "0.2\n",
      "0.30000000000000004\n",
      "0.4\n",
      "0.5\n",
      "0.6\n",
      "0.7\n",
      "0.7999999999999999\n",
      "0.8999999999999999\n",
      "0.9999999999999999\n"
     ]
    }
   ],
   "source": [
    "approx = 3602879701896397 / 2 ** 55\n",
    "res = 0\n",
    "for i in range(10):\n",
    "    res += approx\n",
    "    print(res)"
   ]
  },
  {
   "cell_type": "markdown",
   "metadata": {},
   "source": [
    "正確な10進数表現が必要となるような場合には、 decimal モジュールを利用してみてください。このモジュールは会計アプリケーションや高精度の計算が求められるアプリケーションに適した、10進数の計算を実装しています。"
   ]
  },
  {
   "cell_type": "markdown",
   "metadata": {},
   "source": [
    "### オーバーフローとアンダーフロー\n",
    "\n",
    "実際の値は数直線上のどんなに狭い部分にも無限個の実数が含まれている一方、コンピューターによる数の表現範囲には限界があることに起因：\n",
    "\n",
    "- オーバーフロー：数値の絶対値が表現可能な最大数を超える場合に発生\n",
    "- アンダーフロー：数値の絶対値が表現可能な最小数より小さい場合に発生"
   ]
  },
  {
   "cell_type": "markdown",
   "metadata": {},
   "source": [
    "### 計算機イプシロン\n",
    "\n",
    "実数 x の丸めをfl(x)とかく。浮動小数点の絶対値最大を $F_{max}$，絶対値 最小を $F_{min}$ とするとき，丸め誤差の絶対値の意味での相対誤差の最大値:\n",
    "\n",
    "$$\n",
    "\\epsilon_M \\equiv \\max_{F_{min}\\leq |x| \\leq F_{max}} \\frac{|fl(x) - x|}{x}\n",
    "$$\n",
    "\n",
    "- マシンイプシロンは「浮動小数点数の最小の値」ではない.\n",
    "- マシンイプシロンは「相対的に x と $(1 + \\epsilon_M )x$ の区別がつかなくなる最大の正の数」として，収束判定条件や誤差評価で利用される.\n"
   ]
  },
  {
   "cell_type": "markdown",
   "metadata": {},
   "source": [
    "### [例題5] 計算機イプシロンの確認"
   ]
  },
  {
   "cell_type": "code",
   "execution_count": 23,
   "metadata": {},
   "outputs": [],
   "source": [
    "def machine_eps_checker():\n",
    "    eps = 1\n",
    "    while 1.0 + eps != 1.0:\n",
    "        eps = eps/2\n",
    "    return eps"
   ]
  },
  {
   "cell_type": "code",
   "execution_count": 24,
   "metadata": {},
   "outputs": [
    {
     "data": {
      "text/plain": [
       "1.1102230246251565e-16"
      ]
     },
     "execution_count": 24,
     "metadata": {},
     "output_type": "execute_result"
    }
   ],
   "source": [
    "machine_eps_checker()"
   ]
  },
  {
   "cell_type": "markdown",
   "metadata": {},
   "source": [
    "### IEEE単精度表現の相対誤差の程度\n",
    "\n",
    "切り捨て浮動小数点での表示をm桁(IEEE単精度なら23)までできたとする。そのときそれより先のm+1以上の桁を切り捨てて表示したとすると、その切り捨てた分が誤差になる。\n",
    "\n",
    "- $\\epsilon$: error\n",
    "- z: true value\n",
    "- F: 表現可能な近似値\n",
    "\n",
    "$$\n",
    "\\begin{aligned}\n",
    "\\epsilon &= z - F = 2^{e - 127} \\times (1.f_1f_2...)_2 - 2^{e - 127} \\times (1.f_1f_2...f_m)_2\\\\\n",
    "&= 2^{e - 127} \\times (0.00....f_{m+1}....)\n",
    "\\end{aligned}\n",
    "$$\n",
    "\n",
    "このとき、mが十分大きいとき、\n",
    "\n",
    "$$\n",
    "\\epsilon \\approx 2^{e - 127} \\times f_{m + 1}2^{- (m + 1)}\n",
    "$$\n",
    "\n",
    "このときの相対誤差は\n",
    "\n",
    "$$\n",
    "\\text{relative error} \\leq \\frac{2^{e - 127} \\times f_{m + 1}2^{- (m + 1)}}{2^{e - 127} \\times (1.f_1f_2...f_m)_2}\n",
    "$$\n",
    "\n",
    "\n",
    "よって、\n",
    "\n",
    "- 表現の相対誤差は$f_1, ..., f_m, ...$全てが1の時(2に近似できる)最小で、$2^{- (m + 2)} = 2^{-25}$\n",
    "- $f_1, ..., f_m, ...$全てが0の時最大で$2^{- (m + 1)} = 2^{-24}$\n",
    "\n",
    "\n"
   ]
  },
  {
   "cell_type": "markdown",
   "metadata": {},
   "source": [
    "### IEEE 754 半精度2進浮動小数点表現: binary16\n",
    "\n",
    "- 符号部: 1 bit\n",
    "- 指数部: 5 bit\n",
    "- 仮数部: 10 bit (精度は11 bit)\n",
    "- 2 btyes\n",
    "\n",
    "仮数部の精度は十進数にしておよそ3桁の値。TensorFlowとかで実装されている（bfloat16）.\n",
    "\n",
    "### メリット\n",
    "\n",
    "- メモリ内のデータのサイズが小さくなり、より大きいモデルを同じメモリ量に収めることができます。\n",
    "- 再実体化を削減することもできるため、ステップ時間が改善されます。\n",
    "- less precision but less memory and faster\n",
    "\n",
    "### デメリット\n",
    "\n",
    "- 0.5%くらいの相対誤差は含まれてしまう。"
   ]
  },
  {
   "cell_type": "markdown",
   "metadata": {
    "toc-hr-collapsed": true
   },
   "source": [
    "## Decimal\n",
    "\n",
    "- 10進数を正確に表現したい場合はdecimal moduleを使用する\n",
    "- 数値間の等価性を厳しく保たなければならないようなアプリケーションを考えるなら、十進数による数値表現が望ましい\n",
    "- 有効数字もコントロールできる\n",
    "- 金融アプリケーションで便利"
   ]
  },
  {
   "cell_type": "code",
   "execution_count": 25,
   "metadata": {},
   "outputs": [],
   "source": [
    "from decimal import *"
   ]
  },
  {
   "cell_type": "code",
   "execution_count": 26,
   "metadata": {},
   "outputs": [
    {
     "data": {
      "text/plain": [
       "Decimal('0.142857')"
      ]
     },
     "execution_count": 26,
     "metadata": {},
     "output_type": "execute_result"
    }
   ],
   "source": [
    "getcontext().prec = 6\n",
    "Decimal(1) / Decimal(7)"
   ]
  },
  {
   "cell_type": "markdown",
   "metadata": {},
   "source": [
    "### 丸め誤差の伝搬の対策"
   ]
  },
  {
   "cell_type": "code",
   "execution_count": 27,
   "metadata": {},
   "outputs": [],
   "source": [
    "def accumulative_error(a):\n",
    "    if isinstance(a, Decimal):\n",
    "        tmp = Decimal('0.0')\n",
    "    else:\n",
    "        tmp = 0.0\n",
    "    for i in range(1000):\n",
    "        tmp = a + tmp  \n",
    "    return tmp"
   ]
  },
  {
   "cell_type": "code",
   "execution_count": 28,
   "metadata": {},
   "outputs": [
    {
     "name": "stdout",
     "output_type": "stream",
     "text": [
      "100.0 99.9999999999986\n"
     ]
    }
   ],
   "source": [
    "x = Decimal('0.1')\n",
    "y = 0.1\n",
    "\n",
    "decimal_return = accumulative_error(x)\n",
    "float_return = accumulative_error(y)\n",
    "\n",
    "print(decimal_return, float_return)"
   ]
  },
  {
   "cell_type": "markdown",
   "metadata": {},
   "source": [
    "### Decimalの入力"
   ]
  },
  {
   "cell_type": "code",
   "execution_count": 29,
   "metadata": {},
   "outputs": [
    {
     "data": {
      "text/plain": [
       "Decimal('3.140000000000000124344978758017532527446746826171875')"
      ]
     },
     "execution_count": 29,
     "metadata": {},
     "output_type": "execute_result"
    }
   ],
   "source": [
    "Decimal(3.14)"
   ]
  },
  {
   "cell_type": "code",
   "execution_count": 30,
   "metadata": {},
   "outputs": [
    {
     "data": {
      "text/plain": [
       "Decimal('3.14')"
      ]
     },
     "execution_count": 30,
     "metadata": {},
     "output_type": "execute_result"
    }
   ],
   "source": [
    "Decimal('3.14')"
   ]
  },
  {
   "cell_type": "markdown",
   "metadata": {},
   "source": [
    "Float入力を禁止したい場合は"
   ]
  },
  {
   "cell_type": "code",
   "execution_count": 31,
   "metadata": {},
   "outputs": [],
   "source": [
    "getcontext().traps[FloatOperation] = True\n",
    "#Decimal(3.14)"
   ]
  },
  {
   "cell_type": "markdown",
   "metadata": {},
   "source": [
    "### 有効数字の設定\n",
    "\n",
    "- 算術演算のときに効力を発揮する"
   ]
  },
  {
   "cell_type": "code",
   "execution_count": 32,
   "metadata": {},
   "outputs": [],
   "source": [
    "getcontext().prec = 6"
   ]
  },
  {
   "cell_type": "code",
   "execution_count": 33,
   "metadata": {},
   "outputs": [
    {
     "data": {
      "text/plain": [
       "Decimal('3.1415926535')"
      ]
     },
     "execution_count": 33,
     "metadata": {},
     "output_type": "execute_result"
    }
   ],
   "source": [
    "Decimal('3.1415926535')"
   ]
  },
  {
   "cell_type": "code",
   "execution_count": 34,
   "metadata": {},
   "outputs": [
    {
     "data": {
      "text/plain": [
       "Decimal('6.28319')"
      ]
     },
     "execution_count": 34,
     "metadata": {},
     "output_type": "execute_result"
    }
   ],
   "source": [
    "Decimal('3.1415926535') + Decimal('3.1415926535')"
   ]
  },
  {
   "cell_type": "markdown",
   "metadata": {},
   "source": [
    "入力値の段階でコントロールしたい場合は"
   ]
  },
  {
   "cell_type": "code",
   "execution_count": 35,
   "metadata": {},
   "outputs": [
    {
     "data": {
      "text/plain": [
       "Decimal('7.32')"
      ]
     },
     "execution_count": 35,
     "metadata": {},
     "output_type": "execute_result"
    }
   ],
   "source": [
    "Decimal('7.325').quantize(Decimal('.01'), rounding=ROUND_DOWN)"
   ]
  },
  {
   "cell_type": "markdown",
   "metadata": {},
   "source": [
    "### memoryの大きさ"
   ]
  },
  {
   "cell_type": "code",
   "execution_count": 36,
   "metadata": {},
   "outputs": [
    {
     "data": {
      "text/plain": [
       "24"
      ]
     },
     "execution_count": 36,
     "metadata": {},
     "output_type": "execute_result"
    }
   ],
   "source": [
    "x = 0.1234567\n",
    "y = Decimal('0.1234567')\n",
    "\n",
    "sys.getsizeof(x)"
   ]
  },
  {
   "cell_type": "code",
   "execution_count": 37,
   "metadata": {},
   "outputs": [
    {
     "data": {
      "text/plain": [
       "104"
      ]
     },
     "execution_count": 37,
     "metadata": {},
     "output_type": "execute_result"
    }
   ],
   "source": [
    "sys.getsizeof(y)"
   ]
  },
  {
   "cell_type": "markdown",
   "metadata": {},
   "source": [
    "float64表現より多くのメモリ領域を要してしまう。"
   ]
  },
  {
   "cell_type": "markdown",
   "metadata": {
    "toc-hr-collapsed": true
   },
   "source": [
    "## 誤差\n",
    "\n",
    "- 計算の対象の数が測定値ならば、もともと誤差を含んだものだから、計算結果にも当然その影響が現れる。\n",
    "- 数そのものの誤差（測定誤差、表現の誤差）と計算そのものからの計算誤差（打ち切り誤差など）の２種類がある\n",
    "\n",
    "```\n",
    "絶対誤差 = abs(近似値 - 真の値)\n",
    "相対誤差 = abs(近似値 - 真の値)/abs(真の値)\n",
    "```\n",
    "\n",
    "\n",
    "\n",
    "### 精度の桁数\n",
    "\n",
    "$$\n",
    "\\text{精度の桁数} = - \\log_{10}|\\text{相対誤差}|\n",
    "$$\n",
    "\n",
    "### 誤差の伝搬\n",
    "a, bを真の値、x, yをそれぞれの観測値とする\n",
    "\n",
    "$$\n",
    "x = a \\pm \\Delta a, y = b \\pm \\Delta b\n",
    "$$\n",
    "\n",
    "x、yの関数として計算される量$z = f(x, y)$は\n",
    "\n",
    "$$\n",
    "\\begin{aligned}\n",
    "z & = c \\pm \\Delta c\\\\\n",
    "c & = f(a, b)\\\\\n",
    "\\Delta c & = |f_x(a, b)| \\Delta a + |f_y(a, b)| \\Delta b \n",
    "\\end{aligned}\n",
    "$$\n",
    "\n",
    "- 加減算に際しては絶対誤差の和\n",
    "- 乗除算に際しては相対誤差の和\n"
   ]
  },
  {
   "cell_type": "markdown",
   "metadata": {},
   "source": [
    "### 誤差の原因\n",
    "\n",
    "- 丸め誤差\n",
    "- 桁落ち\n",
    "- 情報落ち\n",
    "- 打ち切り誤差\n",
    "- 離散化誤差\n"
   ]
  },
  {
   "cell_type": "markdown",
   "metadata": {},
   "source": [
    "### 丸め誤差\n",
    "丸め誤差とは数値を有限ビット数で表現するため、最下位桁より小さい部分について四捨五入や切り上げ、切り捨てが行われ発生する誤差のこと。10進数0.1を二進数で表現すると循環小数となってしまい誤差が発生する。"
   ]
  },
  {
   "cell_type": "markdown",
   "metadata": {},
   "source": [
    "### [例題6]\n",
    "丸め誤差の一例を示す。"
   ]
  },
  {
   "cell_type": "code",
   "execution_count": 38,
   "metadata": {},
   "outputs": [
    {
     "name": "stdout",
     "output_type": "stream",
     "text": [
      "0.1\n",
      "0.2\n",
      "0.30000000000000004\n",
      "0.4\n",
      "0.5\n",
      "0.6\n",
      "0.7\n",
      "0.7999999999999999\n",
      "0.8999999999999999\n",
      "0.9999999999999999\n",
      "1.0999999999999999\n",
      "1.2\n",
      "1.3\n",
      "1.4000000000000001\n",
      "1.5000000000000002\n",
      "1.6000000000000003\n",
      "1.7000000000000004\n",
      "1.8000000000000005\n",
      "1.9000000000000006\n",
      "2.0000000000000004\n"
     ]
    }
   ],
   "source": [
    "x = 0.0\n",
    "while x != 1.0 and x < 2.0:\n",
    "    x += 0.1\n",
    "    print(x)"
   ]
  },
  {
   "cell_type": "markdown",
   "metadata": {},
   "source": [
    "- 丸め誤差との兼ね合いで、浮動小数点の比較で完全一致==, != は使ってはならないという原則がある。\n",
    "- 上述のように丸め誤差が伝搬して大きな誤差となる場合もある"
   ]
  },
  {
   "cell_type": "code",
   "execution_count": 39,
   "metadata": {},
   "outputs": [
    {
     "name": "stdout",
     "output_type": "stream",
     "text": [
      "0.1\n",
      "0.2\n",
      "0.30000000000000004\n",
      "0.4\n",
      "0.5\n",
      "0.6000000000000001\n",
      "0.7000000000000001\n",
      "0.8\n",
      "0.9\n",
      "1.0\n"
     ]
    }
   ],
   "source": [
    "x = 0.0\n",
    "i = 1\n",
    "while x != 1.0 and x < 2.0:\n",
    "    x = 0.1 * i\n",
    "    i += 1\n",
    "    print(x)"
   ]
  },
  {
   "cell_type": "markdown",
   "metadata": {},
   "source": [
    "### REMARK\n",
    "- 二進数で表現できる数を用いた加算を行うべきとされる\n"
   ]
  },
  {
   "cell_type": "markdown",
   "metadata": {},
   "source": [
    "### 多項式の計算に伴う丸め誤差の見積もり\n",
    "\n",
    "$$\n",
    "p(x) = a_0x^n + a_1x^{n-1} + ... + a_{n-1}x + a_n\n",
    "$$\n",
    "\n",
    "この多項式を特定のxに対して計算するときの最終的な誤差$\\epsilon$は、絶対値の大きい項によってほぼ支配され、それがk次の項なら、その値のk倍にに丸めの相対誤差uを乗じたもので見積もられる。10進７桁四捨五入の計算では,u = $10^{-6}/2$\n",
    "\n"
   ]
  },
  {
   "cell_type": "markdown",
   "metadata": {},
   "source": [
    "### TwoSumと丸め誤差\n",
    "\n",
    "Fを浮動小数点で表現できる実数の集合としたとき、$a, b, x, y \\in F$に対してTwoSumアルゴリズムを適用すると以下が成り立つ\n",
    "\n",
    "$$\n",
    "a + b = x + y (|y| \\leq \\epsilon |x|)\n",
    "$$\n",
    "\n",
    "```\n",
    "function [x,y]=TwoSum(a,b) x = a ⊕ b;\n",
    "c = x ⊖ a;\n",
    "y = (a ⊖ (x ⊖ c)) ⊕ (b ⊖ c);\n",
    "```\n",
    "\n",
    "<img src = \"https://github.com/RyoNakagami/omorikaizuka/blob/master/algorithm/fast_twosum.jpg?raw=true\">\n",
    "\n"
   ]
  },
  {
   "cell_type": "code",
   "execution_count": 40,
   "metadata": {},
   "outputs": [],
   "source": [
    "def TwoSum(a, b):\n",
    "    x = a + b\n",
    "    c = x - a\n",
    "    y = ( a - (x - c))+ (b - c)\n",
    "    return x, y"
   ]
  },
  {
   "cell_type": "code",
   "execution_count": 41,
   "metadata": {},
   "outputs": [
    {
     "data": {
      "text/plain": [
       "(10003.14159, 7.309708394132031e-13)"
      ]
     },
     "execution_count": 41,
     "metadata": {},
     "output_type": "execute_result"
    }
   ],
   "source": [
    "TwoSum(10000.0, 3.14159)"
   ]
  },
  {
   "cell_type": "markdown",
   "metadata": {
    "toc-hr-collapsed": false
   },
   "source": [
    "### アルゴリズム TwoProduct\n",
    "\n",
    "$$\n",
    "a \\times b = x + y (|y| \\leq \\epsilon |x|)\n",
    "$$\n",
    "\n",
    "```\n",
    "function [x,y]=TwoProduct(a,b) \n",
    "\n",
    "x = a ⊗ b;\n",
    "[aH , aL] = Split(a);\n",
    "[bH , bL] = Split(b);\n",
    "e1 =x⊖aH ⊗bH; e2 = e1 ⊖ aL ⊗ bH ; e3 = e2 ⊖ aH ⊗ bL; y = aL ⊗ bL ⊖ e3;\n",
    "```\n",
    "\n",
    "x は通常の積の計算結果.y に丸め誤差が浮動小数点として格納される"
   ]
  },
  {
   "cell_type": "code",
   "execution_count": 42,
   "metadata": {},
   "outputs": [],
   "source": [
    "def Split(a):\n",
    "    c = (2 ** 27 + 1) * a\n",
    "    d = c - a\n",
    "    aH = c - d\n",
    "    aL = a - aH\n",
    "    return aH, aL\n",
    "\n",
    "def TwoProduct(a, b):\n",
    "    x = a * b\n",
    "    aH, aL = Split(a)\n",
    "    bH, bL = Split(b)\n",
    "    e1 = x - aH * bH\n",
    "    e2 = e1 - aL * bH\n",
    "    e3 = e2 - aH * bL\n",
    "    y = aL * bL - e3\n",
    "    return x, y\n",
    "    "
   ]
  },
  {
   "cell_type": "code",
   "execution_count": 43,
   "metadata": {},
   "outputs": [
    {
     "data": {
      "text/plain": [
       "(0.31459000000000004, -4.74120742666173e-18)"
      ]
     },
     "execution_count": 43,
     "metadata": {},
     "output_type": "execute_result"
    }
   ],
   "source": [
    "TwoProduct(0.1, 3.1459)"
   ]
  },
  {
   "cell_type": "code",
   "execution_count": 44,
   "metadata": {},
   "outputs": [
    {
     "name": "stdout",
     "output_type": "stream",
     "text": [
      "0.314159\n"
     ]
    }
   ],
   "source": [
    "x, y = TwoProduct(0.1, 3.14159)\n",
    "print(x + y)"
   ]
  },
  {
   "cell_type": "markdown",
   "metadata": {},
   "source": [
    "### REMARK\n",
    "\n",
    "- twosum は、IEEE 754 Std. に備わったいわゆる非正規化数のおかげで、アンダーフロー は発生しない。しかし、オーバーフローからは逃れられない\n"
   ]
  },
  {
   "cell_type": "code",
   "execution_count": 45,
   "metadata": {},
   "outputs": [
    {
     "data": {
      "text/plain": [
       "(inf, nan)"
      ]
     },
     "execution_count": 45,
     "metadata": {},
     "output_type": "execute_result"
    }
   ],
   "source": [
    "TwoSum(1e308 , 8e307)"
   ]
  },
  {
   "cell_type": "markdown",
   "metadata": {},
   "source": [
    "### 桁落ち: cancellation\n",
    "\n",
    "2つの浮動小数点数の大きさがほぼ等しく n 桁からなる仮数部のうち上位 k 桁が等しい場合を考える。2つの引き算を行うと上位k桁が打ち消して結果の仮数部には n - k 桁の情報しか残らないことになる。これを桁落ちという。"
   ]
  },
  {
   "cell_type": "markdown",
   "metadata": {
    "toc-hr-collapsed": true
   },
   "source": [
    "### [例題7] 桁落ちと有理化\n",
    "\n",
    "$x$が0に近いとき、桁落ちしないように$\\sqrt{x + 1} - 1$を計算せよ"
   ]
  },
  {
   "cell_type": "markdown",
   "metadata": {},
   "source": [
    "#### 解\n",
    "\n",
    "$$\n",
    "\\sqrt{x + 1} - 1 = \\frac{x}{\\sqrt{x + 1} + 1}\n",
    "$$"
   ]
  },
  {
   "cell_type": "code",
   "execution_count": 46,
   "metadata": {},
   "outputs": [
    {
     "name": "stdout",
     "output_type": "stream",
     "text": [
      "-5.0000001250438686e-08 -5.000000125000006e-08\n"
     ]
    }
   ],
   "source": [
    "x = -1e-7\n",
    "root = (x + 1)**(1/2)\n",
    "before = root - 1\n",
    "after = x/(root + 1)\n",
    "\n",
    "print(before, after)"
   ]
  },
  {
   "cell_type": "markdown",
   "metadata": {},
   "source": [
    "代数的に等価にかかわらず計算結果が異なることが確認できる"
   ]
  },
  {
   "cell_type": "markdown",
   "metadata": {
    "toc-hr-collapsed": true
   },
   "source": [
    "### 桁落ちの例 1\n",
    "\n",
    "$$\n",
    "Ax = b\n",
    "$$\n",
    "\n",
    "を解く。"
   ]
  },
  {
   "cell_type": "code",
   "execution_count": 47,
   "metadata": {},
   "outputs": [
    {
     "name": "stdout",
     "output_type": "stream",
     "text": [
      "[0.48313484 0.48313484]\n"
     ]
    }
   ],
   "source": [
    "true_answer = np.array([205117922, 83739041])\n",
    "\n",
    "A = np.array([[64919121., -159018721.],\n",
    "              [41869520.5, -102558961.]])\n",
    "b = np.array([1, 0]).T\n",
    "x = np.linalg.solve(A, b)\n",
    "\n",
    "print(abs(x - true_answer)/true_answer)"
   ]
  },
  {
   "cell_type": "markdown",
   "metadata": {},
   "source": [
    "桁落ちのため発生した誤差。"
   ]
  },
  {
   "cell_type": "markdown",
   "metadata": {
    "toc-hr-collapsed": true
   },
   "source": [
    "### 桁落ちの例 2"
   ]
  },
  {
   "cell_type": "code",
   "execution_count": 48,
   "metadata": {},
   "outputs": [],
   "source": [
    "def log_error(y):\n",
    "    try:\n",
    "        return np.log(1 - y)/y\n",
    "    except:\n",
    "        return 0"
   ]
  },
  {
   "cell_type": "code",
   "execution_count": 49,
   "metadata": {},
   "outputs": [
    {
     "data": {
      "image/png": "[encoded data removed]",
      "text/plain": [
       "<Figure size 432x288 with 1 Axes>"
      ]
     },
     "metadata": {
      "needs_background": "light"
     },
     "output_type": "display_data"
    }
   ],
   "source": [
    "x = np.linspace(-1, 0.99999, 1000000)\n",
    "y = log_error(x)\n",
    "plt.plot(x, y);"
   ]
  },
  {
   "cell_type": "markdown",
   "metadata": {},
   "source": [
    "x = 0近傍のplot"
   ]
  },
  {
   "cell_type": "code",
   "execution_count": 50,
   "metadata": {},
   "outputs": [
    {
     "data": {
      "image/png": "[encoded data removed]",
      "text/plain": [
       "<Figure size 432x288 with 1 Axes>"
      ]
     },
     "metadata": {
      "needs_background": "light"
     },
     "output_type": "display_data"
    }
   ],
   "source": [
    "x = np.linspace(-2**(-50), 2**(-50), 1000000)\n",
    "y = log_error(x)\n",
    "plt.plot(x, y);"
   ]
  },
  {
   "cell_type": "markdown",
   "metadata": {},
   "source": [
    "$\\log(x)$の特徴としてxが1に近い場合、$x - 1$に近似されるので"
   ]
  },
  {
   "cell_type": "code",
   "execution_count": 51,
   "metadata": {},
   "outputs": [],
   "source": [
    "def log_approx(x):\n",
    "    return ((1-x)-1)/x"
   ]
  },
  {
   "cell_type": "code",
   "execution_count": 52,
   "metadata": {},
   "outputs": [
    {
     "data": {
      "image/png": "[encoded data removed]",
      "text/plain": [
       "<Figure size 432x288 with 1 Axes>"
      ]
     },
     "metadata": {
      "needs_background": "light"
     },
     "output_type": "display_data"
    }
   ],
   "source": [
    "x = np.linspace(-2**(-50), 2**(-50), 1000000)\n",
    "y = log_approx(x)\n",
    "plt.plot(x, y);"
   ]
  },
  {
   "cell_type": "markdown",
   "metadata": {},
   "source": [
    "桁落ちと情報落ちから発生するエラーの可視化"
   ]
  },
  {
   "cell_type": "code",
   "execution_count": 53,
   "metadata": {},
   "outputs": [
    {
     "data": {
      "image/png": "[encoded data removed]",
      "text/plain": [
       "<Figure size 720x720 with 1 Axes>"
      ]
     },
     "metadata": {
      "needs_background": "light"
     },
     "output_type": "display_data"
    }
   ],
   "source": [
    "x = np.linspace(-2**(-50), 2**(-50), 1000000)\n",
    "\n",
    "fig, ax = plt.subplots(figsize = (10, 10))\n",
    "ax.plot(x, -x, label = r'$y = - x$')\n",
    "ax.plot(x,  (1- x) - 1, label = r'$y = - (1- x) - 1$', color = 'r')\n",
    "\n",
    "ax.set_xlabel(r'$x$', fontsize=15)\n",
    "ax.set_ylabel(r'$y$', fontsize=15)\n",
    "ax.grid(True)\n",
    "\n",
    "plt.legend(loc='upper right');"
   ]
  },
  {
   "cell_type": "markdown",
   "metadata": {},
   "source": [
    "### 倍角・半角の公式と桁落ち\n",
    "\n",
    "$$\n",
    "\\sin^2\\left(\\frac{\\theta}{2}\\right) = \\frac{1}{2}(1 - \\cos(\\theta))\n",
    "$$\n",
    "\n",
    "この時も桁落ちが発生するので、$\\theta$がゼロに近いときは「半角を使え」ということになる。"
   ]
  },
  {
   "cell_type": "markdown",
   "metadata": {},
   "source": [
    "### 情報落ち\n",
    "\n",
    "- 絶対値の非常に大きな数と小さな数の加減算を行ったとき、指数部が小さい方の数の仮数部の甲斐の部分が結果に反映されないために発生する誤差\n",
    "- 指数部に合わせて、仮数部の桁ずらしを行なってから加減が実行される。従って両者の大きさが桁違いの場合、小さい方の情報が失われることは明らかである。この現象を情報落ちという\n",
    "- 情報落ちは多数の数の加算(従って無限区間の積分など )には実際上の問題になる"
   ]
  },
  {
   "cell_type": "code",
   "execution_count": 54,
   "metadata": {},
   "outputs": [
    {
     "name": "stdout",
     "output_type": "stream",
     "text": [
      "10000000000.0\n"
     ]
    }
   ],
   "source": [
    "x = 1e10\n",
    "y = 1e-8\n",
    "\n",
    "for i in range(10000000):\n",
    "    x += y\n",
    "print(x)"
   ]
  },
  {
   "cell_type": "markdown",
   "metadata": {},
   "source": [
    "このようなケースの対策として二分木法(binary search tree)が有効とされる。"
   ]
  },
  {
   "cell_type": "markdown",
   "metadata": {},
   "source": [
    "### どのようなとき情報落ちが問題になるのか: varianceの計算\n",
    "\n",
    "- 数値積分\n",
    "- 分散の計算\n",
    "- $x_{n + 1} = x_n + h$を計算するとき、hが$x_n$に比べ絶対値で圧倒的に小さい場合（細かい刻みで計算することの危険性を示唆）。\n",
    "\n",
    "分散の計算と計算誤差を解説する。"
   ]
  },
  {
   "cell_type": "code",
   "execution_count": 55,
   "metadata": {},
   "outputs": [
    {
     "data": {
      "text/plain": [
       "array([ 999999.99997509,  999999.99997793,  999999.99999831,\n",
       "        999999.99999912,  999999.9999813 ,  999999.99999779,\n",
       "        999999.99997219,  999999.99995532, 1000000.00001466,\n",
       "        999999.99997857,  999999.99999092,  999999.99999102,\n",
       "        999999.99996272, 1000000.00005677, 1000000.0000287 ,\n",
       "        999999.99999036, 1000000.00000831, 1000000.00002455,\n",
       "       1000000.0000504 ,  999999.99999756, 1000000.00000692,\n",
       "        999999.99999431, 1000000.00000496, 1000000.00003181,\n",
       "        999999.99993646,  999999.99999367,  999999.99997089,\n",
       "        999999.99997622,  999999.99990064,  999999.99996814])"
      ]
     },
     "execution_count": 55,
     "metadata": {},
     "output_type": "execute_result"
    }
   ],
   "source": [
    "np.random.seed(10101)\n",
    "std_true = 3.08315 * 10 ** (-5)\n",
    "mean_true = 10 ** 6\n",
    "data = np.random.normal(mean_true, std_true, 30)\n",
    "data"
   ]
  },
  {
   "cell_type": "code",
   "execution_count": 56,
   "metadata": {},
   "outputs": [
    {
     "data": {
      "text/plain": [
       "999999.999991187"
      ]
     },
     "execution_count": 56,
     "metadata": {},
     "output_type": "execute_result"
    }
   ],
   "source": [
    "## mean calculation\n",
    "\n",
    "s = 0\n",
    "for i in data:\n",
    "    s = s + i\n",
    "    \n",
    "x_mean = s/30\n",
    "x_mean"
   ]
  },
  {
   "cell_type": "code",
   "execution_count": 57,
   "metadata": {},
   "outputs": [
    {
     "name": "stdout",
     "output_type": "stream",
     "text": [
      "1.008149064573903\n"
     ]
    }
   ],
   "source": [
    "## variance\n",
    "std = 0\n",
    "for i in data:\n",
    "    std += (i - x_mean)**2\n",
    "\n",
    "std_pop = np.sqrt(std/30)\n",
    "print(std_pop/std_true)"
   ]
  },
  {
   "cell_type": "markdown",
   "metadata": {},
   "source": [
    "分散がマイナスになることの確認"
   ]
  },
  {
   "cell_type": "code",
   "execution_count": 58,
   "metadata": {},
   "outputs": [
    {
     "name": "stdout",
     "output_type": "stream",
     "text": [
      "-0.000244140625\n"
     ]
    }
   ],
   "source": [
    "square_sum = 0\n",
    "for i in data:\n",
    "    square_sum += i**2\n",
    "    \n",
    "print(square_sum/30 - x_mean**2)"
   ]
  },
  {
   "cell_type": "markdown",
   "metadata": {},
   "source": [
    "### 打ち切り誤差\n",
    "\n",
    "- 打ち切りごさは、無限回の演算を有限回で打ち切るときに発生する誤差\n",
    "- フーリエ展開、ライプニッツの公式、バーゼル問題の数値計算が一例"
   ]
  },
  {
   "cell_type": "markdown",
   "metadata": {
    "toc-hr-collapsed": true
   },
   "source": [
    "### [例題8] ライプニッツの公式を証明せよ\n",
    "\n",
    "$$\n",
    "\\frac{\\pi}{4} = \\sum_{k = 0}^\\infty\\frac{ (-1)^k}{2k + 1}\n",
    "$$"
   ]
  },
  {
   "cell_type": "markdown",
   "metadata": {},
   "source": [
    "#### 解\n",
    "$$\n",
    "\\begin{align}\n",
    "\\frac{\\pi}{4} &= \\arctan(1) \\\\ &= \\int_0^1 \\frac 1{1+x^2} \\, dx \\\\[8pt]\n",
    "& = \\int_0^1\\left(\\sum_{k=0}^n (-1)^k x^{2k}+\\frac{(-1)^{n+1}\\,x^{2n+2} }{1+x^2}\\right) \\, dx \\  \\ \\because\\text{ ここは等比数列}\\\\\n",
    "& = \\left(\\sum_{k=0}^n \\frac{(-1)^k}{2k+1}\\right)\n",
    "+(-1)^{n+1} \\left(\\int_0^1\\frac{x^{2n+2}}{1+x^2} \\, dx\\right).\n",
    "\\end{align}\n",
    "$$\n",
    "\n",
    "Considering only the integral in the last line, we have:\n",
    "\n",
    "$0 \\le \\int_0^1 \\frac{x^{2n+2}}{1+x^2}\\,dx \\le \\int_0^1 x^{2n+2}\\,dx = \\frac{1}{2n+3} \\;\\rightarrow 0 \\text{ as } n \\rightarrow \\infty$\n",
    "\n",
    "Therefore, by the squeeze theorem, as $n \\to \\infty$ we are left with the Leibniz series:\n",
    "\n",
    "$$\n",
    "\\frac{\\pi}4 = \\sum_{k=0}^\\infty\\frac{(-1)^k}{2k+1}\n",
    "$$"
   ]
  },
  {
   "cell_type": "markdown",
   "metadata": {},
   "source": [
    "### バーゼル問題\n",
    "\n",
    "$$\n",
    "S_n = \\sum^n_{i = 1} \\frac{1}{i^2}\n",
    "$$\n",
    "を考える\n",
    "\n",
    "$n \\to \\infty$の場合、\n",
    "\n",
    "$$\n",
    "\\sum^\\infty_{i = 1} \\frac{1}{i^2}  = \\frac{\\pi^2}{6}\n",
    "$$\n",
    "が知られている（バーゼル問題）。Proof of sketchは以下、\n",
    "\n",
    "$$\n",
    "\\sin x = x - \\frac{1}{3!}x^3 + \\frac{1}{5!}x^5 - \\frac{1}{7!}x^7 + ....\n",
    "$$\n",
    "\n",
    "次に$\\sin x$の因数分解をする。$n\\pi$, (nは整数)の周期で$\\sin n\\pi = 0$となるので\n",
    "$$\n",
    "\\begin{aligned}\n",
    "\\sin x = a \\Pi_{n\\text{は整数}}\\  \\ (x - n\\pi) = ax \\Pi_{n\\text{は自然数(0は含めない)}} \\  \\ (x^2 - n^2\\pi^2)\n",
    "\\end{aligned}\n",
    "$$\n",
    "有限時ならばaは最高次の項の係数であるが、今回は無限次なので、そのような考えは都合が悪い。そうすると\n",
    "\n",
    "$$\n",
    "x = a\\left(\\Pi(-n^2\\pi^2)\\right)x\n",
    "$$\n",
    "\n",
    "となると\n",
    "\n",
    "$$\n",
    "a = \\Pi(-n^{-2}\\pi^{-2})\n",
    "$$\n",
    "これを元の式に代入すると\n",
    "\n",
    "$$\n",
    "\\sin x = x\\Pi\\left(1 - \\frac{x^2}{n^2\\pi^2}\\right)\n",
    "$$\n",
    "\n",
    "3!の係数を比較すると\n",
    "\n",
    "$$\n",
    "\\frac{1}{\\pi^2}\\left(\\frac{1}{1^2} + \\frac{1}{2^2} + \\frac{1}{3^2} + ...\\right) = \\frac{1}{3!}\n",
    "$$\n",
    "\n",
    "結果、\n",
    "$$\n",
    "\\sum^\\infty_{i = 1} \\frac{1}{i^2}  = \\frac{\\pi^2}{6}\n",
    "$$\n",
    "\n",
    "これを数値計算で表すと$1.6449340668...$となる。"
   ]
  },
  {
   "cell_type": "markdown",
   "metadata": {
    "toc-hr-collapsed": true
   },
   "source": [
    "### 離散化誤差\n",
    "\n",
    "- （数値積分における台形公式、シンプソンの公式など、）連続関数の定積分の値を小さな台形の合計と捉えて数値計算することで発生する誤差"
   ]
  },
  {
   "cell_type": "markdown",
   "metadata": {},
   "source": [
    "台形の公式は以下\n",
    "\n",
    "$$\n",
    "\\begin{aligned}\n",
    "&\\int^b_a f(x) dx \\approx \\frac{b - a}{2n}\\{ y_0 + 2(y_1 + y_2 + ... + y_{n - 1}) + y_n\\}\\\\\n",
    "&y_k = f(x_k), x_k = a + \\frac{k(b - a)}{n} (k = 0, 1, ..., n)\n",
    "\\end{aligned}\n",
    "$$\n",
    "\n",
    "- 積分区間をn等分して、それぞれの区間の面積を台形の面積で近似する手法"
   ]
  },
  {
   "cell_type": "markdown",
   "metadata": {},
   "source": [
    "### [例題9]：台形の公式\n",
    "$$\n",
    "\\int_0^1 e^{-x^2} \\, dx\n",
    "$$\n",
    "を台形の公式を用いて計算せよ"
   ]
  },
  {
   "cell_type": "code",
   "execution_count": 59,
   "metadata": {},
   "outputs": [
    {
     "data": {
      "image/png": "[encoded data removed]",
      "text/plain": [
       "<Figure size 432x288 with 1 Axes>"
      ]
     },
     "metadata": {
      "needs_background": "light"
     },
     "output_type": "display_data"
    }
   ],
   "source": [
    "x = np.linspace(-0.5,1.5,100)\n",
    "y = np.exp(-x**2)\n",
    "plt.plot(x,y)\n",
    "\n",
    "x0 = 0\n",
    "x1 = 1\n",
    "y0 = np.exp(-x0**2)\n",
    "y1 = np.exp(-x1**2)\n",
    "\n",
    "plt.fill_between([x0,x1],[y0,y1])\n",
    "\n",
    "plt.xlim([-0.5,1.5]); plt.ylim([0,1.5]);"
   ]
  },
  {
   "cell_type": "code",
   "execution_count": 60,
   "metadata": {},
   "outputs": [
    {
     "data": {
      "image/png": "[encoded data removed]",
      "text/plain": [
       "<Figure size 432x288 with 1 Axes>"
      ]
     },
     "metadata": {
      "needs_background": "light"
     },
     "output_type": "display_data"
    }
   ],
   "source": [
    "N = 5\n",
    "x = np.linspace(-0.5,1.5,100)\n",
    "y = np.exp(-x**2)\n",
    "plt.plot(x,y)\n",
    "\n",
    "X = np.linspace(-0.5,1.5, N + 1)\n",
    "Y = np.exp(-X**2)\n",
    "\n",
    "\n",
    "for i in range(N):\n",
    "    xs = [X[i],X[i],X[i+1],X[i+1]]\n",
    "    ys = [0,np.exp(-X[i]**2),np.exp(- X[i+1]**2),0]\n",
    "    plt.fill(xs,ys,'b',edgecolor='b',alpha=0.2)\n",
    "\n",
    "plt.title('Trapezoid Rule, N = {}'.format(N))\n",
    "plt.show()"
   ]
  },
  {
   "cell_type": "code",
   "execution_count": 61,
   "metadata": {},
   "outputs": [],
   "source": [
    "def trapz(f,a,b,N=50):\n",
    "    '''\n",
    "    Parameters\n",
    "    ----------\n",
    "    f : function\n",
    "        Vectorized function of a single variable\n",
    "    a , b : numbers\n",
    "        Interval of integration [a,b]\n",
    "    N : integer\n",
    "        Number of subintervals of [a,b]\n",
    "\n",
    "    Returns\n",
    "    -------\n",
    "    float\n",
    "        Approximation of the integral of f(x) from a to b using the\n",
    "        trapezoid rule with N subintervals of equal length.\n",
    "    '''\n",
    "    x = np.linspace(a,b,N+1) # N+1 points make N subintervals\n",
    "    y = f(x)\n",
    "    y_right = y[1:] # right endpoints\n",
    "    y_left = y[:-1] # left endpoints\n",
    "    dx = (b - a)/N\n",
    "    T = (dx/2) * np.sum(y_right + y_left)\n",
    "    return T"
   ]
  },
  {
   "cell_type": "code",
   "execution_count": 62,
   "metadata": {},
   "outputs": [
    {
     "data": {
      "text/plain": [
       "0.7467996071893512"
      ]
     },
     "execution_count": 62,
     "metadata": {},
     "output_type": "execute_result"
    }
   ],
   "source": [
    "f = lambda x : np.exp(-x**2)\n",
    "trapz(f, 0, 1)"
   ]
  },
  {
   "cell_type": "markdown",
   "metadata": {},
   "source": [
    "### Error formula theorem\n",
    "the trapezoid rule\n",
    "$$\n",
    "T_N(f) = \\frac{\\Delta x}{2} \\sum_{i=1}^N (f(x_i) + f(x_{i-1}))\n",
    "$$\n",
    "where $x_i = a + i \\Delta x$ and $\\Delta x = (b - a)/N$\n",
    "\n",
    "\n",
    "Then,\n",
    "\n",
    "$$\n",
    "E_N^T(f) = \\left| \\ \\int_a^b f(x) \\ dx - T_N(f) \\ \\right| \\leq \\frac{(b-a)^3}{12 N^2} K_2\n",
    "$$\n",
    "\n",
    "\n",
    "where $\\left| \\ f''(x) \\, \\right| \\leq K_2$ for all $x \\in [a, b]$"
   ]
  },
  {
   "cell_type": "markdown",
   "metadata": {
    "toc-hr-collapsed": true
   },
   "source": [
    "### シンプソンの公式\n",
    "\n",
    "- 台形公式よりも近似精度が良いとされる\n",
    "\n",
    "$$\n",
    "\\begin{aligned}\n",
    "&\\int^b_a f(x)dx \\approx \\frac{b - a}{3n} \\sum_{i = 1}^{n/2} y_{2i - 2} + 4y_{2i - 1} + y_{2i}\\\\\n",
    "& y_i = f(x_i), x_i = a + \\frac{k(b - a)}{n}, n \\text{は偶数}\n",
    "\\end{aligned}\n",
    "$$"
   ]
  },
  {
   "cell_type": "markdown",
   "metadata": {},
   "source": [
    "#### 証明\n",
    "\n",
    "シンプソンの公式は、$f(x)$を二次関数 $P(x)$ で近似することによって導かれる。ここで、$P(x)$は$f(x)$の a, b, m における値をそれぞれとる［m は“中点”、すなわち $(a+b)/2$］。$P(x)$ は、ラグランジュ補間によって、次の多項式（x の二次式）になることがわかる。\n",
    "\n",
    "$$\n",
    "P(x) = f(a) \\frac{(x - m)(x - b)}{a - m)(a - b)} + f(m) \\frac{(x - a)(x - b)}{m - a)(m - b)} + f(b) \\frac{(x - a)(x - m)}{b - m)(b - m)}\n",
    "$$\n",
    "\n",
    "これを範囲$[a, b]$で積分すると、\n",
    "\n",
    "$$\n",
    "\\int^b_a f(x)dx \\approx \\int^b_a P(x)dx =  \\frac{b - a}{6} \\left[f(a) + 4f\\left(\\frac{a + b}{2}\\right) + f(b)\\right]\n",
    "$$\n",
    "\n",
    "が得られる。積分範囲を小さな部分区間に分割し、各部分区間についてシンプソンの公式を適用し、その結果を足し合わせることで上の公式が得られる"
   ]
  },
  {
   "cell_type": "markdown",
   "metadata": {},
   "source": [
    "なお、$f(x)$が3次式以下なら次式が成り立つ\n",
    "\n",
    "$$\n",
    "\\frac{b - a}{6} \\left[f(a) + 4f\\left(\\frac{a + b}{2}\\right) + f(b)\\right]\n",
    "$$\n",
    "\n",
    "\n",
    "証明は$f(x) = 1, x, x^2, x^3$でそれぞれで上の式が成り立つことを示せば良い。\n",
    "\n",
    "#### (1) $f(x) = 1$\n",
    "\n",
    "$$\n",
    "\\int^b_a f(x) = b - a \n",
    "$$\n",
    "\n",
    "一方\n",
    "\n",
    "$$\n",
    "\\frac{b - a}{6} \\left[f(a) + 4\\left(\\frac{a + b}{2}\\right) + f(b)\\right] = \\frac{b - a}{6} (1 + 4 + 1) = b - a\n",
    "$$\n",
    "\n",
    "#### (2) $f(x) = x$\n",
    "\n",
    "$$\n",
    "\\int^b_a f(x) = \\frac{1}{2}[b^2 - a^2] \n",
    "$$\n",
    "\n",
    "一方\n",
    "\n",
    "$$\n",
    "\\frac{b - a}{6} \\left[a + 4\\left(\\frac{a + b}{2}\\right) + b \\right] = \\frac{1}{2}(b - a)(a + b) = \\frac{1}{2}[b^2 - a^2] \n",
    "$$\n",
    "\n",
    "#### (3) $f(x) = x^2$\n",
    "\n",
    "$$\n",
    "\\int^b_a f(x) = \\frac{1}{3}[b^3 - a^3] \n",
    "$$\n",
    "\n",
    "一方\n",
    "\n",
    "$$\n",
    "\\frac{b - a}{6}[2a^2 + 2ab + 2b^2] = \\frac{1}{3}(b^3 - a^3)\n",
    "$$\n",
    "\n",
    "#### (3) $f(x) = x^3$\n",
    "\n",
    "$$\n",
    "\\int^b_a f(x) = \\frac{1}{4}[b^4 - a^4] \n",
    "$$\n",
    "\n",
    "一方\n",
    "\n",
    "$$\n",
    "\\frac{b - a}{6} \\left(a^3 + \\frac{(a + b)^3}{2} + b^3\\right) = \\frac{b - a}{12}(3a^3 + 3b^3 + 3a^2b + 3ab^2) = \\frac{1}{4}(b^4 - a^4)\n",
    "$$\n",
    "\n",
    "途中の計算は交代式\n",
    "\n",
    "\n",
    "#### 交代式の因数分解\n",
    "\n",
    "- 交代式とは，どの2つの変数を入れ替えても −1倍になるような式のことです。例えば $a^2−b^2$という式は，a と b を入れ替えると $b^2−a^2$ となり，元の式の −1 倍になるので交代式です。\n",
    "- 対称式とは，どの2つの変数を入れ替えても元の値と変わらない式のこと\n",
    "\n",
    "$$\n",
    "a^4−b^4=(a−b)(a^3+a^2b+ab^2+b^3)\n",
    "$$\n",
    "\n",
    "$$\n",
    "a^n+b^n=(a+b)(a^{n-1}-a^{n-2}b+\\cdots-ab^{n-2}+b^{n-1})\n",
    "$$\n"
   ]
  },
  {
   "cell_type": "markdown",
   "metadata": {},
   "source": [
    "### [例題10] シンプソンの公式\n",
    "\n",
    "シンプソンの公式を用いて、\n",
    "\n",
    "$$\n",
    "\\int^1_0 3x^2 dx\n",
    "$$\n",
    "\n",
    "を計算せよ"
   ]
  },
  {
   "cell_type": "code",
   "execution_count": 63,
   "metadata": {},
   "outputs": [],
   "source": [
    "def simp(f, a, b, N):\n",
    "    '''\n",
    "    Simpson's rule approximates the integral \\int_a^b f(x) dx by the sum:\n",
    "    (dx/3) \\sum_{k=1}^{N/2} (f(x_{2i-2} + 4f(x_{2i-1}) + f(x_{2i}))\n",
    "    where x_i = a + i*dx and dx = (b - a)/N.\n",
    "    '''\n",
    "    if N % 2 == 1:\n",
    "        raise ValueError(\"N must be an even integer.\")\n",
    "    \n",
    "    dx = (b-a)/N\n",
    "    x = np.linspace(a,b,N+1) # 区間をN個\n",
    "    y = f(x)\n",
    "    S = dx/3 * np.sum(y[0:-1:2] + 4*y[1::2] + y[2::2])\n",
    "    return S"
   ]
  },
  {
   "cell_type": "code",
   "execution_count": 64,
   "metadata": {},
   "outputs": [
    {
     "data": {
      "text/plain": [
       "1.0"
      ]
     },
     "execution_count": 64,
     "metadata": {},
     "output_type": "execute_result"
    }
   ],
   "source": [
    "simp(lambda x: 3*x**2, 0, 1, 50)"
   ]
  },
  {
   "cell_type": "markdown",
   "metadata": {
    "toc-hr-collapsed": true
   },
   "source": [
    "### 打ち切り誤差とeps\n",
    "\n",
    "$$\n",
    "f(x) = x^3  - 15.70875 x^2 + 61.69729x - 0.04844725\n",
    "$$\n",
    "\n",
    "が与えられたときf(x) = 0を満たすxを求めたいとする。このとき`abs(f(x)) < eps`を満たすようなxを探索し、その結果を返す関数を作ると思うが問題は`eps`をどのように定めるべきかである。\n"
   ]
  },
  {
   "cell_type": "code",
   "execution_count": 65,
   "metadata": {},
   "outputs": [
    {
     "data": {
      "image/png": "[encoded data removed]",
      "text/plain": [
       "<Figure size 432x288 with 1 Axes>"
      ]
     },
     "metadata": {
      "needs_background": "light"
     },
     "output_type": "display_data"
    }
   ],
   "source": [
    "a = 1\n",
    "b = -15.70875\n",
    "c = 61.69729\n",
    "d = -0.04844725\n",
    "\n",
    "f = lambda x : a * x**3 + b * x**2 + c * x + d\n",
    "x = np.linspace(-1, 10, 1000)\n",
    "y = f(x)\n",
    "\n",
    "plt.plot(x,y);"
   ]
  },
  {
   "cell_type": "code",
   "execution_count": 66,
   "metadata": {},
   "outputs": [
    {
     "name": "stdout",
     "output_type": "stream",
     "text": [
      "0.0007853981828702672 7.844763307419362 7.863201294396229\n"
     ]
    }
   ],
   "source": [
    "root_1 = optimize.bisect(f, -1, 2, maxiter = 10000)\n",
    "root_2 = optimize.bisect(f, 7, 7.85, maxiter = 10000)\n",
    "root_3 = optimize.bisect(f, 7.85, 10, maxiter = 10000)\n",
    "\n",
    "print(root_1, root_2, root_3)"
   ]
  },
  {
   "cell_type": "markdown",
   "metadata": {},
   "source": [
    "x = 0.0007853981828702672付近での誤差の見積もり\n",
    "\n",
    "なお10進７桁四捨五入計算とする"
   ]
  },
  {
   "cell_type": "code",
   "execution_count": 67,
   "metadata": {},
   "outputs": [
    {
     "data": {
      "text/plain": [
       "2.4228469727009954e-08"
      ]
     },
     "execution_count": 67,
     "metadata": {},
     "output_type": "execute_result"
    }
   ],
   "source": [
    "c * root_1 * 10**(-6)/2"
   ]
  },
  {
   "cell_type": "markdown",
   "metadata": {},
   "source": [
    "よってf(x)には$\\pm 2.5\\times 10^{-8}$くらいの誤差が混入する可能性があり、`abs(f(x))`が$10^{-8}$のオーダーになったならば、それ以上細かくxを調整することはナンセンスということがわかる。\n",
    "\n",
    "同様に、それ以外のrootでの誤差のオーダーを計算するとそれぞれ$10^{-3}, 10^{-2}$程度の精度しか期待できないことがわかる。\n",
    "\n",
    "\n",
    "このことは$|x^{(v)} - x^{(v - 1)}| < \\epsilon$がいかに使いづらいものかを示している。"
   ]
  },
  {
   "cell_type": "markdown",
   "metadata": {
    "toc-hr-collapsed": true
   },
   "source": [
    "### 計算のもっともらしさTips: 刻みを変えて計算する\n",
    "\n",
    "$$\n",
    "I = \\int^1_0 \\frac{1}{1 + x}dx = \\log 2\n",
    "$$\n",
    "を台形則を用いて計算する。"
   ]
  },
  {
   "cell_type": "code",
   "execution_count": 68,
   "metadata": {},
   "outputs": [
    {
     "data": {
      "text/plain": [
       "0.6933912022075269"
      ]
     },
     "execution_count": 68,
     "metadata": {},
     "output_type": "execute_result"
    }
   ],
   "source": [
    "a = 0\n",
    "b = 1\n",
    "f = lambda x: 1/(1 + x)\n",
    "\n",
    "trapz(f,a,b,N=16)"
   ]
  },
  {
   "cell_type": "markdown",
   "metadata": {},
   "source": [
    "この一回だけの計算だけでは誤差については分からないが"
   ]
  },
  {
   "cell_type": "code",
   "execution_count": 69,
   "metadata": {},
   "outputs": [
    {
     "data": {
      "text/html": [
       "<div>\n",
       "<style scoped>\n",
       "    .dataframe tbody tr th:only-of-type {\n",
       "        vertical-align: middle;\n",
       "    }\n",
       "\n",
       "    .dataframe tbody tr th {\n",
       "        vertical-align: top;\n",
       "    }\n",
       "\n",
       "    .dataframe thead th {\n",
       "        text-align: right;\n",
       "    }\n",
       "</style>\n",
       "<table border=\"1\" class=\"dataframe\">\n",
       "  <thead>\n",
       "    <tr style=\"text-align: right;\">\n",
       "      <th></th>\n",
       "      <th>num</th>\n",
       "      <th>I_N</th>\n",
       "      <th>I_half</th>\n",
       "      <th>diff</th>\n",
       "    </tr>\n",
       "  </thead>\n",
       "  <tbody>\n",
       "    <tr>\n",
       "      <td>0</td>\n",
       "      <td>2</td>\n",
       "      <td>0.708333</td>\n",
       "      <td>0.750000</td>\n",
       "      <td>0.041667</td>\n",
       "    </tr>\n",
       "    <tr>\n",
       "      <td>1</td>\n",
       "      <td>4</td>\n",
       "      <td>0.697024</td>\n",
       "      <td>0.708333</td>\n",
       "      <td>0.011310</td>\n",
       "    </tr>\n",
       "    <tr>\n",
       "      <td>2</td>\n",
       "      <td>8</td>\n",
       "      <td>0.694122</td>\n",
       "      <td>0.697024</td>\n",
       "      <td>0.002902</td>\n",
       "    </tr>\n",
       "    <tr>\n",
       "      <td>3</td>\n",
       "      <td>16</td>\n",
       "      <td>0.693391</td>\n",
       "      <td>0.694122</td>\n",
       "      <td>0.000731</td>\n",
       "    </tr>\n",
       "    <tr>\n",
       "      <td>4</td>\n",
       "      <td>32</td>\n",
       "      <td>0.693208</td>\n",
       "      <td>0.693391</td>\n",
       "      <td>0.000183</td>\n",
       "    </tr>\n",
       "  </tbody>\n",
       "</table>\n",
       "</div>"
      ],
      "text/plain": [
       "   num       I_N    I_half      diff\n",
       "0    2  0.708333  0.750000  0.041667\n",
       "1    4  0.697024  0.708333  0.011310\n",
       "2    8  0.694122  0.697024  0.002902\n",
       "3   16  0.693391  0.694122  0.000731\n",
       "4   32  0.693208  0.693391  0.000183"
      ]
     },
     "execution_count": 69,
     "metadata": {},
     "output_type": "execute_result"
    }
   ],
   "source": [
    "data = None\n",
    "\n",
    "for i in range(1, 6):\n",
    "    N = 2**i\n",
    "    half_N = N/2\n",
    "    num, I_N, I_half = N, trapz(f, a, b, N = N), trapz(f, a, b, N = half_N)\n",
    "    tmp = np.array([num, I_N, I_half, abs(I_N - I_half)])\n",
    "    if data is None:\n",
    "        data = tmp\n",
    "    else:\n",
    "        data = np.vstack([data, tmp])\n",
    "    \n",
    "data = pd.DataFrame(data, columns = ('num', 'I_N', 'I_half', 'diff'))\n",
    "data['num'] = data['num'].astype('int')\n",
    "data"
   ]
  },
  {
   "cell_type": "markdown",
   "metadata": {},
   "source": [
    "台形則による計算の数値誤差はNが十分大きいと以下の式で近似できる；\n",
    "\n",
    "$$\n",
    "I_N - I \\approx c/N^2\n",
    "$$\n",
    "\n",
    "これを変形させると\n",
    "\n",
    "$$\n",
    "I_{(N/2)} - I_N \\approx 3(I_N - I) \\approx 3c/N^2\n",
    "$$\n",
    "\n",
    "よって数値計算誤差をさらに減らすことが可能となり"
   ]
  },
  {
   "cell_type": "code",
   "execution_count": 70,
   "metadata": {},
   "outputs": [
    {
     "data": {
      "text/plain": [
       "0.6931472102898231"
      ]
     },
     "execution_count": 70,
     "metadata": {},
     "output_type": "execute_result"
    }
   ],
   "source": [
    "trapz(f,a,b,N=32) - data.loc[4, 'diff']/3"
   ]
  },
  {
   "cell_type": "markdown",
   "metadata": {},
   "source": [
    "これだけではなく、`trapz`の定式化を間違えた時も、それぞれの区間数でのdiffの縮小具合を見ることで計算の間違いに気づくことができる。例として、diffがどの区間数を選んでも0.001で変わらない時は、台形則の誤差のルールを満たしておらず元々の関数がおかしいという示唆を与えてくれる。"
   ]
  },
  {
   "cell_type": "markdown",
   "metadata": {
    "toc-hr-collapsed": true
   },
   "source": [
    "### 収束速度の加速\n",
    "\n",
    "- Aitken's Delta squared method\n",
    "- 収束速度がlinearな数列に適応可能な手法\n",
    "\n",
    "\n",
    "#### Definition: 収束速度\n",
    "\n",
    "Suppose the sequence $\\{p_n\\}_{n=0}^\\infty$ converges to p, with $p_n \\neq p$ for all n. If positive constants λ and α exists with\n",
    "\n",
    "$$\n",
    "\\lim_{n \\to \\infty}\\frac{|p_{n+1} - p|}{|p_{n} - p|} = \\lambda\n",
    "$$\n",
    "\n",
    "then $\\{p_n\\}_{n=0}^\\infty$ converges to p of order α, with asymptotic error constant λ.\n",
    "\n",
    "\n",
    "#### Aitken’s ∆2 Methodの導出\n",
    "\n",
    "$\\{p_n\\}_{n = 0}^\\infty$がlinearly convergent sequence with limit pと仮定する。また$sign(p_{n} - p) = sign(p_{n - 1} - p)$とする。\n",
    "\n",
    "Then, 十分大きなnに対して\n",
    "\n",
    "$$\n",
    "\\frac{|p_n - p|}{|p_{n - 1}- p|} \\approx \\frac{|p_{n-1} - p|}{|p_{n - 2}- p|} \\approx \\lambda\n",
    "$$\n",
    "\n",
    "式変形すると\n",
    "\n",
    "$$\n",
    "(p_{n - 1} - p)^2 \\approx (p_n - p)(p_{n - 2} - p)\n",
    "$$\n",
    "\n",
    "これをpについて解くと\n",
    "\n",
    "$$\n",
    "p \\approx = \\frac{p_np_{n - 2} - p_{n-1}^2}{p_n - 2p_{n-1} + p_{n - 2}}\n",
    "$$\n",
    "\n",
    "Then,\n",
    "\n",
    "$$\n",
    "p = p_{n} - \\frac{(p_n - p_{n - 1})^2}{p_n - 2p_{n-1} + p_{n - 2}}\n",
    "$$"
   ]
  },
  {
   "cell_type": "markdown",
   "metadata": {},
   "source": [
    "#### REMARK: Steffensen’s Method\n",
    "\n",
    "- Aiktin's methodをfixed point interationと組み合わせると二乗収束のroot-findingアルゴリズムが作成できる = Steffensen’s Method\n",
    "- newton法と比べ、derivativeも必要ない\n",
    "- ただし$f\\in C^3[a, b]$が要求される"
   ]
  },
  {
   "cell_type": "markdown",
   "metadata": {
    "toc-hr-collapsed": true
   },
   "source": [
    "## 演習問題"
   ]
  },
  {
   "cell_type": "markdown",
   "metadata": {},
   "source": [
    "### [1-1]\n",
    "2進数01101000を10進数で表せ"
   ]
  },
  {
   "cell_type": "code",
   "execution_count": 71,
   "metadata": {},
   "outputs": [
    {
     "data": {
      "text/plain": [
       "104"
      ]
     },
     "execution_count": 71,
     "metadata": {},
     "output_type": "execute_result"
    }
   ],
   "source": [
    "binary_to_decimal('01101000')"
   ]
  },
  {
   "cell_type": "markdown",
   "metadata": {},
   "source": [
    "### [1-2]\n",
    "10進数72を2進数で表せ"
   ]
  },
  {
   "cell_type": "code",
   "execution_count": 72,
   "metadata": {},
   "outputs": [
    {
     "data": {
      "text/plain": [
       "'1001000'"
      ]
     },
     "execution_count": 72,
     "metadata": {},
     "output_type": "execute_result"
    }
   ],
   "source": [
    "decimal_to_binary(72)"
   ]
  },
  {
   "cell_type": "markdown",
   "metadata": {},
   "source": [
    "### [1-3]\n",
    "2進数0.011を10進数であらわせ"
   ]
  },
  {
   "cell_type": "code",
   "execution_count": 73,
   "metadata": {},
   "outputs": [
    {
     "data": {
      "text/plain": [
       "0.375"
      ]
     },
     "execution_count": 73,
     "metadata": {},
     "output_type": "execute_result"
    }
   ],
   "source": [
    "binary_to_decimalpoint(0.011)"
   ]
  },
  {
   "cell_type": "markdown",
   "metadata": {},
   "source": [
    "### [1-4]\n",
    "10進数0.3125を2進数で表せ"
   ]
  },
  {
   "cell_type": "code",
   "execution_count": 74,
   "metadata": {},
   "outputs": [
    {
     "data": {
      "text/plain": [
       "'0.0101'"
      ]
     },
     "execution_count": 74,
     "metadata": {},
     "output_type": "execute_result"
    }
   ],
   "source": [
    "decimal_to_binarypoint(0.3125, iterator = 10)"
   ]
  },
  {
   "cell_type": "markdown",
   "metadata": {},
   "source": [
    "### [2-2]\n",
    "次のIEEE形式浮動小数点数が表す値を答えよ\n",
    "\n",
    "```\n",
    "1 01111111 10000000000000000000000\n",
    "```"
   ]
  },
  {
   "cell_type": "code",
   "execution_count": 75,
   "metadata": {},
   "outputs": [
    {
     "name": "stdout",
     "output_type": "stream",
     "text": [
      "-1.5\n"
     ]
    }
   ],
   "source": [
    "s = 1\n",
    "e = 127 - 127\n",
    "m = 1.5\n",
    "\n",
    "print((-1 ** s) * (2 ** e) * m)"
   ]
  },
  {
   "cell_type": "markdown",
   "metadata": {},
   "source": [
    "### [4-1]\n",
    "IEEE単精度浮動小数点数で表される最大の数Mの10進法における桁数を求めよ"
   ]
  },
  {
   "cell_type": "code",
   "execution_count": 76,
   "metadata": {},
   "outputs": [
    {
     "name": "stdout",
     "output_type": "stream",
     "text": [
      "10進法における桁数は39\n"
     ]
    }
   ],
   "source": [
    "res = int(np.log(2.0 * (2 ** (254 - 127)))/ np.log(10)) + 1\n",
    "print('10進法における桁数は{}'.format(res))"
   ]
  },
  {
   "cell_type": "markdown",
   "metadata": {},
   "source": [
    "### [6-1]\n",
    "\n",
    "真の値3.141592に対して近似値が3.14であるとき絶対誤差、相対誤差、精度は何桁か？"
   ]
  },
  {
   "cell_type": "code",
   "execution_count": 77,
   "metadata": {},
   "outputs": [
    {
     "name": "stdout",
     "output_type": "stream",
     "text": [
      "0.001592 0.0005067 3\n"
     ]
    }
   ],
   "source": [
    "true = 3.141592\n",
    "approx = 3.14\n",
    "\n",
    "abs_error = abs(approx - true)\n",
    "relative_error = abs_error/true\n",
    "precision = -np.log10(relative_error)\n",
    "\n",
    "print(round(abs_error, 7), round(relative_error, 7), int(precision))"
   ]
  },
  {
   "cell_type": "markdown",
   "metadata": {},
   "source": [
    "### [7] 二次方程式の解の公式と桁落ち対策\n",
    "\n",
    "解の公式\n",
    "\n",
    "$$\n",
    "x = \\frac{-b \\pm \\sqrt{b^2 - 4ac}}{2a}\n",
    "$$\n",
    "\n",
    "をそのまま計算すると桁落ちのリスクがある。これを回避する手法を実装せよ。"
   ]
  },
  {
   "cell_type": "markdown",
   "metadata": {},
   "source": [
    "#### [解]\n",
    "\n",
    "```\n",
    "INPUT\n",
    "    a, b, c : 二次方程式の係数（xのorderが高い順で並べている）\n",
    "\n",
    "OUTPUT\n",
    "    x0, x1: 解\n",
    "    \n",
    "ALGORITHM\n",
    "    1. x0 = [-b - sign(b)*sqrt(b^2 - 4ac)]/2a\n",
    "    2. x1 = (c/a * x0)\n",
    "    3. return x0, x1\n",
    "```"
   ]
  },
  {
   "cell_type": "code",
   "execution_count": 78,
   "metadata": {},
   "outputs": [],
   "source": [
    "def qeq(a, b, c):\n",
    "    d = np.sqrt(b**2 - 4*a*c)\n",
    "    alpha = (-b - np.sign(b)*d)/(2 * a)\n",
    "    beta = c/(a * alpha)\n",
    "    return (alpha, beta)"
   ]
  },
  {
   "cell_type": "code",
   "execution_count": 79,
   "metadata": {},
   "outputs": [
    {
     "data": {
      "text/plain": [
       "(-3.0, -2.0)"
      ]
     },
     "execution_count": 79,
     "metadata": {},
     "output_type": "execute_result"
    }
   ],
   "source": [
    "qeq(1, 5, 6)"
   ]
  },
  {
   "cell_type": "markdown",
   "metadata": {},
   "source": [
    "### [8]\n",
    "\n",
    "The number π = 3.14159265358979... If we use the approximation π ≈ 3.14, what is the absolute error? Express your answer using chopping to a decimal normalized floating-point representation with 5 significant digits.\n",
    "\n",
    "#### [解]\n",
    "\n",
    "- fl: round functon, decimal normalized floating-point representation with 5 significant digits.\n",
    "\n",
    "$$\n",
    "fl(abs(\\pi - 3.14)) = fl(0.0015926535...) = 10^{-2}\\times 0.15926\n",
    "$$"
   ]
  },
  {
   "cell_type": "markdown",
   "metadata": {},
   "source": [
    "### [9] \n",
    "\n",
    "The hexadecimal (base 16) counting system uses letters A, B, C, D, E, and F in addition to decimal digits (from 0 to 9) to represent digits for 10, 11, 12, 13, 14, and 15, correspondingly. Find the hexadecimal representation of the decimal number 2989."
   ]
  },
  {
   "cell_type": "code",
   "execution_count": 80,
   "metadata": {},
   "outputs": [],
   "source": [
    "def decimal_to_hex(x):\n",
    "    decimal_list = np.arange(0, 16)\n",
    "    hex_list = np.arange(0, 10).astype(str)\n",
    "    hex_list = np.hstack((hex_list, 'A', 'B', 'C', 'D', 'E', 'F'))\n",
    "    hex_dict = dict(zip(decimal_list, hex_list))\n",
    "    \n",
    "    quotient, remainder = divmod(x, 16)\n",
    "    res = str(hex_dict[remainder])\n",
    "    while quotient > 0:\n",
    "        quotient, remainder = divmod(quotient, 16)\n",
    "        res = str(hex_dict[remainder]) + res\n",
    "    \n",
    "    return res"
   ]
  },
  {
   "cell_type": "code",
   "execution_count": 81,
   "metadata": {},
   "outputs": [
    {
     "data": {
      "text/plain": [
       "'BAD'"
      ]
     },
     "execution_count": 81,
     "metadata": {},
     "output_type": "execute_result"
    }
   ],
   "source": [
    "decimal_to_hex(2989)"
   ]
  },
  {
   "cell_type": "markdown",
   "metadata": {},
   "source": [
    "### [10]\n",
    "\n",
    "In the IEEE double-precision floating-point standard, 64 bits (binary digits) are used to rep- resent a real number: 1 bit for the sign, 11 bits for the exponent, and 52 bits for the man- tissa. A double-precision normalized non-zero number x can be written in this standard as $x = ±(1.d1d2···d52)2 ×2^{n−1023}$, with 1 ≤ n ≤ 2046, and 0 ≤ dk ≤ 1 for k = 1,2,...,52.\n",
    "\n",
    "- (a) What is the smallest positive number in this system? \n",
    "- (b) What is the smallest negative number in this system? \n",
    "- (c) How many real numbers are in this system?\n"
   ]
  },
  {
   "cell_type": "code",
   "execution_count": 82,
   "metadata": {},
   "outputs": [
    {
     "name": "stdout",
     "output_type": "stream",
     "text": [
      "the smallest positive number is 1.1125369292536007e-308\n"
     ]
    }
   ],
   "source": [
    "### (a)\n",
    "\n",
    "x = 2 ** -1023\n",
    "print('the smallest positive number is {}'.format(x))"
   ]
  },
  {
   "cell_type": "code",
   "execution_count": 83,
   "metadata": {},
   "outputs": [
    {
     "name": "stdout",
     "output_type": "stream",
     "text": [
      "-1.7976931348623157e+308\n"
     ]
    }
   ],
   "source": [
    "### (b)\n",
    "\n",
    "x = -1 *  2 ** 1023 * (2 - 2 ** -52)\n",
    "print(x)"
   ]
  },
  {
   "cell_type": "code",
   "execution_count": 84,
   "metadata": {},
   "outputs": [
    {
     "name": "stdout",
     "output_type": "stream",
     "text": [
      "18428729675200069633\n"
     ]
    }
   ],
   "source": [
    "### (c)\n",
    "\n",
    "print(2 * 2046 * 2 ** 52 + 1)"
   ]
  },
  {
   "cell_type": "markdown",
   "metadata": {},
   "source": [
    "最後の + 1 はzeroの分を加えたもの"
   ]
  },
  {
   "cell_type": "markdown",
   "metadata": {},
   "source": [
    "### [11]\n",
    "\n",
    "In this assignment, you will evaluate the accuracy of Stirling’s famous approximation.\n",
    "\n",
    "$$\n",
    "n! \\approx n^n\\exp(-n)\\sqrt{2\\pi n}\n",
    "$$\n",
    "\n",
    "Write a program to output a table of the form\n",
    "\n",
    "`n, n!, Stirling’s approximation, Absolute error, Relative error`\n",
    "\n",
    "for n = 1,2,...,10. Judging from the table, does the accuracy increase or decrease with increasing n?"
   ]
  },
  {
   "cell_type": "code",
   "execution_count": 85,
   "metadata": {},
   "outputs": [],
   "source": [
    "import math"
   ]
  },
  {
   "cell_type": "code",
   "execution_count": 86,
   "metadata": {},
   "outputs": [],
   "source": [
    "def stirling_approx(n):\n",
    "    approx = n**n * np.exp(-n) * np.sqrt(2*np.pi*n)\n",
    "    true = math.factorial(n)\n",
    "    abs_error = abs(approx - true)\n",
    "    relative_error = abs_error/true\n",
    "    return n, true, approx, abs_error, relative_error\n",
    "\n",
    "def sterling_approx_table(max_counter):\n",
    "    i = 1\n",
    "    res = []\n",
    "    while i <= max_counter:\n",
    "        tmp = list(stirling_approx(i))\n",
    "        res.append(tmp)\n",
    "        i += 1\n",
    "    \n",
    "    return pd.DataFrame(res, columns = ['n', 'factorial', 'Stirlings_approximation', 'Absolute error', 'Relative error'])\n"
   ]
  },
  {
   "cell_type": "code",
   "execution_count": 87,
   "metadata": {},
   "outputs": [
    {
     "data": {
      "text/html": [
       "<div>\n",
       "<style scoped>\n",
       "    .dataframe tbody tr th:only-of-type {\n",
       "        vertical-align: middle;\n",
       "    }\n",
       "\n",
       "    .dataframe tbody tr th {\n",
       "        vertical-align: top;\n",
       "    }\n",
       "\n",
       "    .dataframe thead th {\n",
       "        text-align: right;\n",
       "    }\n",
       "</style>\n",
       "<table border=\"1\" class=\"dataframe\">\n",
       "  <thead>\n",
       "    <tr style=\"text-align: right;\">\n",
       "      <th></th>\n",
       "      <th>n</th>\n",
       "      <th>factorial</th>\n",
       "      <th>Stirlings_approximation</th>\n",
       "      <th>Absolute error</th>\n",
       "      <th>Relative error</th>\n",
       "    </tr>\n",
       "  </thead>\n",
       "  <tbody>\n",
       "    <tr>\n",
       "      <td>0</td>\n",
       "      <td>1</td>\n",
       "      <td>1</td>\n",
       "      <td>9.221370e-01</td>\n",
       "      <td>0.077863</td>\n",
       "      <td>0.077863</td>\n",
       "    </tr>\n",
       "    <tr>\n",
       "      <td>1</td>\n",
       "      <td>2</td>\n",
       "      <td>2</td>\n",
       "      <td>1.919004e+00</td>\n",
       "      <td>0.080996</td>\n",
       "      <td>0.040498</td>\n",
       "    </tr>\n",
       "    <tr>\n",
       "      <td>2</td>\n",
       "      <td>3</td>\n",
       "      <td>6</td>\n",
       "      <td>5.836210e+00</td>\n",
       "      <td>0.163790</td>\n",
       "      <td>0.027298</td>\n",
       "    </tr>\n",
       "    <tr>\n",
       "      <td>3</td>\n",
       "      <td>4</td>\n",
       "      <td>24</td>\n",
       "      <td>2.350618e+01</td>\n",
       "      <td>0.493825</td>\n",
       "      <td>0.020576</td>\n",
       "    </tr>\n",
       "    <tr>\n",
       "      <td>4</td>\n",
       "      <td>5</td>\n",
       "      <td>120</td>\n",
       "      <td>1.180192e+02</td>\n",
       "      <td>1.980832</td>\n",
       "      <td>0.016507</td>\n",
       "    </tr>\n",
       "    <tr>\n",
       "      <td>5</td>\n",
       "      <td>6</td>\n",
       "      <td>720</td>\n",
       "      <td>7.100782e+02</td>\n",
       "      <td>9.921815</td>\n",
       "      <td>0.013780</td>\n",
       "    </tr>\n",
       "    <tr>\n",
       "      <td>6</td>\n",
       "      <td>7</td>\n",
       "      <td>5040</td>\n",
       "      <td>4.980396e+03</td>\n",
       "      <td>59.604168</td>\n",
       "      <td>0.011826</td>\n",
       "    </tr>\n",
       "    <tr>\n",
       "      <td>7</td>\n",
       "      <td>8</td>\n",
       "      <td>40320</td>\n",
       "      <td>3.990240e+04</td>\n",
       "      <td>417.604547</td>\n",
       "      <td>0.010357</td>\n",
       "    </tr>\n",
       "    <tr>\n",
       "      <td>8</td>\n",
       "      <td>9</td>\n",
       "      <td>362880</td>\n",
       "      <td>3.595369e+05</td>\n",
       "      <td>3343.127158</td>\n",
       "      <td>0.009213</td>\n",
       "    </tr>\n",
       "    <tr>\n",
       "      <td>9</td>\n",
       "      <td>10</td>\n",
       "      <td>3628800</td>\n",
       "      <td>3.598696e+06</td>\n",
       "      <td>30104.381259</td>\n",
       "      <td>0.008296</td>\n",
       "    </tr>\n",
       "  </tbody>\n",
       "</table>\n",
       "</div>"
      ],
      "text/plain": [
       "    n  factorial  Stirlings_approximation  Absolute error  Relative error\n",
       "0   1          1             9.221370e-01        0.077863        0.077863\n",
       "1   2          2             1.919004e+00        0.080996        0.040498\n",
       "2   3          6             5.836210e+00        0.163790        0.027298\n",
       "3   4         24             2.350618e+01        0.493825        0.020576\n",
       "4   5        120             1.180192e+02        1.980832        0.016507\n",
       "5   6        720             7.100782e+02        9.921815        0.013780\n",
       "6   7       5040             4.980396e+03       59.604168        0.011826\n",
       "7   8      40320             3.990240e+04      417.604547        0.010357\n",
       "8   9     362880             3.595369e+05     3343.127158        0.009213\n",
       "9  10    3628800             3.598696e+06    30104.381259        0.008296"
      ]
     },
     "execution_count": 87,
     "metadata": {},
     "output_type": "execute_result"
    }
   ],
   "source": [
    "sterling_approx_table(max_counter = 10)"
   ]
  },
  {
   "cell_type": "markdown",
   "metadata": {},
   "source": [
    "### [12]\n",
    "\n",
    "$\\pi$を近似計算する。\n",
    "\n",
    "<img src = \"https://github.com/RyoNakagami/omorikaizuka/blob/master/algorithm/update_rule_pi.jpg?raw=true\">"
   ]
  },
  {
   "cell_type": "code",
   "execution_count": 88,
   "metadata": {},
   "outputs": [],
   "source": [
    "def approx_pi(n):\n",
    "    L = 1\n",
    "    res = []\n",
    "    i = 1\n",
    "    j = 6\n",
    "    while i <= n:\n",
    "        if i == 1:\n",
    "            tmp = j * L/2\n",
    "            res.append([j, L, tmp])\n",
    "        else:\n",
    "            j = j * 2\n",
    "            L = np.sqrt(2 - np.sqrt(4 - L**2))\n",
    "            tmp = j*L/2\n",
    "            res.append([j, L, tmp])\n",
    "        i += 1\n",
    "    return res"
   ]
  },
  {
   "cell_type": "code",
   "execution_count": 89,
   "metadata": {},
   "outputs": [
    {
     "data": {
      "text/html": [
       "<div>\n",
       "<style scoped>\n",
       "    .dataframe tbody tr th:only-of-type {\n",
       "        vertical-align: middle;\n",
       "    }\n",
       "\n",
       "    .dataframe tbody tr th {\n",
       "        vertical-align: top;\n",
       "    }\n",
       "\n",
       "    .dataframe thead th {\n",
       "        text-align: right;\n",
       "    }\n",
       "</style>\n",
       "<table border=\"1\" class=\"dataframe\">\n",
       "  <thead>\n",
       "    <tr style=\"text-align: right;\">\n",
       "      <th></th>\n",
       "      <th>n</th>\n",
       "      <th>L</th>\n",
       "      <th>pi</th>\n",
       "    </tr>\n",
       "  </thead>\n",
       "  <tbody>\n",
       "    <tr>\n",
       "      <td>0</td>\n",
       "      <td>6</td>\n",
       "      <td>1.000000e+00</td>\n",
       "      <td>3.000000</td>\n",
       "    </tr>\n",
       "    <tr>\n",
       "      <td>1</td>\n",
       "      <td>12</td>\n",
       "      <td>5.176381e-01</td>\n",
       "      <td>3.105829</td>\n",
       "    </tr>\n",
       "    <tr>\n",
       "      <td>2</td>\n",
       "      <td>24</td>\n",
       "      <td>2.610524e-01</td>\n",
       "      <td>3.132629</td>\n",
       "    </tr>\n",
       "    <tr>\n",
       "      <td>3</td>\n",
       "      <td>48</td>\n",
       "      <td>1.308063e-01</td>\n",
       "      <td>3.139350</td>\n",
       "    </tr>\n",
       "    <tr>\n",
       "      <td>4</td>\n",
       "      <td>96</td>\n",
       "      <td>6.543817e-02</td>\n",
       "      <td>3.141032</td>\n",
       "    </tr>\n",
       "    <tr>\n",
       "      <td>5</td>\n",
       "      <td>192</td>\n",
       "      <td>3.272346e-02</td>\n",
       "      <td>3.141452</td>\n",
       "    </tr>\n",
       "    <tr>\n",
       "      <td>6</td>\n",
       "      <td>384</td>\n",
       "      <td>1.636228e-02</td>\n",
       "      <td>3.141558</td>\n",
       "    </tr>\n",
       "    <tr>\n",
       "      <td>7</td>\n",
       "      <td>768</td>\n",
       "      <td>8.181208e-03</td>\n",
       "      <td>3.141584</td>\n",
       "    </tr>\n",
       "    <tr>\n",
       "      <td>8</td>\n",
       "      <td>1536</td>\n",
       "      <td>4.090613e-03</td>\n",
       "      <td>3.141590</td>\n",
       "    </tr>\n",
       "    <tr>\n",
       "      <td>9</td>\n",
       "      <td>3072</td>\n",
       "      <td>2.045307e-03</td>\n",
       "      <td>3.141592</td>\n",
       "    </tr>\n",
       "    <tr>\n",
       "      <td>10</td>\n",
       "      <td>6144</td>\n",
       "      <td>1.022654e-03</td>\n",
       "      <td>3.141593</td>\n",
       "    </tr>\n",
       "    <tr>\n",
       "      <td>11</td>\n",
       "      <td>12288</td>\n",
       "      <td>5.113269e-04</td>\n",
       "      <td>3.141593</td>\n",
       "    </tr>\n",
       "    <tr>\n",
       "      <td>12</td>\n",
       "      <td>24576</td>\n",
       "      <td>2.556635e-04</td>\n",
       "      <td>3.141593</td>\n",
       "    </tr>\n",
       "    <tr>\n",
       "      <td>13</td>\n",
       "      <td>49152</td>\n",
       "      <td>1.278317e-04</td>\n",
       "      <td>3.141593</td>\n",
       "    </tr>\n",
       "    <tr>\n",
       "      <td>14</td>\n",
       "      <td>98304</td>\n",
       "      <td>6.391587e-05</td>\n",
       "      <td>3.141593</td>\n",
       "    </tr>\n",
       "    <tr>\n",
       "      <td>15</td>\n",
       "      <td>196608</td>\n",
       "      <td>3.195793e-05</td>\n",
       "      <td>3.141593</td>\n",
       "    </tr>\n",
       "    <tr>\n",
       "      <td>16</td>\n",
       "      <td>393216</td>\n",
       "      <td>1.597897e-05</td>\n",
       "      <td>3.141594</td>\n",
       "    </tr>\n",
       "    <tr>\n",
       "      <td>17</td>\n",
       "      <td>786432</td>\n",
       "      <td>7.989482e-06</td>\n",
       "      <td>3.141592</td>\n",
       "    </tr>\n",
       "    <tr>\n",
       "      <td>18</td>\n",
       "      <td>1572864</td>\n",
       "      <td>3.994762e-06</td>\n",
       "      <td>3.141609</td>\n",
       "    </tr>\n",
       "    <tr>\n",
       "      <td>19</td>\n",
       "      <td>3145728</td>\n",
       "      <td>1.997367e-06</td>\n",
       "      <td>3.141587</td>\n",
       "    </tr>\n",
       "    <tr>\n",
       "      <td>20</td>\n",
       "      <td>6291456</td>\n",
       "      <td>9.987114e-07</td>\n",
       "      <td>3.141674</td>\n",
       "    </tr>\n",
       "    <tr>\n",
       "      <td>21</td>\n",
       "      <td>12582912</td>\n",
       "      <td>4.993557e-07</td>\n",
       "      <td>3.141674</td>\n",
       "    </tr>\n",
       "    <tr>\n",
       "      <td>22</td>\n",
       "      <td>25165824</td>\n",
       "      <td>2.497890e-07</td>\n",
       "      <td>3.143073</td>\n",
       "    </tr>\n",
       "    <tr>\n",
       "      <td>23</td>\n",
       "      <td>50331648</td>\n",
       "      <td>1.255594e-07</td>\n",
       "      <td>3.159806</td>\n",
       "    </tr>\n",
       "    <tr>\n",
       "      <td>24</td>\n",
       "      <td>100663296</td>\n",
       "      <td>6.322027e-08</td>\n",
       "      <td>3.181981</td>\n",
       "    </tr>\n",
       "    <tr>\n",
       "      <td>25</td>\n",
       "      <td>201326592</td>\n",
       "      <td>3.332001e-08</td>\n",
       "      <td>3.354102</td>\n",
       "    </tr>\n",
       "    <tr>\n",
       "      <td>26</td>\n",
       "      <td>402653184</td>\n",
       "      <td>2.107342e-08</td>\n",
       "      <td>4.242641</td>\n",
       "    </tr>\n",
       "    <tr>\n",
       "      <td>27</td>\n",
       "      <td>805306368</td>\n",
       "      <td>1.490116e-08</td>\n",
       "      <td>6.000000</td>\n",
       "    </tr>\n",
       "    <tr>\n",
       "      <td>28</td>\n",
       "      <td>1610612736</td>\n",
       "      <td>0.000000e+00</td>\n",
       "      <td>0.000000</td>\n",
       "    </tr>\n",
       "    <tr>\n",
       "      <td>29</td>\n",
       "      <td>3221225472</td>\n",
       "      <td>0.000000e+00</td>\n",
       "      <td>0.000000</td>\n",
       "    </tr>\n",
       "  </tbody>\n",
       "</table>\n",
       "</div>"
      ],
      "text/plain": [
       "             n             L        pi\n",
       "0            6  1.000000e+00  3.000000\n",
       "1           12  5.176381e-01  3.105829\n",
       "2           24  2.610524e-01  3.132629\n",
       "3           48  1.308063e-01  3.139350\n",
       "4           96  6.543817e-02  3.141032\n",
       "5          192  3.272346e-02  3.141452\n",
       "6          384  1.636228e-02  3.141558\n",
       "7          768  8.181208e-03  3.141584\n",
       "8         1536  4.090613e-03  3.141590\n",
       "9         3072  2.045307e-03  3.141592\n",
       "10        6144  1.022654e-03  3.141593\n",
       "11       12288  5.113269e-04  3.141593\n",
       "12       24576  2.556635e-04  3.141593\n",
       "13       49152  1.278317e-04  3.141593\n",
       "14       98304  6.391587e-05  3.141593\n",
       "15      196608  3.195793e-05  3.141593\n",
       "16      393216  1.597897e-05  3.141594\n",
       "17      786432  7.989482e-06  3.141592\n",
       "18     1572864  3.994762e-06  3.141609\n",
       "19     3145728  1.997367e-06  3.141587\n",
       "20     6291456  9.987114e-07  3.141674\n",
       "21    12582912  4.993557e-07  3.141674\n",
       "22    25165824  2.497890e-07  3.143073\n",
       "23    50331648  1.255594e-07  3.159806\n",
       "24   100663296  6.322027e-08  3.181981\n",
       "25   201326592  3.332001e-08  3.354102\n",
       "26   402653184  2.107342e-08  4.242641\n",
       "27   805306368  1.490116e-08  6.000000\n",
       "28  1610612736  0.000000e+00  0.000000\n",
       "29  3221225472  0.000000e+00  0.000000"
      ]
     },
     "execution_count": 89,
     "metadata": {},
     "output_type": "execute_result"
    }
   ],
   "source": [
    "pd.DataFrame(approx_pi(30), columns = ['n', 'L', 'pi'])"
   ]
  },
  {
   "cell_type": "markdown",
   "metadata": {},
   "source": [
    "途中からround_errorと桁落ちによる数値誤差が発生しへんな値になる。桁落ち対策を施した数値計算方法を次に実装する。"
   ]
  },
  {
   "cell_type": "code",
   "execution_count": 90,
   "metadata": {},
   "outputs": [],
   "source": [
    "def approx_pi_adj(n):\n",
    "    L = 1\n",
    "    res = []\n",
    "    i = 1\n",
    "    j = 6\n",
    "    while i <= n:\n",
    "        if i == 1:\n",
    "            tmp = j * L/2\n",
    "            res.append([j, L, tmp])\n",
    "        else:\n",
    "            j = j * 2\n",
    "            L = np.sqrt(L**2 / (2 + np.sqrt(4 - L**2)))\n",
    "            tmp = j*L/2\n",
    "            res.append([j, L, tmp])\n",
    "        i += 1\n",
    "    return res"
   ]
  },
  {
   "cell_type": "code",
   "execution_count": 91,
   "metadata": {},
   "outputs": [
    {
     "data": {
      "text/html": [
       "<div>\n",
       "<style scoped>\n",
       "    .dataframe tbody tr th:only-of-type {\n",
       "        vertical-align: middle;\n",
       "    }\n",
       "\n",
       "    .dataframe tbody tr th {\n",
       "        vertical-align: top;\n",
       "    }\n",
       "\n",
       "    .dataframe thead th {\n",
       "        text-align: right;\n",
       "    }\n",
       "</style>\n",
       "<table border=\"1\" class=\"dataframe\">\n",
       "  <thead>\n",
       "    <tr style=\"text-align: right;\">\n",
       "      <th></th>\n",
       "      <th>n</th>\n",
       "      <th>L</th>\n",
       "      <th>pi</th>\n",
       "      <th>abs_error</th>\n",
       "      <th>relative_error</th>\n",
       "    </tr>\n",
       "  </thead>\n",
       "  <tbody>\n",
       "    <tr>\n",
       "      <td>0</td>\n",
       "      <td>6</td>\n",
       "      <td>1.000000e+00</td>\n",
       "      <td>3.000000</td>\n",
       "      <td>1.415927e-01</td>\n",
       "      <td>4.507034e-02</td>\n",
       "    </tr>\n",
       "    <tr>\n",
       "      <td>1</td>\n",
       "      <td>12</td>\n",
       "      <td>5.176381e-01</td>\n",
       "      <td>3.105829</td>\n",
       "      <td>3.576411e-02</td>\n",
       "      <td>1.138407e-02</td>\n",
       "    </tr>\n",
       "    <tr>\n",
       "      <td>2</td>\n",
       "      <td>24</td>\n",
       "      <td>2.610524e-01</td>\n",
       "      <td>3.132629</td>\n",
       "      <td>8.964040e-03</td>\n",
       "      <td>2.853343e-03</td>\n",
       "    </tr>\n",
       "    <tr>\n",
       "      <td>3</td>\n",
       "      <td>48</td>\n",
       "      <td>1.308063e-01</td>\n",
       "      <td>3.139350</td>\n",
       "      <td>2.242451e-03</td>\n",
       "      <td>7.137942e-04</td>\n",
       "    </tr>\n",
       "    <tr>\n",
       "      <td>4</td>\n",
       "      <td>96</td>\n",
       "      <td>6.543817e-02</td>\n",
       "      <td>3.141032</td>\n",
       "      <td>5.607027e-04</td>\n",
       "      <td>1.784772e-04</td>\n",
       "    </tr>\n",
       "    <tr>\n",
       "      <td>5</td>\n",
       "      <td>192</td>\n",
       "      <td>3.272346e-02</td>\n",
       "      <td>3.141452</td>\n",
       "      <td>1.401813e-04</td>\n",
       "      <td>4.462110e-05</td>\n",
       "    </tr>\n",
       "    <tr>\n",
       "      <td>6</td>\n",
       "      <td>384</td>\n",
       "      <td>1.636228e-02</td>\n",
       "      <td>3.141558</td>\n",
       "      <td>3.504568e-05</td>\n",
       "      <td>1.115539e-05</td>\n",
       "    </tr>\n",
       "    <tr>\n",
       "      <td>7</td>\n",
       "      <td>768</td>\n",
       "      <td>8.181208e-03</td>\n",
       "      <td>3.141584</td>\n",
       "      <td>8.761441e-06</td>\n",
       "      <td>2.788853e-06</td>\n",
       "    </tr>\n",
       "    <tr>\n",
       "      <td>8</td>\n",
       "      <td>1536</td>\n",
       "      <td>4.090613e-03</td>\n",
       "      <td>3.141590</td>\n",
       "      <td>2.190362e-06</td>\n",
       "      <td>6.972138e-07</td>\n",
       "    </tr>\n",
       "    <tr>\n",
       "      <td>9</td>\n",
       "      <td>3072</td>\n",
       "      <td>2.045307e-03</td>\n",
       "      <td>3.141592</td>\n",
       "      <td>5.475905e-07</td>\n",
       "      <td>1.743035e-07</td>\n",
       "    </tr>\n",
       "    <tr>\n",
       "      <td>10</td>\n",
       "      <td>6144</td>\n",
       "      <td>1.022654e-03</td>\n",
       "      <td>3.141593</td>\n",
       "      <td>1.368976e-07</td>\n",
       "      <td>4.357587e-08</td>\n",
       "    </tr>\n",
       "    <tr>\n",
       "      <td>11</td>\n",
       "      <td>12288</td>\n",
       "      <td>5.113269e-04</td>\n",
       "      <td>3.141593</td>\n",
       "      <td>3.422441e-08</td>\n",
       "      <td>1.089397e-08</td>\n",
       "    </tr>\n",
       "    <tr>\n",
       "      <td>12</td>\n",
       "      <td>24576</td>\n",
       "      <td>2.556635e-04</td>\n",
       "      <td>3.141593</td>\n",
       "      <td>8.556105e-09</td>\n",
       "      <td>2.723493e-09</td>\n",
       "    </tr>\n",
       "    <tr>\n",
       "      <td>13</td>\n",
       "      <td>49152</td>\n",
       "      <td>1.278317e-04</td>\n",
       "      <td>3.141593</td>\n",
       "      <td>2.139029e-09</td>\n",
       "      <td>6.808739e-10</td>\n",
       "    </tr>\n",
       "    <tr>\n",
       "      <td>14</td>\n",
       "      <td>98304</td>\n",
       "      <td>6.391587e-05</td>\n",
       "      <td>3.141593</td>\n",
       "      <td>5.347589e-10</td>\n",
       "      <td>1.702190e-10</td>\n",
       "    </tr>\n",
       "    <tr>\n",
       "      <td>15</td>\n",
       "      <td>196608</td>\n",
       "      <td>3.195793e-05</td>\n",
       "      <td>3.141593</td>\n",
       "      <td>1.336922e-10</td>\n",
       "      <td>4.255554e-11</td>\n",
       "    </tr>\n",
       "    <tr>\n",
       "      <td>16</td>\n",
       "      <td>393216</td>\n",
       "      <td>1.597897e-05</td>\n",
       "      <td>3.141593</td>\n",
       "      <td>3.342571e-11</td>\n",
       "      <td>1.063973e-11</td>\n",
       "    </tr>\n",
       "    <tr>\n",
       "      <td>17</td>\n",
       "      <td>786432</td>\n",
       "      <td>7.989483e-06</td>\n",
       "      <td>3.141593</td>\n",
       "      <td>8.358647e-12</td>\n",
       "      <td>2.660640e-12</td>\n",
       "    </tr>\n",
       "    <tr>\n",
       "      <td>18</td>\n",
       "      <td>1572864</td>\n",
       "      <td>3.994742e-06</td>\n",
       "      <td>3.141593</td>\n",
       "      <td>2.091660e-12</td>\n",
       "      <td>6.657961e-13</td>\n",
       "    </tr>\n",
       "    <tr>\n",
       "      <td>19</td>\n",
       "      <td>3145728</td>\n",
       "      <td>1.997371e-06</td>\n",
       "      <td>3.141593</td>\n",
       "      <td>5.249134e-13</td>\n",
       "      <td>1.670851e-13</td>\n",
       "    </tr>\n",
       "    <tr>\n",
       "      <td>20</td>\n",
       "      <td>6291456</td>\n",
       "      <td>9.986854e-07</td>\n",
       "      <td>3.141593</td>\n",
       "      <td>1.332268e-13</td>\n",
       "      <td>4.240740e-14</td>\n",
       "    </tr>\n",
       "    <tr>\n",
       "      <td>21</td>\n",
       "      <td>12582912</td>\n",
       "      <td>4.993427e-07</td>\n",
       "      <td>3.141593</td>\n",
       "      <td>3.552714e-14</td>\n",
       "      <td>1.130864e-14</td>\n",
       "    </tr>\n",
       "    <tr>\n",
       "      <td>22</td>\n",
       "      <td>25165824</td>\n",
       "      <td>2.496714e-07</td>\n",
       "      <td>3.141593</td>\n",
       "      <td>1.065814e-14</td>\n",
       "      <td>3.392592e-15</td>\n",
       "    </tr>\n",
       "    <tr>\n",
       "      <td>23</td>\n",
       "      <td>50331648</td>\n",
       "      <td>1.248357e-07</td>\n",
       "      <td>3.141593</td>\n",
       "      <td>4.884981e-15</td>\n",
       "      <td>1.554938e-15</td>\n",
       "    </tr>\n",
       "    <tr>\n",
       "      <td>24</td>\n",
       "      <td>100663296</td>\n",
       "      <td>6.241784e-08</td>\n",
       "      <td>3.141593</td>\n",
       "      <td>3.552714e-15</td>\n",
       "      <td>1.130864e-15</td>\n",
       "    </tr>\n",
       "    <tr>\n",
       "      <td>25</td>\n",
       "      <td>201326592</td>\n",
       "      <td>3.120892e-08</td>\n",
       "      <td>3.141593</td>\n",
       "      <td>2.664535e-15</td>\n",
       "      <td>8.481479e-16</td>\n",
       "    </tr>\n",
       "    <tr>\n",
       "      <td>26</td>\n",
       "      <td>402653184</td>\n",
       "      <td>1.560446e-08</td>\n",
       "      <td>3.141593</td>\n",
       "      <td>2.664535e-15</td>\n",
       "      <td>8.481479e-16</td>\n",
       "    </tr>\n",
       "    <tr>\n",
       "      <td>27</td>\n",
       "      <td>805306368</td>\n",
       "      <td>7.802230e-09</td>\n",
       "      <td>3.141593</td>\n",
       "      <td>2.664535e-15</td>\n",
       "      <td>8.481479e-16</td>\n",
       "    </tr>\n",
       "    <tr>\n",
       "      <td>28</td>\n",
       "      <td>1610612736</td>\n",
       "      <td>3.901115e-09</td>\n",
       "      <td>3.141593</td>\n",
       "      <td>2.664535e-15</td>\n",
       "      <td>8.481479e-16</td>\n",
       "    </tr>\n",
       "    <tr>\n",
       "      <td>29</td>\n",
       "      <td>3221225472</td>\n",
       "      <td>1.950557e-09</td>\n",
       "      <td>3.141593</td>\n",
       "      <td>2.664535e-15</td>\n",
       "      <td>8.481479e-16</td>\n",
       "    </tr>\n",
       "  </tbody>\n",
       "</table>\n",
       "</div>"
      ],
      "text/plain": [
       "             n             L        pi     abs_error  relative_error\n",
       "0            6  1.000000e+00  3.000000  1.415927e-01    4.507034e-02\n",
       "1           12  5.176381e-01  3.105829  3.576411e-02    1.138407e-02\n",
       "2           24  2.610524e-01  3.132629  8.964040e-03    2.853343e-03\n",
       "3           48  1.308063e-01  3.139350  2.242451e-03    7.137942e-04\n",
       "4           96  6.543817e-02  3.141032  5.607027e-04    1.784772e-04\n",
       "5          192  3.272346e-02  3.141452  1.401813e-04    4.462110e-05\n",
       "6          384  1.636228e-02  3.141558  3.504568e-05    1.115539e-05\n",
       "7          768  8.181208e-03  3.141584  8.761441e-06    2.788853e-06\n",
       "8         1536  4.090613e-03  3.141590  2.190362e-06    6.972138e-07\n",
       "9         3072  2.045307e-03  3.141592  5.475905e-07    1.743035e-07\n",
       "10        6144  1.022654e-03  3.141593  1.368976e-07    4.357587e-08\n",
       "11       12288  5.113269e-04  3.141593  3.422441e-08    1.089397e-08\n",
       "12       24576  2.556635e-04  3.141593  8.556105e-09    2.723493e-09\n",
       "13       49152  1.278317e-04  3.141593  2.139029e-09    6.808739e-10\n",
       "14       98304  6.391587e-05  3.141593  5.347589e-10    1.702190e-10\n",
       "15      196608  3.195793e-05  3.141593  1.336922e-10    4.255554e-11\n",
       "16      393216  1.597897e-05  3.141593  3.342571e-11    1.063973e-11\n",
       "17      786432  7.989483e-06  3.141593  8.358647e-12    2.660640e-12\n",
       "18     1572864  3.994742e-06  3.141593  2.091660e-12    6.657961e-13\n",
       "19     3145728  1.997371e-06  3.141593  5.249134e-13    1.670851e-13\n",
       "20     6291456  9.986854e-07  3.141593  1.332268e-13    4.240740e-14\n",
       "21    12582912  4.993427e-07  3.141593  3.552714e-14    1.130864e-14\n",
       "22    25165824  2.496714e-07  3.141593  1.065814e-14    3.392592e-15\n",
       "23    50331648  1.248357e-07  3.141593  4.884981e-15    1.554938e-15\n",
       "24   100663296  6.241784e-08  3.141593  3.552714e-15    1.130864e-15\n",
       "25   201326592  3.120892e-08  3.141593  2.664535e-15    8.481479e-16\n",
       "26   402653184  1.560446e-08  3.141593  2.664535e-15    8.481479e-16\n",
       "27   805306368  7.802230e-09  3.141593  2.664535e-15    8.481479e-16\n",
       "28  1610612736  3.901115e-09  3.141593  2.664535e-15    8.481479e-16\n",
       "29  3221225472  1.950557e-09  3.141593  2.664535e-15    8.481479e-16"
      ]
     },
     "execution_count": 91,
     "metadata": {},
     "output_type": "execute_result"
    }
   ],
   "source": [
    "data = pd.DataFrame(approx_pi_adj(30), columns = ['n', 'L', 'pi'])\n",
    "data['abs_error'] = abs(np.pi - data['pi'])\n",
    "data['relative_error'] = data['abs_error']/np.pi\n",
    "data"
   ]
  }
 ],
 "metadata": {
  "kernelspec": {
   "display_name": "Python 3",
   "language": "python",
   "name": "python3"
  },
  "language_info": {
   "codemirror_mode": {
    "name": "ipython",
    "version": 3
   },
   "file_extension": ".py",
   "mimetype": "text/x-python",
   "name": "python",
   "nbconvert_exporter": "python",
   "pygments_lexer": "ipython3",
   "version": "3.7.4"
  },
  "toc-autonumbering": false,
  "toc-showcode": false,
  "toc-showmarkdowntxt": false,
  "toc-showtags": false
 },
 "nbformat": 4,
 "nbformat_minor": 4
}
