{
 "cells": [
  {
   "cell_type": "markdown",
   "metadata": {},
   "source": [
    "# 行列のrankの計算アルゴリズム"
   ]
  },
  {
   "cell_type": "code",
   "execution_count": 1,
   "metadata": {},
   "outputs": [],
   "source": [
    "import numpy as np"
   ]
  },
  {
   "cell_type": "markdown",
   "metadata": {},
   "source": [
    "## Goal\n",
    "\n",
    "以下のようなInput Outputのプログラムを書く：\n",
    "\n",
    "```\n",
    "Input:  mat[][] = {{10,   20,   10},\n",
    "                   {20,   40,   20},\n",
    "                   {30,   50,   0}}\n",
    "Output: Rank is 2\n",
    "Explanation: Ist and IInd rows are linearly dependent.\n",
    "             But Ist and  3rd or IInd and IIIrd  are\n",
    "             independent.   \n",
    "\n",
    "```"
   ]
  },
  {
   "cell_type": "markdown",
   "metadata": {},
   "source": [
    "## 方針\n",
    "\n",
    "Row echelon formと同様の手順で行う：\n",
    "\n",
    "```\n",
    "1) Let the input matrix be mat[][].  Initialize rank equals\n",
    "   to number of columns\n",
    "\n",
    "2) Do following for row = 0 to rank-1.\n",
    "\n",
    "  a) If mat[row][row] is not zero, make all elements of\n",
    "     current column as 0 except the element mat[row][row]\n",
    "     by finding appropriate multiplier and adding a the \n",
    "     multiple of row 'row'\n",
    "        \n",
    "  b) Else (mat[row][row] is zero). Two cases arise:\n",
    "       (i) If there is a row below it with non-zero entry in \n",
    "           same column, then swap current 'row' and that row.\n",
    "       (ii) If all elements in current column below mat[r][row] \n",
    "            are 0, then remove this column by swapping it with\n",
    "            last column and  reducing number of rank by 1.\n",
    "     Reduce row by 1 so that this row is processed again.\n",
    "\n",
    "3) Number of remaining columns is rank of matrix.\n",
    "```"
   ]
  },
  {
   "cell_type": "code",
   "execution_count": 2,
   "metadata": {},
   "outputs": [
    {
     "name": "stdout",
     "output_type": "stream",
     "text": [
      "Rank of the Matrix is: 2\n"
     ]
    }
   ],
   "source": [
    "# Python 3 program to find rank of a matrix \n",
    "class rankMatrix(object): \n",
    "    def __init__(self, Matrix): \n",
    "        self.R = len(Matrix) \n",
    "        self.C = len(Matrix[0]) \n",
    "        self.matrix = Matrix\n",
    "        if self.R < self.C:\n",
    "            raise ValueError('Matrix should be transpoed')\n",
    "          \n",
    "    # Function for exchanging two rows of a matrix \n",
    "    def swap(self, Matrix, row1, row2, col): \n",
    "        for i in range(col): \n",
    "            temp = Matrix[row1][i] \n",
    "            Matrix[row1][i] = Matrix[row2][i] \n",
    "            Matrix[row2][i] = temp \n",
    "              \n",
    "    # Function to Display a matrix \n",
    "    def Display(self, Matrix, row, col): \n",
    "        for i in range(row): \n",
    "            for j in range(col): \n",
    "                print (\" \" + str(Matrix[i][j])) \n",
    "            print ('\\n') \n",
    "              \n",
    "    # Find rank of a matrix \n",
    "    def rankOfMatrix(self): \n",
    "        rank = self.C \n",
    "        for row in range(0, rank, 1): \n",
    "              \n",
    "            # Before we visit current row  \n",
    "            # 'row', we make sure that  \n",
    "            # mat[row][0],....mat[row][row-1]  \n",
    "            # are 0.  \n",
    "      \n",
    "            # Diagonal element is not zero \n",
    "            if self.matrix[row][row] != 0: \n",
    "                for col in range(0, self.R, 1): \n",
    "                    if col != row: \n",
    "                          \n",
    "                        # This makes all entries of current  \n",
    "                        # column as 0 except entry 'mat[row][row]'  \n",
    "                        multiplier = (self.matrix[col][row] /\n",
    "                                      self.matrix[row][row]) \n",
    "                        for i in range(rank): \n",
    "                            self.matrix[col][i] -= (multiplier * self.matrix[row][i]) \n",
    "                                                  \n",
    "            # Diagonal element is already zero.  \n",
    "            # Two cases arise:  \n",
    "            # 1) If there is a row below it  \n",
    "            # with non-zero entry, then swap  \n",
    "            # this row with that row and process  \n",
    "            # that row  \n",
    "            # 2) If all elements in current  \n",
    "            # column below mat[r][row] are 0,  \n",
    "            # then remvoe this column by  \n",
    "            # swapping it with last column and  \n",
    "            # reducing number of columns by 1.  \n",
    "            else: \n",
    "                reduce = True\n",
    "                  \n",
    "                # Find the non-zero element  \n",
    "                # in current column  \n",
    "                for i in range(row + 1, self.R, 1): \n",
    "                      \n",
    "                    # Swap the row with non-zero  \n",
    "                    # element with this row. \n",
    "                    if self.matrix[i][row] != 0: \n",
    "                        self.swap(self.matrix, row, i, rank) \n",
    "                        reduce = False\n",
    "                        break\n",
    "                          \n",
    "                # If we did not find any row with  \n",
    "                # non-zero element in current  \n",
    "                # columnm, then all values in  \n",
    "                # this column are 0. \n",
    "                if reduce: \n",
    "                      \n",
    "                    # Reduce number of columns  \n",
    "                    rank -= 1\n",
    "                      \n",
    "                    # copy the last column here \n",
    "                    for i in range(0, self.R, 1): \n",
    "                        self.matrix[i][row] = self.matrix[i][rank] \n",
    "                          \n",
    "                # process this row again \n",
    "                row -= 1\n",
    "                  \n",
    "        # self.Display(Matrix, self.R,self.C)  \n",
    "        return (rank) \n",
    "  \n",
    "# Driver Code \n",
    "if __name__ == '__main__': \n",
    "    Matrix = [[10, 20, 10], \n",
    "              [-20, -30, 10], \n",
    "              [30, 50, 0]] \n",
    "    RankMatrix = rankMatrix(Matrix) \n",
    "    print (\"Rank of the Matrix is:\",  \n",
    "           (RankMatrix.rankOfMatrix())) \n",
    "  \n",
    "# This code is contributed by Vikas Chitturi "
   ]
  },
  {
   "cell_type": "markdown",
   "metadata": {},
   "source": [
    "## Test"
   ]
  },
  {
   "cell_type": "code",
   "execution_count": 3,
   "metadata": {},
   "outputs": [
    {
     "name": "stdout",
     "output_type": "stream",
     "text": [
      "Rank of the Matrix is: 1\n"
     ]
    }
   ],
   "source": [
    "Matrix = np.array([[1,0,0,0], \n",
    "                   [1,0,0,0], \n",
    "                   [1,0,0,0]])\n",
    "RankMatrix = rankMatrix(Matrix.T) \n",
    "print (\"Rank of the Matrix is:\",(RankMatrix.rankOfMatrix())) "
   ]
  },
  {
   "cell_type": "code",
   "execution_count": 4,
   "metadata": {},
   "outputs": [
    {
     "name": "stdout",
     "output_type": "stream",
     "text": [
      "Rank of the Matrix is: 2\n"
     ]
    }
   ],
   "source": [
    "Matrix = np.array([[1,0,0,0], \n",
    "                   [1,1,0,0], \n",
    "                   [1,0,0,0]])\n",
    "RankMatrix = rankMatrix(Matrix.T) \n",
    "print (\"Rank of the Matrix is:\",(RankMatrix.rankOfMatrix())) "
   ]
  },
  {
   "cell_type": "code",
   "execution_count": 5,
   "metadata": {},
   "outputs": [
    {
     "name": "stdout",
     "output_type": "stream",
     "text": [
      "Rank of the Matrix is: 3\n"
     ]
    }
   ],
   "source": [
    "Matrix = np.array([[1,0,0,0], \n",
    "                   [1,1,0,0], \n",
    "                   [1,0,0,1]])\n",
    "RankMatrix = rankMatrix(Matrix.T) \n",
    "print (\"Rank of the Matrix is:\",(RankMatrix.rankOfMatrix())) "
   ]
  }
 ],
 "metadata": {
  "kernelspec": {
   "display_name": "Python 3",
   "language": "python",
   "name": "python3"
  },
  "language_info": {
   "codemirror_mode": {
    "name": "ipython",
    "version": 3
   },
   "file_extension": ".py",
   "mimetype": "text/x-python",
   "name": "python",
   "nbconvert_exporter": "python",
   "pygments_lexer": "ipython3",
   "version": "3.7.4"
  }
 },
 "nbformat": 4,
 "nbformat_minor": 4
}
