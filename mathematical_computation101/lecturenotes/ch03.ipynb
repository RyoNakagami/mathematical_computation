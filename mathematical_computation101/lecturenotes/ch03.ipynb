{
 "cells": [
  {
   "cell_type": "markdown",
   "metadata": {},
   "source": [
    "# 3. 連立一次方程式\n",
    "### 概要\n",
    "\n",
    "- 連立一次方程式の解法は二つに分類できる\n",
    "- 消去法（LU分解）\n",
    "- 反復法\n",
    "\n",
    "### key-words\n",
    "\n",
    "- 吐き出し法\n",
    "- ガウスの消去法\n",
    "- LU分解\n",
    "- 逆行列\n",
    "- ガウス・ザイデル法\n",
    "- SOR法\n"
   ]
  },
  {
   "cell_type": "code",
   "execution_count": 1,
   "metadata": {},
   "outputs": [
    {
     "name": "stdout",
     "output_type": "stream",
     "text": [
      "Python 3.7.4\n"
     ]
    }
   ],
   "source": [
    "!python -V"
   ]
  },
  {
   "cell_type": "markdown",
   "metadata": {},
   "source": [
    "Import"
   ]
  },
  {
   "cell_type": "code",
   "execution_count": 2,
   "metadata": {},
   "outputs": [],
   "source": [
    "import numpy as np\n",
    "import matplotlib.pyplot as plt\n",
    "from scipy.linalg import lu as lu"
   ]
  },
  {
   "cell_type": "markdown",
   "metadata": {},
   "source": [
    "### 注意\n",
    "\n",
    "- numpyを用いた行列表現はarrayを使用する\n",
    "- `*`演算をするとアダマール積になるが`@`を用いることで通常の行列の積の実行結果を得ることができる\n",
    "- Scipy.orgにおける`numpy.matrix` documentにも`Note　It is no longer recommended to use this class, even for linear algebra. Instead use regular arrays. The class may be removed in the future.`とのこと"
   ]
  },
  {
   "cell_type": "markdown",
   "metadata": {},
   "source": [
    "### 吐き出し法\n",
    "\n",
    "次のルールを使って、未知数を一つずつ消していく手法\n",
    "\n",
    "$$\n",
    "\\begin{aligned}\n",
    "2x + 2y + 6z &= 24 \\\\\n",
    "3x + 5y + 13z &= 52\\\\\n",
    "5x + 8y + 24z &= 93\n",
    "\\end{aligned}\n",
    "$$\n",
    "を考えるとき、次の二元配列（行列）に変換する\n",
    "\n",
    "$$\n",
    "\\left(\n",
    "\\begin{array}{cccc}\n",
    "2 & 2 & 6 & 24 \\\\\n",
    "3 & 5 & 13 & 52\\\\\n",
    "5 & 8& 24 & 93\n",
    "\\end{array}\n",
    "\\right)\n",
    "$$\n",
    "\n",
    "- ある行をその行に対応するピボット（対角成分）で割る\n",
    "- ある行から他の行の定数倍を引く\n",
    "- ある行と他の行を入れ替える\n",
    "\n",
    "#### Pseudocode\n",
    "\n",
    "```\n",
    "1. Start\n",
    "\n",
    "2. Input the Augmented Coefficients Matrix (A):\n",
    "\t\n",
    "\tFor i = 1 to n\n",
    "\t\t\n",
    "\t\tFor j = 1 to n+1\n",
    "\t\t\t\n",
    "\t\t\tRead Ai,j\n",
    "\t\t\n",
    "\t\tNext j\n",
    "\t\n",
    "\tNext i\n",
    "\n",
    "3. Apply Gauss Jordan Elimination on Matrix A:\n",
    "\t\n",
    "\tFor i = 1 to n\n",
    "\t\t\n",
    "\t\tIf Ai,i = 0\n",
    "\t\t\t\n",
    "\t\t\tPrint \"Mathematical Error!\"\n",
    "\t\t\tStop\n",
    "\t\t\n",
    "\t\tEnd If\n",
    "\t\t\n",
    "\t\tFor j = 1 to n\n",
    "\t\t\t\n",
    "\t\t\tIf i ≠ j \n",
    "\t\t\t\t\n",
    "\t\t\t\tRatio = Aj,i/Ai,i\n",
    "\t\t\t\t\n",
    "\t\t\t\tFor k = 1 to n+1\n",
    "\t\t\t\t\n",
    "\t\t\t\t\tAj,k = Aj,k - Ratio * Ai,k\n",
    "\t\t\t\n",
    "\t\t\t\tNext k\n",
    "\t\t\t\t\n",
    "\t\t\tEnd If\n",
    "\t\t\t\n",
    "\t\tNext j\n",
    "\tNext i\n",
    "\n",
    "4. Obtaining Solution:\n",
    "\t\n",
    "\tFor i = 1 to n \n",
    "\t\tXi = Ai,n+1/Ai,i\n",
    "\tNext i\n",
    "\n",
    "5. Display Solution:\n",
    "\t\n",
    "\tFor i = 1 to n\n",
    "\t\t\n",
    "\t\tPrint Xi\n",
    "\t\n",
    "\tNext i\n",
    "\n",
    "6. Stop\n",
    "\n",
    "\n",
    "---------------\n",
    "Note: All array indexes are assumed to start from 1.\n",
    "```\n"
   ]
  },
  {
   "cell_type": "markdown",
   "metadata": {},
   "source": [
    "### [例題1]\n",
    "\n",
    "$$\n",
    "\\begin{aligned}\n",
    "2x + 2y + 6z &= 24 \\\\\n",
    "3x + 5y + 13z &= 52\\\\\n",
    "5x + 8y + 24z &= 93\n",
    "\\end{aligned}\n",
    "$$\n",
    "\n",
    "を解け\n"
   ]
  },
  {
   "cell_type": "code",
   "execution_count": 3,
   "metadata": {},
   "outputs": [],
   "source": [
    "def gauss_jordan(A, output_array = None):\n",
    "    n, m = A.shape\n",
    "    for i in range(n):\n",
    "        if A[i, i] == 0:\n",
    "            raise ValueError('{}-th pivot is zero'.format(i))\n",
    "        \n",
    "        A[i, :] = A[i, :]/A[i,i]\n",
    "        \n",
    "        for j in range(n):\n",
    "            if i != j:\n",
    "                A[j, :] = A[j, :] - A[j,i] * A[i, :]\n",
    "    if output_array:\n",
    "        return A\n",
    "    return A[:, -1]\n",
    "                "
   ]
  },
  {
   "cell_type": "code",
   "execution_count": 4,
   "metadata": {},
   "outputs": [
    {
     "data": {
      "text/plain": [
       "array([[1, 0, 0, 1],\n",
       "       [0, 1, 0, 2],\n",
       "       [0, 0, 1, 3]])"
      ]
     },
     "execution_count": 4,
     "metadata": {},
     "output_type": "execute_result"
    }
   ],
   "source": [
    "X = np.array(([2, 2, 6, 24] \n",
    "             ,[3, 5, 13, 52]\n",
    "             ,[5, 8, 24, 93]))\n",
    "gauss_jordan(X, output_array = True)"
   ]
  },
  {
   "cell_type": "code",
   "execution_count": 5,
   "metadata": {},
   "outputs": [
    {
     "name": "stdout",
     "output_type": "stream",
     "text": [
      "39.3 µs ± 6.22 µs per loop (mean ± std. dev. of 7 runs, 10000 loops each)\n"
     ]
    }
   ],
   "source": [
    "%%timeit\n",
    "gauss_jordan(X)"
   ]
  },
  {
   "cell_type": "code",
   "execution_count": 6,
   "metadata": {},
   "outputs": [],
   "source": [
    "A, b = X[:, :-1], X[:, -1]"
   ]
  },
  {
   "cell_type": "code",
   "execution_count": 7,
   "metadata": {},
   "outputs": [
    {
     "name": "stdout",
     "output_type": "stream",
     "text": [
      "12.1 µs ± 973 ns per loop (mean ± std. dev. of 7 runs, 100000 loops each)\n"
     ]
    }
   ],
   "source": [
    "%%timeit\n",
    "np.linalg.solve(A, b)"
   ]
  },
  {
   "cell_type": "markdown",
   "metadata": {},
   "source": [
    "- 自作コードは`for loop`をネストで使用しているため、計算時間がとんでもなく遅いことに留意"
   ]
  },
  {
   "cell_type": "markdown",
   "metadata": {},
   "source": [
    "### ガウスの消去法: Gauss Elimination Method\n",
    "\n",
    "- 計算時間が短いので広く利用されている\n",
    "- ガウスの消去法は前進消去（文字を1つずつ消していく操作）と後退代入（1成分ずつ答えを求めていく操作）からなる\n",
    "\n",
    "#### 前進消去法のゴール\n",
    "\n",
    "$$\n",
    "\\left(\n",
    "\\begin{array}{cccc}\n",
    "u_{11} & u_{12} & u_{13} & b_1 \\\\\n",
    "0 & u_{22} & u_{23} & b_2\\\\\n",
    "0 & 0 & u_{33} & b_3\n",
    "\\end{array}\n",
    "\\right)\n",
    "$$\n",
    "\n",
    "- 後退代入は後ろの式から順番にたどっていき，一つずつ変数の値を求めていくだけ\n",
    "\n",
    "#### ガウス消去法のアルゴリズム\n",
    "\n",
    "```\n",
    "[INPUT]\n",
    "    A = (a[i,j]): 係数行列(n次の正方行列)\n",
    "    b = (b[i]): 定数ベクトル\n",
    "    \n",
    "[OUTPUT]\n",
    "    x: 解ベクトル\n",
    "    \n",
    "[PROCESS]\n",
    "    (前進消去法)\n",
    "        各列k = 1, ..., n-1について次の処理を反復する\n",
    "        (k列の吐き出し)\n",
    "            各行 i = k+1, ..., nについて次の処理を反復する\n",
    "            (a[i,k]の掃き出し)\n",
    "                pivot = a[k,k]\n",
    "                ratio = a[i,k]/pivot\n",
    "                for (j == k+1, j<= n, j++):\n",
    "                    a[i,j] = a[i,j] - a[k, j] * ratio\n",
    "                b[i] = b[i] - b[k]*ratio\n",
    "     \n",
    "     (後退代入)\n",
    "         for (k = n, k >= 1, k--):\n",
    "             x[k] = b[k]\n",
    "             for (j == k+1, j<= n, j++):\n",
    "                 x[k] = x[k] - a[k,j]*x[j]\n",
    "             \n",
    "             x[k] = x[k]/a[k,k]\n",
    "```\n",
    "\n",
    "\n",
    "\n",
    "#### Pseudocode for Gauss Elimination Method\n",
    "\n",
    "<img src = \"https://github.com/RyoNakagami/omorikaizuka/blob/master/pseudocode/gauss_elimination.jpg?raw=true\">"
   ]
  },
  {
   "cell_type": "markdown",
   "metadata": {},
   "source": [
    "- Psuedocodeの`maxEl`はpivot == 0に起因する計算エラーを防ぐために実施している\n",
    "- 絶対値が大きいpivotを探し出し、スイッチしている（ピボット選択 or 部分ピボット選択という）\n",
    "- pivotの絶対値はスケールに依存するので、通常は各行の絶対値最大の要素でその行の要素を割るというスケーリング前処理をする"
   ]
  },
  {
   "cell_type": "markdown",
   "metadata": {},
   "source": [
    "### [例題2]\n",
    "ガウスの消去法を用いて、次の連立一次方程式を解け\n",
    "\n",
    "$$\n",
    "\\begin{aligned}\n",
    "2x + 2y + 6z &= 24 \\\\\n",
    "3x + 5y + 13z &= 52\\\\\n",
    "5x + 8y + 24z &= 93\n",
    "\\end{aligned}\n",
    "$$"
   ]
  },
  {
   "cell_type": "code",
   "execution_count": 8,
   "metadata": {},
   "outputs": [],
   "source": [
    "def gauss_elimination(X):\n",
    "    A = X.copy()\n",
    "    n, m = A.shape\n",
    "    for i in range(0, n):\n",
    "        # Search for maximum \n",
    "        maxEl = abs(A[i][i])\n",
    "        maxRow = i\n",
    "        for k in range(i+1, n):\n",
    "            if abs(A[k][i]) > maxEl:\n",
    "                maxEl = abs(A[k][i])\n",
    "                maxRow = k\n",
    "\n",
    "        if i != maxRow:\n",
    "            tmp = A[i, :].copy()\n",
    "            A[i, :] = A[maxRow, :]\n",
    "            A[maxRow, :] = tmp\n",
    "\n",
    "\n",
    "        # 対角成分以下をゼロ\n",
    "        for k in range(i+1, n):\n",
    "            c = -A[k][i]/A[i][i]\n",
    "            for j in range(i, n+1):\n",
    "                if i == j:\n",
    "                    A[k][j] = 0\n",
    "                else:\n",
    "                    A[k][j] += c * A[i][j]\n",
    "\n",
    "    # Solve equation Ax=b\n",
    "    x = [0 for i in range(n)]\n",
    "    for i in range(n-1, -1, -1):\n",
    "        x[i] = A[i][n]/A[i][i]\n",
    "        for k in range(i-1, -1, -1):\n",
    "            A[k][n] -= A[k][i] * x[i]\n",
    "    return x"
   ]
  },
  {
   "cell_type": "code",
   "execution_count": 9,
   "metadata": {},
   "outputs": [
    {
     "data": {
      "text/plain": [
       "[1.0, 2.0, 3.0]"
      ]
     },
     "execution_count": 9,
     "metadata": {},
     "output_type": "execute_result"
    }
   ],
   "source": [
    "gauss_elimination(X)"
   ]
  },
  {
   "cell_type": "code",
   "execution_count": 10,
   "metadata": {},
   "outputs": [
    {
     "name": "stdout",
     "output_type": "stream",
     "text": [
      "96.9 µs ± 1.37 µs per loop (mean ± std. dev. of 7 runs, 10000 loops each)\n"
     ]
    }
   ],
   "source": [
    "%%timeit\n",
    "gauss_elimination(X)"
   ]
  },
  {
   "cell_type": "markdown",
   "metadata": {},
   "source": [
    "### LU分解：LU Decomposition\n",
    "\n",
    "LU stands for ‘Lower Upper’, and so an LU decomposition of a matrix A is a decomposition so that\n",
    "\n",
    "$$\n",
    "A = LU\n",
    "$$\n",
    "\n",
    "- 基本的にはGaussian elimination\n",
    "- 行列に特異性がない限り(経験的に)安定に解ける\n",
    "- A が正則 ⇒ A が適当な列変換により LU 分解可能\n",
    "- 一般の行列で次数が多くない場合には迷わず選択\n",
    "- 計算量はO(n^3)\n",
    "\n",
    "#### 処理方針\n",
    "\n",
    "1. 行列Aのほかに、単位行列Iを準備しこの行列をMとする\n",
    "2. AをGaussian eliminationすると同時に、それぞれの乗数 $m_{ik}$ を行列Mの(i, k)成分として記憶する\n",
    "3. アルゴリズムが終了したときのMをL, AをUとする\n"
   ]
  },
  {
   "cell_type": "code",
   "execution_count": 11,
   "metadata": {},
   "outputs": [
    {
     "name": "stdout",
     "output_type": "stream",
     "text": [
      "[[1 3 4]\n",
      " [2 1 3]\n",
      " [4 1 2]]\n",
      "[[4. 1. 2.]\n",
      " [1. 3. 4.]\n",
      " [2. 1. 3.]]\n",
      "[[1. 3. 4.]\n",
      " [2. 1. 3.]\n",
      " [4. 1. 2.]]\n"
     ]
    }
   ],
   "source": [
    "import scipy.linalg as la\n",
    "\n",
    "A = np.array([[1,3,4],[2,1,3],[4,1,2]])\n",
    "\n",
    "print(A)\n",
    "\n",
    "P, L, U = la.lu(A)\n",
    "print(L@U)\n",
    "print(P@L@U)"
   ]
  },
  {
   "cell_type": "code",
   "execution_count": 12,
   "metadata": {},
   "outputs": [
    {
     "name": "stdout",
     "output_type": "stream",
     "text": [
      "[[0. 1. 0.]\n",
      " [0. 0. 1.]\n",
      " [1. 0. 0.]]\n"
     ]
    }
   ],
   "source": [
    "print(P)"
   ]
  },
  {
   "cell_type": "code",
   "execution_count": 13,
   "metadata": {},
   "outputs": [
    {
     "name": "stdout",
     "output_type": "stream",
     "text": [
      "[[1.         0.         0.        ]\n",
      " [0.25       1.         0.        ]\n",
      " [0.5        0.18181818 1.        ]]\n"
     ]
    }
   ],
   "source": [
    "print(L)"
   ]
  },
  {
   "cell_type": "code",
   "execution_count": 14,
   "metadata": {},
   "outputs": [
    {
     "name": "stdout",
     "output_type": "stream",
     "text": [
      "[[4.         1.         2.        ]\n",
      " [0.         2.75       3.5       ]\n",
      " [0.         0.         1.36363636]]\n"
     ]
    }
   ],
   "source": [
    "print(U)"
   ]
  },
  {
   "cell_type": "markdown",
   "metadata": {},
   "source": [
    "### LU DecompositionのPsuedocode\n",
    "\n",
    "```\n",
    "[OUTPUT]\n",
    "    P : Permutation matrix\n",
    "    L : Lower triangular\n",
    "    U : Upper triangular\n",
    "\n",
    "[REMARK]\n",
    "    P @ L @ U = A\n",
    "    P @ A = L @ U\n",
    "\n",
    "function lu_decompose(A: matrix)\n",
    "    n = nrow(A)\n",
    "    P = indentity matrix, which is N times N\n",
    "    //row swap\n",
    "    for (i = 1; i <= n, i++) do\n",
    "         maxEl = |A[i,i]|\n",
    "         maxRow = i\n",
    "      \n",
    "         for (k = i + 1; k <= n; k++) dp\n",
    "             if |A[k, i]| > maxEl then\n",
    "                 maxEl = A[k, i]\n",
    "                 maxRow = k\n",
    "             end if\n",
    "         end for\n",
    "         \n",
    "         A[maxRow, :], A[i, :] = A[i, :], A[maxRow, :]\n",
    "         P[maxRow , i], P[i, i]  = 1, 0\n",
    "    end for\n",
    "    \n",
    "    L = I, which is N times N identity matrix\n",
    "    \n",
    "    for (i = 1; i <= n, i++) do\n",
    "        for (k = i + 1; k <= n; k++) do\n",
    "            m = A[k, i]/A[i, i]\n",
    "            A[k, :] = A[k, :] - A[i, :] * m\n",
    "            L[k, i] = m\n",
    "        end for\n",
    "    end for\n",
    "    \n",
    "    return P, L, A\n",
    "```"
   ]
  },
  {
   "cell_type": "code",
   "execution_count": 15,
   "metadata": {},
   "outputs": [],
   "source": [
    "def lu_decomposition(X):\n",
    "    A = X.copy()\n",
    "    n = A.shape[0]\n",
    "    P = np.identity(n)\n",
    "    L = np.identity(n)\n",
    "    \n",
    "    for i in range(n):\n",
    "        maxEl = abs(A[i, i])\n",
    "        maxRow = i\n",
    "        \n",
    "        for k in range(i+1, n):\n",
    "            if abs(A[k, i]) > maxEl:\n",
    "                maxEl = abs(A[k, i])\n",
    "                maxRow = k\n",
    "                \n",
    "        if i != maxRow:\n",
    "            P[i, i], P[i, maxRow], P[maxRow, i], P[maxRow, maxRow] = 0, 1, 1, 0\n",
    "            tmp = A[i, :].copy()\n",
    "            A[i, :] = A[maxRow, :]\n",
    "            A[maxRow, :] = tmp\n",
    "    for i in range(n):\n",
    "        for k in range(i + 1, n):\n",
    "            m = A[k, i]/A[i, i]\n",
    "            A[k, :] = A[k, :] - A[i, :] * m\n",
    "            L[k, i] = m\n",
    "        \n",
    "    \n",
    "    return P, L, A\n",
    "        "
   ]
  },
  {
   "cell_type": "markdown",
   "metadata": {},
   "source": [
    "### [例題3]\n",
    "\n",
    "$$\n",
    "A = \\left(\\begin{array}{ccc}\n",
    "2&2&6\\\\\n",
    "3&5&13\\\\\n",
    "5&8&24\n",
    "\\end{array}\\right)\n",
    "$$\n",
    "をLU分解せよ"
   ]
  },
  {
   "cell_type": "code",
   "execution_count": 16,
   "metadata": {},
   "outputs": [
    {
     "name": "stdout",
     "output_type": "stream",
     "text": [
      "[[ 1.   0.   0. ]\n",
      " [ 0.6  1.   0. ]\n",
      " [ 0.4 -6.   1. ]]\n",
      "[[  5.    8.   24. ]\n",
      " [  0.    0.2  -1.4]\n",
      " [  0.    0.  -12. ]]\n",
      "[[0. 0. 1.]\n",
      " [0. 1. 0.]\n",
      " [1. 0. 0.]]\n"
     ]
    }
   ],
   "source": [
    "A = np.array(([2., 2., 6.]\n",
    "             ,[3., 5., 13.]\n",
    "             ,[5., 8., 24.]))\n",
    "\n",
    "P, L, U = lu_decomposition(A)\n",
    "print(L)\n",
    "print(U)\n",
    "print(P)"
   ]
  },
  {
   "cell_type": "code",
   "execution_count": 17,
   "metadata": {},
   "outputs": [
    {
     "name": "stdout",
     "output_type": "stream",
     "text": [
      "[[ 2.  2.  6.]\n",
      " [ 3.  5. 13.]\n",
      " [ 5.  8. 24.]]\n"
     ]
    }
   ],
   "source": [
    "print(P @ L @ U)"
   ]
  },
  {
   "cell_type": "markdown",
   "metadata": {},
   "source": [
    "### LU分解アルゴリズムの正当性\n",
    "#### 定理\n",
    "\n",
    "入力Aに対するLU分解のアルゴリズムの出力がL, Uならば$LU = A$\n",
    "\n",
    "#### [証明]\n",
    "\n",
    "任意の計算状態$<M_t, A_t>$において$M_tA_t = A$であることを帰納法を用いて示す。\n",
    "\n",
    "$t = 0$のときは $M_0A_0 = IA = A$より自明。\n",
    "\n",
    "次に、帰納法の仮定\n",
    "$$\n",
    "M_t A_t = A\n",
    "$$\n",
    "\n",
    "のもとで\n",
    "\n",
    "$$\n",
    "M_{t+1} A_{t+1} = A\n",
    "$$\n",
    "\n",
    "を示す。\n",
    "\n",
    "第$t+1$ stepで掃き出すのが$A_t$の(i, k)成分であるので、アルゴリズムより$ i > k$, このときの乗数を$m_{ik}$とする。ここで単位行列の(i, k)成分をそれぞれ$m_{i,k}, -m_{i,k}$としたものをそれぞれS, Tとする。\n",
    "\n",
    "$$\n",
    "S = \\left(\\begin{array}{cccccc}\n",
    "1 & 0 & ...& ...& ...& 0\\\\\n",
    "0 & ... & ...& ...& ...& 0\\\\\n",
    "0 & ... & 1 & ... & ...& ...\\\\\n",
    "...& ... & ...& ...& ...& ...\\\\\n",
    "0 & ... & m_{ik}& ... & ...& ...\\\\\n",
    "0 & ... & ...& 0& ...& 1\n",
    "\\end{array}\\right)\n",
    "$$\n",
    "\n",
    "$$\n",
    "T = \\left(\\begin{array}{cccccc}\n",
    "1 & 0 & ...& ...& ...& 0\\\\\n",
    "0 & ... & ...& ...& ...& 0\\\\\n",
    "0 & ... & 1 & ... & ...& ...\\\\\n",
    "...& ... & ...& ...& ...& ...\\\\\n",
    "0 & ... & -m_{ik}& ... & ...& ...\\\\\n",
    "0 & ... & ...& 0& ...& 1\n",
    "\\end{array}\\right)\n",
    "$$\n",
    "\n",
    "このとき以下の性質を用いる\n",
    "\n",
    "1. $ST = I$\n",
    "2. Sを任意の行列Mの右から掛けると、Mの第i列の$m_{ik}$倍をMの第k列に加える操作に相当する\n",
    "\n",
    "よって\n",
    "$$\n",
    "\\begin{aligned}\n",
    "M_{t + 1} &= M_t S\\\\\n",
    "A_{t + 1} & = T A_t\n",
    "\\end{aligned}\n",
    "$$\n",
    "\n",
    "Then,\n",
    "\n",
    "$$\n",
    "M_{t + 1}A_{t + 1} = (M_t S)(T A_t) = M_t A_t = A\n",
    "$$\n",
    "\n",
    "よって任意のtについて$M_t A_t = A$. Then $LU = M_{T}A_{T} = A$ where T は最終ステップ。"
   ]
  },
  {
   "cell_type": "markdown",
   "metadata": {},
   "source": [
    "### LUx = bを解くアルゴリズム\n",
    "\n",
    "```\n",
    "[INPUT]\n",
    "    L, U: LU分解\n",
    "    B: 定数ベクトル\n",
    "    \n",
    "[OUTPUT]\n",
    "    x: solution\n",
    "    \n",
    "[PROCESS]\n",
    "    n = nrows(L)\n",
    "    (前進代入)\n",
    "        y = b\n",
    "        for (i = 1; i <= n; i++) do\n",
    "            for (j = 1; j <= n; j++) do\n",
    "                y[i] = y[i] - L[i, j] * y[j]\n",
    "            end for\n",
    "        end for\n",
    "    \n",
    "    {後退代入}\n",
    "        x = y\n",
    "        for (i = n; i >= 1; i--) do\n",
    "            for (j = i + 1; i <= n; i++) do\n",
    "                x[i] = x[i] - U[i, j] * x[j]\n",
    "            end for\n",
    "            x[i] = x[i]/U[i, i]\n",
    "        end for\n",
    "        \n",
    "```\n"
   ]
  },
  {
   "cell_type": "markdown",
   "metadata": {},
   "source": [
    "### [例題4] LU分解を用いて連立一次方程式を解く\n",
    "\n",
    "$$\n",
    "\\begin{aligned}\n",
    "2x + 2y + 6z &= 24 \\\\\n",
    "3x + 5y + 13z &= 52\\\\\n",
    "5x + 8y + 24z &= 93\n",
    "\\end{aligned}\n",
    "$$"
   ]
  },
  {
   "cell_type": "code",
   "execution_count": 18,
   "metadata": {},
   "outputs": [],
   "source": [
    "A = np.array(([2., 2., 6.] \n",
    "             ,[3., 5., 13.]\n",
    "             ,[5., 8., 24.]))\n",
    "b = np.array([24., 52., 93.])"
   ]
  },
  {
   "cell_type": "code",
   "execution_count": 19,
   "metadata": {},
   "outputs": [
    {
     "data": {
      "text/plain": [
       "array([[ 1.        ,  0.        ,  0.        ],\n",
       "       [ 0.4       ,  1.        ,  0.        ],\n",
       "       [ 0.6       , -0.16666667,  1.        ]])"
      ]
     },
     "execution_count": 19,
     "metadata": {},
     "output_type": "execute_result"
    }
   ],
   "source": [
    "P, L, U = lu(A)\n",
    "L"
   ]
  },
  {
   "cell_type": "code",
   "execution_count": 20,
   "metadata": {},
   "outputs": [],
   "source": [
    "def lu_linear_slove(P, L, U, b):\n",
    "    #前進代入\n",
    "    y = P @ b.copy()\n",
    "    n = len(b)\n",
    "    for i in range(n):\n",
    "        for j in range(i):\n",
    "            y[i] = y[i] - L[i, j] * y[j]\n",
    "            \n",
    "    #後退代入\n",
    "    for i in range(n-1, -1, -1):\n",
    "        for j in range(i + 1, n):\n",
    "            y[i] = y[i] - U[i, j] * y[j]\n",
    "        \n",
    "        y[i] = y[i]/U[i, i]\n",
    "    return y"
   ]
  },
  {
   "cell_type": "code",
   "execution_count": 21,
   "metadata": {},
   "outputs": [],
   "source": [
    "P, L, U = lu_decomposition(A)"
   ]
  },
  {
   "cell_type": "code",
   "execution_count": 22,
   "metadata": {},
   "outputs": [
    {
     "name": "stdout",
     "output_type": "stream",
     "text": [
      "[[ 1.   0.   0. ]\n",
      " [ 0.6  1.   0. ]\n",
      " [ 0.4 -6.   1. ]]\n"
     ]
    }
   ],
   "source": [
    "print(L)"
   ]
  },
  {
   "cell_type": "code",
   "execution_count": 23,
   "metadata": {},
   "outputs": [
    {
     "data": {
      "text/plain": [
       "array([1., 2., 3.])"
      ]
     },
     "execution_count": 23,
     "metadata": {},
     "output_type": "execute_result"
    }
   ],
   "source": [
    "lu_linear_slove(P, L, U, b)"
   ]
  },
  {
   "cell_type": "markdown",
   "metadata": {},
   "source": [
    "### [例題5] 連立方程式の利用\n",
    "\n",
    "A さんは午前 10 時に家を出発し，自転車に乗って時速 12km で走り， 午前 11 時 30 分に目的地に着く予定であった.ところが，途中で自転車が故障したので，そこからは時速 4km で歩いた.そのため，目的地に着いたのは出発してから 2時間後の正午であった.家から自転車が故障した地点までの道のりを求めなさい.\n",
    "\n",
    "#### 解答方針\n",
    "$$\n",
    "\\begin{aligned}\n",
    "12x + 4y & = 18\\\\ \n",
    "x + y & = 2\n",
    "\\end{aligned}\n",
    "$$"
   ]
  },
  {
   "cell_type": "code",
   "execution_count": 24,
   "metadata": {},
   "outputs": [
    {
     "name": "stdout",
     "output_type": "stream",
     "text": [
      "[18.  2.] [1.25, 0.7499999999999999]\n"
     ]
    }
   ],
   "source": [
    "A = np.array([[12., 4.], [1., 1.]])\n",
    "b = np.array([[12.0 * 1.5], [2.0]])\n",
    "\n",
    "x = gauss_elimination(np.hstack([A, b]))\n",
    "print(A @ x, x)"
   ]
  },
  {
   "cell_type": "markdown",
   "metadata": {},
   "source": [
    "### 逆行列の導出"
   ]
  },
  {
   "cell_type": "code",
   "execution_count": 25,
   "metadata": {},
   "outputs": [],
   "source": [
    "A = np.array([[2. , -1. , 0], [-1., 2., -1.], [0., -1., 2]])\n",
    "I = np.identity(3) \n",
    "inverse = gauss_jordan(np.hstack([A, I]), output_array = True)[:, 3:]"
   ]
  },
  {
   "cell_type": "code",
   "execution_count": 26,
   "metadata": {},
   "outputs": [
    {
     "data": {
      "text/plain": [
       "array([[0.75, 0.5 , 0.25],\n",
       "       [0.5 , 1.  , 0.5 ],\n",
       "       [0.25, 0.5 , 0.75]])"
      ]
     },
     "execution_count": 26,
     "metadata": {},
     "output_type": "execute_result"
    }
   ],
   "source": [
    "inverse"
   ]
  },
  {
   "cell_type": "code",
   "execution_count": 27,
   "metadata": {},
   "outputs": [
    {
     "data": {
      "text/plain": [
       "array([[0.75, 0.5 , 0.25],\n",
       "       [0.5 , 1.  , 0.5 ],\n",
       "       [0.25, 0.5 , 0.75]])"
      ]
     },
     "execution_count": 27,
     "metadata": {},
     "output_type": "execute_result"
    }
   ],
   "source": [
    "np.linalg.inv(A)"
   ]
  },
  {
   "cell_type": "markdown",
   "metadata": {},
   "source": [
    "数値計算的な立場からは、逆行列は追放されるべきで、それに代わってLU分解を活躍させるべきとされる。"
   ]
  },
  {
   "cell_type": "markdown",
   "metadata": {},
   "source": [
    "## 逆行列さようなら\n",
    "\n",
    "以下の線形方程式を解く場合\n",
    "\n",
    "$$\n",
    "Ax = b\n",
    "$$\n",
    "\n",
    "逆行列を用いて\n",
    "\n",
    "$$\n",
    "x = A^{-1}b\n",
    "$$\n",
    "\n",
    "と紹介されるが、計算回数が多くなってしまい、LU分解を用いて解くことを推奨される。"
   ]
  },
  {
   "cell_type": "code",
   "execution_count": 28,
   "metadata": {},
   "outputs": [],
   "source": [
    "def matrix_inv(X):\n",
    "    n = len(X)\n",
    "    A = X.copy()\n",
    "    for k in range(n):\n",
    "        w = 1/A[k, k] # n回の除算\n",
    "        A[k, k] = w\n",
    "        for j in range(n):\n",
    "            if j != k:\n",
    "                A[k, j] = w * A[k, j] #n(n-1)回の乗算\n",
    "        for i in range(n):\n",
    "            if i != k:\n",
    "                for j in range(n):\n",
    "                    if j != k:\n",
    "                        # n(n-1)^2回の減算と乗算\n",
    "                        A[i, j] = A[i, j] - A[i, k] * A[k, j]\n",
    "        for i in range(n):\n",
    "            if i != k:\n",
    "                # n(n-1)回の乗算\n",
    "                A[i, k] = - w * A[i, k]\n",
    "    return A"
   ]
  },
  {
   "cell_type": "markdown",
   "metadata": {},
   "source": [
    "逆行列を計算すると乗算が$n^3$, 減算が$n(n - 1)^2$回。さらに、$A^{-1}$とbの積の計算に乗算$n^2$, 加算$n(n-1)$が必要になる。"
   ]
  },
  {
   "cell_type": "code",
   "execution_count": 29,
   "metadata": {},
   "outputs": [
    {
     "data": {
      "text/plain": [
       "array([[0.75, 0.5 , 0.25],\n",
       "       [0.5 , 1.  , 0.5 ],\n",
       "       [0.25, 0.5 , 0.75]])"
      ]
     },
     "execution_count": 29,
     "metadata": {},
     "output_type": "execute_result"
    }
   ],
   "source": [
    "matrix_inv(A)"
   ]
  },
  {
   "cell_type": "markdown",
   "metadata": {},
   "source": [
    "### LU分解の計算回数\n",
    "\n",
    "```\n",
    "[INPUT]\n",
    "    n times n matrix\n",
    "\n",
    "[OUTPUT]\n",
    "    対角線喪服めちゃ右上算かく部分にU、左下部分にLの非対角非ゼロ要素が格納された行列を返す\n",
    "\n",
    "for k = 1 to n-1 do\n",
    "    w = 1/a[k,k] # n-1回\n",
    "    \n",
    "    for i = k+1 to n do\n",
    "         a[i,k] = w * a[i,k]　# \\sum_{i = i}^{n-1} i = n(n-1)/2\n",
    "         \n",
    "         for j = k+1 to n do\n",
    "             a[i,j] = a[i,j] - a[i,k]*a[k,j]  # \\sum^{n-1} i^2\\\n",
    "```\n",
    "\n",
    "乗除算は\n",
    "\n",
    "$$\n",
    "\\begin{aligned}\n",
    "(n-1) + \\sum_{i = 0}^{n-1} (n - i) +  \\sum_{i = 0}^{n-1} (n - i)^2 & = (n - 1) + n(n-1)/2 + \\sum^{n-1} i^2\\\\\n",
    "& = (n - 1)\\frac{3n + 6 + 2n^2 - n}{6}\\\\\n",
    "& = (n - 1)(n^2 + n + 3)/6\n",
    "\\end{aligned}\n",
    "$$ \n",
    "\n",
    "減算は同様に\n",
    "\n",
    "$$\n",
    "n(n - 1)(2n-1)/6\n",
    "$$"
   ]
  },
  {
   "cell_type": "code",
   "execution_count": 30,
   "metadata": {},
   "outputs": [],
   "source": [
    "def lu_simple(X):\n",
    "    A = X.copy()\n",
    "    n = len(A)\n",
    "    for k in range(n - 1):\n",
    "        w = 1/A[k, k]\n",
    "        \n",
    "        for i in range(k+1, n):\n",
    "            A[i,k] = w * A[i,k]\n",
    "            for j in range(k+1, n):\n",
    "                A[i,j] = A[i,j] - A[i,k]*A[k,j]\n",
    "    \n",
    "    return A"
   ]
  },
  {
   "cell_type": "code",
   "execution_count": 31,
   "metadata": {},
   "outputs": [
    {
     "data": {
      "text/plain": [
       "array([[ 2.        , -1.        ,  0.        ],\n",
       "       [-0.5       ,  1.5       , -1.        ],\n",
       "       [ 0.        , -0.66666667,  1.33333333]])"
      ]
     },
     "execution_count": 31,
     "metadata": {},
     "output_type": "execute_result"
    }
   ],
   "source": [
    "lu_simple(A)"
   ]
  },
  {
   "cell_type": "markdown",
   "metadata": {},
   "source": [
    "LU分解の演算回数と逆行列の演算回数を比較するとLU分解の方がおよそ1/3程度になることがわかる。また線形方程式の解を得る演算回数も逆行列をbに掛け合わせた時と同じ演算回数になることが知られている。よってLU分解を用いる方が良いとされる。"
   ]
  },
  {
   "cell_type": "markdown",
   "metadata": {},
   "source": [
    "## 行列式とLU\n",
    "\n",
    "$$\n",
    "\\text{det}(A) = \\text{det}(L)\\times \\text{det}(U)=\\text{det}(U)\n",
    "$$\n",
    "\n",
    "- Lは対角成分全部1なので行列式は1\n",
    "= $\\text{det}(U)$は対角成分の積で計算可能"
   ]
  },
  {
   "cell_type": "markdown",
   "metadata": {},
   "source": [
    "## 反復法\n",
    "\n",
    "次のような疎行列を考える\n",
    "\n",
    "$$\n",
    "A = \\begin{equation}\n",
    "\\begin{bmatrix}\n",
    "A_{-n,0}^{-n}  & A_{-n+1,-1}^{-n}  & 0 & \\cdots & \\cdots & \\cdots & \\cdots & 0 \\\\\n",
    "A_{-n,1}^{-n+1}  & A_{-n+1,0}^{-n+1}  & A_{-n+2,-1}^{-n+1}  & \\ddots & && & \\vdots \\\\\n",
    "0 & A_{-n+1,1}^{-n+2}  & A_{-n+2,0}^{-n+2} & A_{-n+3,-1}^{-n+2}  & \\ddots & &  & \\vdots \\\\\n",
    "\\vdots & \\ddots & \\ddots & \\ddots & \\ddots & \\ddots &  & \\vdots \\\\\n",
    "\\vdots & & \\ddots & \\ddots & \\ddots & \\ddots & \\ddots& \\vdots\\\\\n",
    "\\vdots  & & & \\ddots & A_{n-3,1}^{n-2}  & A_{n-2,0}^{n-2}  &  A_{n-1,-1}^{n-2}  & 0\\\\\n",
    "\\vdots  & && & \\ddots & A_{n-2,1}^{n-1}  & A_{n-1,0}^{n-1}  &  A_{n,-1}^{n-1}\\\\\n",
    "0 & \\cdots &  \\cdots & \\cdots & \\cdots & 0 & A_{n-1,1}^{n}  & A_{n,0}^{n}  \\\\\n",
    "\\end{bmatrix}\n",
    "\\end{equation}\n",
    "$$\n",
    "\n",
    "non-zero成分が対角線付近にだけ存在する特徴的な形をしているこのような行列は帯行列と呼ばれている。隣接した未知数の間だけで直接の相互作用があるような現象をモデルかするとよく生じる。このような行列を用いた線形方程式を解く場合、反復法の利用を検討するのが良いとされる。\n",
    "\n",
    "### 反復法の原理\n",
    "\n",
    "$\\mathbf x_{k+1} = B\\mathbf x_{k+1} + \\mathbf c $から生成されるベクトル列があるベクトル$\\alpha$に収束すれば、$\\alpha$は$\\mathbf x = B\\mathbf x + \\mathbf c $の解である。\n",
    "\n",
    "### アルゴリズム\n",
    "\n",
    "- ヤコビ法\n",
    "- ガウス・ザイデル法\n",
    "- SOR法\n"
   ]
  },
  {
   "cell_type": "markdown",
   "metadata": {},
   "source": [
    "### ヤコビ法\n",
    "\n",
    "- A: $n\\times n$ matrix\n",
    "- x: solution n vector\n",
    "- b: n vector\n",
    "\n",
    "\n",
    "$A\\mathbf x = \\mathbf b$\n",
    "\n",
    "次にAを次のようにdecompositionする：\n",
    "\n",
    "$$\n",
    "A = D + R  \\  \\  \\  \\ \\text{ where } \\  \\  D = \\begin{equation}\n",
    "\\begin{bmatrix}\n",
    "A_{-n,0}^{-n}  & 0  & 0 & \\cdots & \\cdots & \\cdots & \\cdots & 0 \\\\\n",
    "0  & A_{-n+1,0}^{-n+1}  & 0  & \\ddots & && & \\vdots \\\\\n",
    "0 & 0  & A_{-n+1,1}^{-n+1} & \\cdots  & \\ddots & &  & \\vdots \\\\\n",
    "\\vdots & \\ddots & \\ddots & \\ddots & \\ddots & \\ddots &  & \\vdots \\\\\n",
    "\\vdots & & \\ddots & \\ddots & \\ddots & \\ddots & \\ddots& \\vdots\\\\\n",
    "\\vdots  & & & \\ddots & 0  & A_{n-2,0}^{n-2}  &  0  & 0\\\\\n",
    "\\vdots  & && & \\ddots & 0  & A_{n,-1}^{n-1}&0\\\\\n",
    "0 & \\cdots &  \\cdots & \\cdots & \\cdots & 0 &0  & A_{n,0}^{n} \\\\\n",
    "\\end{bmatrix}\n",
    "\\end{equation}, \\  \\ \\text{R は Aの対角要素以外の要素が格納された行列}\n",
    "$$\n",
    "\n",
    "### update rule: vector-based\n",
    "\n",
    "$$\n",
    "\\mathbf x^{(k+1)} = D^{-1}(\\mathbf b- R\\mathbf x^{(k)})\n",
    "$$\n",
    "\n",
    "### update rule: The element-based formula\n",
    "\n",
    "$$\n",
    "x_i^{(k+1)} = \\frac{1}{a_{ii}}\\left(b_i - \\sum_{j\\neq i}a_{ij}x_j^{(k)}\\right)\n",
    "$$\n",
    "\n"
   ]
  },
  {
   "cell_type": "markdown",
   "metadata": {},
   "source": [
    "### Jacobi algorithm\n",
    "\n",
    "```\n",
    "[INPUT]\n",
    "    x0: initial guess to the solution\n",
    "    A: matrix\n",
    "    eps: convergence criterion\n",
    "    max_counter: max number of iteration\n",
    "    \n",
    "[OUTPUT] \n",
    "    solution when convergence is reached\n",
    "    \n",
    "[ALGORITHM]\n",
    "    n = len(A)\n",
    "    diag = diag(A) # extract A diag element\n",
    "    for i = 1 to n:\n",
    "        diag[i] = 1/diag[i]\n",
    "    D = n Identity matrix @ diag\n",
    "    R = A - D\n",
    "    counter = 0\n",
    "    \n",
    "    x_updated = D @ (b - R @ x_0)\n",
    "    \n",
    "    while abs(x0 - x_updated) > eps & counter < max_counter:\n",
    "        x_0 = x_updated\n",
    "        x_updated = D @ (b - R @ x_0)\n",
    "        counter += 1\n",
    "    \n",
    "    return x_updated\n",
    "```\n",
    "\n",
    "### REMARK\n",
    "\n",
    "- 並列代入法\n"
   ]
  },
  {
   "cell_type": "code",
   "execution_count": 32,
   "metadata": {},
   "outputs": [],
   "source": [
    "def jacobi_alg(A, b, x0, eps = 1e-7, max_counter = 5000):\n",
    "    n = len(A)\n",
    "    counter = 0\n",
    "    \n",
    "    diag = np.diag(A)\n",
    "    R = A - np.diag(diag)\n",
    "    diag = np.array([1/i for i in diag])\n",
    "    \n",
    "    D = np.diag(diag)\n",
    "    \n",
    "    x1 = D @ (b - R @ x0)\n",
    "    \n",
    "    #while (max(abs(x0 - x1)) > eps) & (counter < max_counter):\n",
    "    while ~(np.allclose(x0, x1, atol = eps)) & (counter < max_counter):\n",
    "        x0 = x1\n",
    "        x1 = D @ (b - R @ x0)\n",
    "        counter += 1\n",
    "        \n",
    "    return x1"
   ]
  },
  {
   "cell_type": "markdown",
   "metadata": {},
   "source": [
    "Test"
   ]
  },
  {
   "cell_type": "code",
   "execution_count": 33,
   "metadata": {},
   "outputs": [
    {
     "data": {
      "text/plain": [
       "array([ 7.11108566, -3.22216959])"
      ]
     },
     "execution_count": 33,
     "metadata": {},
     "output_type": "execute_result"
    }
   ],
   "source": [
    "A = np.array([[2., 1.], [5., 7.]], dtype=float)\n",
    "b = np.array([11., 13.])\n",
    "x0 =  np.array([1., 1.])\n",
    "\n",
    "jacobi_alg(A = A, b = b, x0 = x0)"
   ]
  },
  {
   "cell_type": "markdown",
   "metadata": {},
   "source": [
    "## ガウス・ザイデル法\n",
    "\n",
    "- 逐次代入法でとくJocibi method\n",
    "\n",
    "$$\n",
    "{{x}_{i}}^{\\left( k+1 \\right)}=\\frac{1}{{{a}_{ii}}}\\left( {{b}_{i}}-\\sum\\limits_{j=1}^{i-1}{{{a}_{ij}}{{x}_{j}}^{\\left( k+1 \\right)}-\\sum\\limits_{j=i+1}^{n}{{{a}_{ij}}{{x}_{j}}^{\\left( k \\right)}}} \\right)\n",
    "$$"
   ]
  },
  {
   "cell_type": "code",
   "execution_count": 34,
   "metadata": {},
   "outputs": [],
   "source": [
    "def seidel(A, x0, b, eps = 1e-7, max_counter = 5000):\n",
    "    n = len(A)\n",
    "    d = b.copy()\n",
    "    counter = 0\n",
    "    x1 = x0.copy()\n",
    "    while counter < max_counter:\n",
    "        for i in range(n):\n",
    "            tmp = 0\n",
    "            for j in range(i):\n",
    "                tmp += A[i,j]*x1[j]\n",
    "            \n",
    "            for k in range(i+1, n):\n",
    "                tmp += A[i, k]*x1[k]\n",
    "            \n",
    "            x1[i] = (b[i] - tmp)/A[i, i]\n",
    "        \n",
    "        if np.allclose(x0, x1, atol = eps):\n",
    "            break\n",
    "        x0 = x1.copy()\n",
    "        counter += 1\n",
    "    \n",
    "    return x1"
   ]
  },
  {
   "cell_type": "markdown",
   "metadata": {},
   "source": [
    "test"
   ]
  },
  {
   "cell_type": "code",
   "execution_count": 35,
   "metadata": {},
   "outputs": [
    {
     "data": {
      "text/plain": [
       "array([ 7.11110202, -3.22221573])"
      ]
     },
     "execution_count": 35,
     "metadata": {},
     "output_type": "execute_result"
    }
   ],
   "source": [
    "A = np.array([[2., 1.], [5., 7.]], dtype=float)\n",
    "b = np.array([11., 13.])\n",
    "x0 =  np.array([1., 1.])\n",
    "seidel(A = A, b = b, x0 = x0)"
   ]
  },
  {
   "cell_type": "markdown",
   "metadata": {},
   "source": [
    "### Jacobi methodとgauss-seidel methodの処理時間の比較"
   ]
  },
  {
   "cell_type": "code",
   "execution_count": 36,
   "metadata": {},
   "outputs": [
    {
     "name": "stdout",
     "output_type": "stream",
     "text": [
      "882 µs ± 37.4 µs per loop (mean ± std. dev. of 7 runs, 1000 loops each)\n"
     ]
    }
   ],
   "source": [
    "%%timeit\n",
    "\n",
    "A = np.array([[2., 1.], [5., 7.]], dtype=float)\n",
    "b = np.array([11., 13.])\n",
    "x0 =  np.array([1., 1.])\n",
    "seidel(A = A, b = b, x0 = x0)"
   ]
  },
  {
   "cell_type": "code",
   "execution_count": 37,
   "metadata": {},
   "outputs": [
    {
     "name": "stdout",
     "output_type": "stream",
     "text": [
      "1.01 ms ± 188 µs per loop (mean ± std. dev. of 7 runs, 1000 loops each)\n"
     ]
    }
   ],
   "source": [
    "%%timeit\n",
    "\n",
    "A = np.array([[2., 1.], [5., 7.]], dtype=float)\n",
    "b = np.array([11., 13.])\n",
    "x0 =  np.array([1., 1.])\n",
    "jacobi_alg(A = A, b = b, x0 = x0)"
   ]
  },
  {
   "cell_type": "markdown",
   "metadata": {},
   "source": [
    "## SOR法\n",
    "\n",
    "Gasuu-seidel法での本来の修正量に1より大きい加速パラメータ$w$を掛けて、過剰に修正することで、収束をより速くしようとする方法\n",
    "\n",
    "### update rule\n",
    "\n",
    "$$\n",
    "\\begin{align}\n",
    "  &x_i^{m+1}=x_i^m+\\delta x_i\n",
    "\\tag{1}\\\\ \n",
    "  &\\delta x_i=\\frac{\\omega}{a_{ii}}\n",
    "    \\left[b_i-\\left(\\sum^{i-1}_{k=1}a_{ik}x^{m+1}_k+\\sum^n_{k=1}a_{ik}x^m_k\\right)\\right],\\ \n",
    "    i=1,2,\\dots,n,\n",
    "\\tag{2}\n",
    "\\end{align}\n",
    "$$\n",
    "\n",
    "### optimal relaxation parameter\n",
    "\n",
    "- $w \\in (1, 2)$, 典型的には1.9が選択される\n",
    "- ヤコビ法の反復行列のスペクトル半径$\\rho$が既知のときは\n",
    "\n",
    "$$\n",
    "\\begin{equation}\n",
    "\\omega = \\frac{2}{1+\\sqrt{1-\\rho_{jacobi}^2}} \\nonumber\n",
    "\\end{equation}\n",
    "$$"
   ]
  },
  {
   "cell_type": "markdown",
   "metadata": {},
   "source": [
    "## 幾何学的解釈"
   ]
  },
  {
   "cell_type": "markdown",
   "metadata": {},
   "source": [
    "<img src = \"https://github.com/RyoNakagami/omorikaizuka/blob/master/algorithm/geometric_visual.jpg?raw=true\">"
   ]
  },
  {
   "cell_type": "markdown",
   "metadata": {},
   "source": [
    "<img src = \"https://github.com/RyoNakagami/omorikaizuka/blob/master/algorithm/jacobi_alg.jpg?raw=true\">"
   ]
  },
  {
   "cell_type": "markdown",
   "metadata": {},
   "source": [
    "<img src = \"https://github.com/RyoNakagami/omorikaizuka/blob/master/algorithm/seidel_alg.jpg?raw=true\">"
   ]
  },
  {
   "cell_type": "markdown",
   "metadata": {},
   "source": [
    "### 反復法の収束の必要十分条件\n",
    "\n",
    "反復法$\\mathbf x_{k+1} = B \\mathbf x_{k} + c$が、任意の初期ベクトル$\\mathbf x_0$に対して真の解に収束するための必要十分条件は、行列$B$の全ての固有値の絶対値が1より小さいことである。"
   ]
  },
  {
   "cell_type": "markdown",
   "metadata": {},
   "source": [
    "## 固有値の計算\n",
    "\n",
    "n次正方行列Aの固有値$\\lambda$とそれに対応する固有ベクトル$\\mathbf u$は\n",
    "\n",
    "$$\n",
    "A\\mathbf u = \\lambda \\mathbf u\n",
    "$$\n",
    "\n",
    "を満たす非零ベクトル$\\mathbf u$のことである。\n",
    "\n",
    "固有値の求め方は\n",
    "\n",
    "$$\n",
    "\\phi(\\lambda) = det(A - \\lambda I) =0\n",
    "$$\n",
    "\n",
    "固有ベクトルの求め方は\n",
    "\n",
    "$$\n",
    "(A - \\lambda I)\\mathbf u = 0\n",
    "$$\n",
    "\n",
    "### 固有値を数値計算するポイント\n",
    "\n",
    "- 行列Aを取り扱いやすい形に相似変換する\n",
    "- QR法で固有値、固有ベクトルを求める\n",
    "- 減次: 固有値・固有ベクトルが１組得られたのちに、問題を残りの固有値・固有ベクトルを求める問題に縮小すること\n",
    "- 原点移動 ：$A$と$A - \\mu I$は同一の固有ベクトルを持つことを利用\n",
    "- 逆反復：より良い近似解を求める手法\n",
    "\n",
    "### 固有値問題の解きやすさ\n",
    "\n",
    "- 実対称行列\n",
    "- 固有値の絶対値が互いに離れている\n",
    "- 固有値が単純（多重固有値がない）\n",
    "- 対角化可能行列\n",
    "\n",
    "### REMARK\n",
    "\n",
    "- 固有値計算はpackageを使うこと\n",
    "- `numpy.linalg.eig`\n"
   ]
  },
  {
   "cell_type": "markdown",
   "metadata": {},
   "source": [
    "## 演習\n",
    "### [1]\n",
    "\n",
    "掃出し方を用いて、次の連立一次方程式を解け\n",
    "\n",
    "$$\n",
    "\\begin{aligned}\n",
    "3x - 3z & = 6\\\\\n",
    "4x + y & = 4\\\\\n",
    "-x + y + 2z &= -3\n",
    "\\end{aligned}\n",
    "$$"
   ]
  },
  {
   "cell_type": "code",
   "execution_count": 38,
   "metadata": {},
   "outputs": [
    {
     "data": {
      "text/plain": [
       "array([[ 1,  0,  0,  1],\n",
       "       [ 0,  1,  0,  0],\n",
       "       [ 0,  0,  1, -1]])"
      ]
     },
     "execution_count": 38,
     "metadata": {},
     "output_type": "execute_result"
    }
   ],
   "source": [
    "X = np.array(([3, 0, -3, 6] \n",
    "             ,[4, 1, 0, 4]\n",
    "             ,[-1, 1, 2, -3]))\n",
    "gauss_jordan(X, output_array = True)"
   ]
  },
  {
   "cell_type": "markdown",
   "metadata": {},
   "source": [
    "### [2]\n",
    "\n",
    "\n",
    "掃出し方を用いて、次の連立一次方程式を解け\n",
    "\n",
    "$$\n",
    "\\begin{aligned}\n",
    "-2x + 2y & = 0\\\\\n",
    "3x - 3y &+ z = 1\\\\\n",
    "2x + y + 6z &= 9\n",
    "\\end{aligned}\n",
    "$$\n"
   ]
  },
  {
   "cell_type": "code",
   "execution_count": 39,
   "metadata": {},
   "outputs": [
    {
     "data": {
      "text/plain": [
       "array([[1, 0, 0, 1],\n",
       "       [0, 1, 0, 1],\n",
       "       [0, 0, 1, 1]])"
      ]
     },
     "execution_count": 39,
     "metadata": {},
     "output_type": "execute_result"
    }
   ],
   "source": [
    "X = np.array(([2, 1, 6, 9]\n",
    "             ,[-2, 2, 0, 0]\n",
    "             ,[3, -3, 1, 1] \n",
    "             ))\n",
    "gauss_jordan(X, output_array = True)"
   ]
  },
  {
   "cell_type": "markdown",
   "metadata": {},
   "source": [
    "### [3] 行列式とLU分解\n",
    "\n",
    "$$\n",
    "A = \\left(\\begin{array}{ccc}\n",
    "1 & 0 & 1\\\\\n",
    "2 & 1 & 1\\\\\n",
    "3 & 4 & 1\n",
    "\\end{array}\\right)\n",
    "$$\n",
    "\n",
    "をLU分解し、行列式を求めよ"
   ]
  },
  {
   "cell_type": "code",
   "execution_count": 40,
   "metadata": {},
   "outputs": [
    {
     "data": {
      "text/plain": [
       "2.0"
      ]
     },
     "execution_count": 40,
     "metadata": {},
     "output_type": "execute_result"
    }
   ],
   "source": [
    "A = np.array([[1, 0, 1]\n",
    "             ,[2, 1, 1]\n",
    "             ,[3, 4, 1]], dtype = float)\n",
    "\n",
    "\n",
    "P, L, U = lu_decomposition(A)\n",
    "np.linalg.det(P) * np.product(np.diag(U))"
   ]
  },
  {
   "cell_type": "code",
   "execution_count": null,
   "metadata": {},
   "outputs": [],
   "source": []
  },
  {
   "cell_type": "code",
   "execution_count": null,
   "metadata": {},
   "outputs": [],
   "source": []
  }
 ],
 "metadata": {
  "kernelspec": {
   "display_name": "Python 3",
   "language": "python",
   "name": "python3"
  },
  "language_info": {
   "codemirror_mode": {
    "name": "ipython",
    "version": 3
   },
   "file_extension": ".py",
   "mimetype": "text/x-python",
   "name": "python",
   "nbconvert_exporter": "python",
   "pygments_lexer": "ipython3",
   "version": "3.7.4"
  }
 },
 "nbformat": 4,
 "nbformat_minor": 4
}
