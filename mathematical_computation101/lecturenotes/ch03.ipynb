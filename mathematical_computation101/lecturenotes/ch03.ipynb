{
 "cells": [
  {
   "cell_type": "markdown",
   "metadata": {},
   "source": [
    "# 3. 連立一次方程式\n",
    "### 概要\n",
    "\n",
    "- 連立一次方程式の解法は二つに分類できる\n",
    "- 消去法（LU分解）\n",
    "- 反復法\n",
    "\n",
    "### key-words\n",
    "\n",
    "- 吐き出し法\n",
    "- ガウスの消去法\n",
    "- LU分解\n",
    "- 逆行列\n",
    "- ガウス・ザイデル法\n",
    "- SOR法\n"
   ]
  },
  {
   "cell_type": "code",
   "execution_count": 2,
   "metadata": {},
   "outputs": [
    {
     "name": "stdout",
     "output_type": "stream",
     "text": [
      "Python 3.7.4\n"
     ]
    }
   ],
   "source": [
    "!python -V"
   ]
  },
  {
   "cell_type": "markdown",
   "metadata": {},
   "source": [
    "Import"
   ]
  },
  {
   "cell_type": "code",
   "execution_count": 4,
   "metadata": {},
   "outputs": [],
   "source": [
    "import numpy as np\n",
    "import matplotlib.pyplot as plt"
   ]
  },
  {
   "cell_type": "markdown",
   "metadata": {},
   "source": [
    "### 注意\n",
    "\n",
    "- numpyを用いた行列表現はarrayを使用する\n",
    "- `*`演算をするとアダマール積になるが`@`を用いることで通常の行列の積の実行結果を得ることができる\n",
    "- Scipy.orgにおける`numpy.matrix` documentにも`Note　It is no longer recommended to use this class, even for linear algebra. Instead use regular arrays. The class may be removed in the future.`とのこと"
   ]
  },
  {
   "cell_type": "markdown",
   "metadata": {},
   "source": [
    "### 吐き出し法\n",
    "\n",
    "次のルールを使って、未知数を一つずつ消していく手法\n",
    "\n",
    "$$\n",
    "\\begin{aligned}\n",
    "2x + 2y + 6z &= 24 \\\\\n",
    "3x + 5y + 13z &= 52\\\\\n",
    "5x + 8y + 24z &= 93\n",
    "\\end{aligned}\n",
    "$$\n",
    "を考えるとき、次の二元配列（行列）に変換する\n",
    "\n",
    "$$\n",
    "\\left(\n",
    "\\begin{array}{cccc}\n",
    "2 & 2 & 6 & 24 \\\\\n",
    "3 & 5 & 13 & 52\\\\\n",
    "5 & 8& 24 & 93\n",
    "\\end{array}\n",
    "\\right)\n",
    "$$\n",
    "\n",
    "- ある行をその行に対応するピボット（対角成分）で割る\n",
    "- ある行から他の行の定数倍を引く\n",
    "- ある行と他の行を入れ替える\n",
    "\n",
    "#### Pseudocode\n",
    "\n",
    "```\n",
    "1. Start\n",
    "\n",
    "2. Input the Augmented Coefficients Matrix (A):\n",
    "\t\n",
    "\tFor i = 1 to n\n",
    "\t\t\n",
    "\t\tFor j = 1 to n+1\n",
    "\t\t\t\n",
    "\t\t\tRead Ai,j\n",
    "\t\t\n",
    "\t\tNext j\n",
    "\t\n",
    "\tNext i\n",
    "\n",
    "3. Apply Gauss Jordan Elimination on Matrix A:\n",
    "\t\n",
    "\tFor i = 1 to n\n",
    "\t\t\n",
    "\t\tIf Ai,i = 0\n",
    "\t\t\t\n",
    "\t\t\tPrint \"Mathematical Error!\"\n",
    "\t\t\tStop\n",
    "\t\t\n",
    "\t\tEnd If\n",
    "\t\t\n",
    "\t\tFor j = 1 to n\n",
    "\t\t\t\n",
    "\t\t\tIf i ≠ j \n",
    "\t\t\t\t\n",
    "\t\t\t\tRatio = Aj,i/Ai,i\n",
    "\t\t\t\t\n",
    "\t\t\t\tFor k = 1 to n+1\n",
    "\t\t\t\t\n",
    "\t\t\t\t\tAj,k = Aj,k - Ratio * Ai,k\n",
    "\t\t\t\n",
    "\t\t\t\tNext k\n",
    "\t\t\t\t\n",
    "\t\t\tEnd If\n",
    "\t\t\t\n",
    "\t\tNext j\n",
    "\tNext i\n",
    "\n",
    "4. Obtaining Solution:\n",
    "\t\n",
    "\tFor i = 1 to n \n",
    "\t\tXi = Ai,n+1/Ai,i\n",
    "\tNext i\n",
    "\n",
    "5. Display Solution:\n",
    "\t\n",
    "\tFor i = 1 to n\n",
    "\t\t\n",
    "\t\tPrint Xi\n",
    "\t\n",
    "\tNext i\n",
    "\n",
    "6. Stop\n",
    "\n",
    "\n",
    "---------------\n",
    "Note: All array indexes are assumed to start from 1.\n",
    "```\n"
   ]
  },
  {
   "cell_type": "markdown",
   "metadata": {},
   "source": [
    "### [例題1]\n",
    "\n",
    "$$\n",
    "\\begin{aligned}\n",
    "2x + 2y + 6z &= 24 \\\\\n",
    "3x + 5y + 13z &= 52\\\\\n",
    "5x + 8y + 24z &= 93\n",
    "\\end{aligned}\n",
    "$$\n",
    "\n",
    "を解け\n"
   ]
  },
  {
   "cell_type": "code",
   "execution_count": 86,
   "metadata": {},
   "outputs": [],
   "source": [
    "def gauss_jordan(A, output_array = None):\n",
    "    n, m = A.shape\n",
    "    for i in range(n):\n",
    "        if A[i, i] == 0:\n",
    "            raise ValueError('{}-th pivot is zero'.format(i))\n",
    "        \n",
    "        A[i, :] = A[i, :]/A[i,i]\n",
    "        \n",
    "        for j in range(n):\n",
    "            if i != j:\n",
    "                A[j, :] = A[j, :] - A[j,i] * A[i, :]\n",
    "    if output_array:\n",
    "        return A\n",
    "    return A[:, -1]\n",
    "                "
   ]
  },
  {
   "cell_type": "code",
   "execution_count": 92,
   "metadata": {},
   "outputs": [
    {
     "data": {
      "text/plain": [
       "array([[1, 0, 0, 1],\n",
       "       [0, 1, 0, 2],\n",
       "       [0, 0, 1, 3]])"
      ]
     },
     "execution_count": 92,
     "metadata": {},
     "output_type": "execute_result"
    }
   ],
   "source": [
    "X = np.array(([2, 2, 6, 24] \n",
    "             ,[3, 5, 13, 52]\n",
    "             ,[5, 8, 24, 93]))\n",
    "gauss_jordan(X, output_array = True)"
   ]
  },
  {
   "cell_type": "code",
   "execution_count": 97,
   "metadata": {},
   "outputs": [
    {
     "name": "stdout",
     "output_type": "stream",
     "text": [
      "46.3 µs ± 12.1 µs per loop (mean ± std. dev. of 7 runs, 10000 loops each)\n"
     ]
    }
   ],
   "source": [
    "%%timeit\n",
    "gauss_jordan(X)"
   ]
  },
  {
   "cell_type": "code",
   "execution_count": 94,
   "metadata": {},
   "outputs": [],
   "source": [
    "A, b = X[:, :-1], X[:, -1]"
   ]
  },
  {
   "cell_type": "code",
   "execution_count": 95,
   "metadata": {},
   "outputs": [
    {
     "name": "stdout",
     "output_type": "stream",
     "text": [
      "17.2 µs ± 4.41 µs per loop (mean ± std. dev. of 7 runs, 100000 loops each)\n"
     ]
    }
   ],
   "source": [
    "%%timeit\n",
    "np.linalg.solve(A, b)"
   ]
  },
  {
   "cell_type": "markdown",
   "metadata": {},
   "source": [
    "- 自作コードは`for loop`をネストで使用しているため、計算時間がとんでもなく遅いことに留意"
   ]
  },
  {
   "cell_type": "markdown",
   "metadata": {},
   "source": [
    "### ガウスの消去法: Gauss Elimination Method\n",
    "\n",
    "- 計算時間が短いので広く利用されている\n",
    "- ガウスの消去法は前進消去（文字を1つずつ消していく操作）と後退代入（1成分ずつ答えを求めていく操作）からなる\n",
    "\n",
    "#### 前進消去法のゴール\n",
    "\n",
    "$$\n",
    "\\left(\n",
    "\\begin{array}{cccc}\n",
    "u_{11} & u_{12} & u_{13} & b_1 \\\\\n",
    "0 & u_{22} & u_{23} & b_2\\\\\n",
    "0 & 0 & u_{33} & b_3\n",
    "\\end{array}\n",
    "\\right)\n",
    "$$\n",
    "\n",
    "- 後退代入は後ろの式から順番にたどっていき，一つずつ変数の値を求めていくだけ\n",
    "\n",
    "#### ガウス消去法のアルゴリズム\n",
    "\n",
    "```\n",
    "[INPUT]\n",
    "    A = (a[i,j]): 係数行列(n次の正方行列)\n",
    "    b = (b[i]): 定数ベクトル\n",
    "    \n",
    "[OUTPUT]\n",
    "    x: 解ベクトル\n",
    "    \n",
    "[PROCESS]\n",
    "    (前進消去法)\n",
    "        各列k = 1, ..., n-1について次の処理を反復する\n",
    "        (k列の吐き出し)\n",
    "            各行 i = k+1, ..., nについて次の処理を反復する\n",
    "            (a[i,k]の掃き出し)\n",
    "                pivot = a[k,k]\n",
    "                ratio = a[i,k]/pivot\n",
    "                for (j == k+1, j<= n, j++):\n",
    "                    a[i,j] = a[i,j] - a[k, j] * ratio\n",
    "                b[i] = b[i] - b[k]*ratio\n",
    "     \n",
    "     (後退代入)\n",
    "         for (k = n, k >= 1, k--):\n",
    "             x[k] = b[k]\n",
    "             for (j == k+1, j<= n, j++):\n",
    "                 x[k] = x[k] - a[k,j]*x[j]\n",
    "             \n",
    "             x[k] = x[k]/a[k,k]\n",
    "```\n",
    "\n",
    "\n",
    "\n",
    "#### Pseudocode for Gauss Elimination Method\n",
    "\n",
    "<img src = \"https://github.com/RyoNakagami/omorikaizuka/blob/master/pseudocode/gauss_elimination.jpg?raw=true\">"
   ]
  },
  {
   "cell_type": "markdown",
   "metadata": {},
   "source": [
    "- Psuedocodeの`maxEl`はpivot == 0に起因する計算エラーを防ぐために実施している\n",
    "- 絶対値が大きいpivotを探し出し、スイッチしている（ピボット選択 or 部分ピボット選択という）\n",
    "- pivotの絶対値はスケールに依存するので、通常は各行の絶対値最大の要素でその行の要素を割るというスケーリング前処理をする"
   ]
  },
  {
   "cell_type": "markdown",
   "metadata": {},
   "source": [
    "### [例題2]\n",
    "ガウスの消去法を用いて、次の連立一次方程式を解け\n",
    "\n",
    "$$\n",
    "\\begin{aligned}\n",
    "2x + 2y + 6z &= 24 \\\\\n",
    "3x + 5y + 13z &= 52\\\\\n",
    "5x + 8y + 24z &= 93\n",
    "\\end{aligned}\n",
    "$$"
   ]
  },
  {
   "cell_type": "code",
   "execution_count": 245,
   "metadata": {},
   "outputs": [],
   "source": [
    "def gauss_elimination(X):\n",
    "    A = X.copy()\n",
    "    n, m = A.shape\n",
    "    for i in range(0, n):\n",
    "        # Search for maximum \n",
    "        maxEl = abs(A[i][i])\n",
    "        maxRow = i\n",
    "        for k in range(i+1, n):\n",
    "            if abs(A[k][i]) > maxEl:\n",
    "                maxEl = abs(A[k][i])\n",
    "                maxRow = k\n",
    "\n",
    "        if i != maxRow:\n",
    "            tmp = A[i, :].copy()\n",
    "            A[i, :] = A[maxRow, :]\n",
    "            A[maxRow, :] = tmp\n",
    "\n",
    "\n",
    "        # 対角成分以下をゼロ\n",
    "        for k in range(i+1, n):\n",
    "            c = -A[k][i]/A[i][i]\n",
    "            for j in range(i, n+1):\n",
    "                if i == j:\n",
    "                    A[k][j] = 0\n",
    "                else:\n",
    "                    A[k][j] += c * A[i][j]\n",
    "\n",
    "    # Solve equation Ax=b\n",
    "    x = [0 for i in range(n)]\n",
    "    for i in range(n-1, -1, -1):\n",
    "        x[i] = A[i][n]/A[i][i]\n",
    "        for k in range(i-1, -1, -1):\n",
    "            A[k][n] -= A[k][i] * x[i]\n",
    "    return x"
   ]
  },
  {
   "cell_type": "code",
   "execution_count": 246,
   "metadata": {},
   "outputs": [
    {
     "data": {
      "text/plain": [
       "[1.0, 2.0, 3.0]"
      ]
     },
     "execution_count": 246,
     "metadata": {},
     "output_type": "execute_result"
    }
   ],
   "source": [
    "gauss_elimination(X)"
   ]
  },
  {
   "cell_type": "code",
   "execution_count": 247,
   "metadata": {},
   "outputs": [
    {
     "name": "stdout",
     "output_type": "stream",
     "text": [
      "70.1 µs ± 2.13 µs per loop (mean ± std. dev. of 7 runs, 10000 loops each)\n"
     ]
    }
   ],
   "source": [
    "%%timeit\n",
    "gauss_elimination(X)"
   ]
  },
  {
   "cell_type": "markdown",
   "metadata": {},
   "source": [
    "### LU分解：LU Decomposition\n",
    "\n",
    "LU stands for ‘Lower Upper’, and so an LU decomposition of a matrix A is a decomposition so that\n",
    "\n",
    "$$\n",
    "A = LU\n",
    "$$\n",
    "\n",
    "- 基本的にはGaussian elimination\n",
    "\n",
    "#### 処理方針\n",
    "\n",
    "1. 行列Aのほかに、単位行列Iを準備しこの行列をMとする\n",
    "2. AをGaussian eliminationすると同時に、それぞれの乗数 $m_{ik}$ を行列Mの(i, k)成分として記憶する\n",
    "3. アルゴリズムが終了したときのMをL, AをUとする\n"
   ]
  },
  {
   "cell_type": "code",
   "execution_count": 248,
   "metadata": {},
   "outputs": [
    {
     "name": "stdout",
     "output_type": "stream",
     "text": [
      "[[1 3 4]\n",
      " [2 1 3]\n",
      " [4 1 2]]\n",
      "[[4. 1. 2.]\n",
      " [1. 3. 4.]\n",
      " [2. 1. 3.]]\n",
      "[[1. 3. 4.]\n",
      " [2. 1. 3.]\n",
      " [4. 1. 2.]]\n"
     ]
    }
   ],
   "source": [
    "import scipy.linalg as la\n",
    "\n",
    "A = np.array([[1,3,4],[2,1,3],[4,1,2]])\n",
    "\n",
    "print(A)\n",
    "\n",
    "P, L, U = la.lu(A)\n",
    "print(L@U)\n",
    "print(P@L@U)"
   ]
  },
  {
   "cell_type": "code",
   "execution_count": 249,
   "metadata": {},
   "outputs": [
    {
     "name": "stdout",
     "output_type": "stream",
     "text": [
      "[[0. 1. 0.]\n",
      " [0. 0. 1.]\n",
      " [1. 0. 0.]]\n"
     ]
    }
   ],
   "source": [
    "print(P)"
   ]
  },
  {
   "cell_type": "code",
   "execution_count": 250,
   "metadata": {},
   "outputs": [
    {
     "name": "stdout",
     "output_type": "stream",
     "text": [
      "[[1.         0.         0.        ]\n",
      " [0.25       1.         0.        ]\n",
      " [0.5        0.18181818 1.        ]]\n"
     ]
    }
   ],
   "source": [
    "print(L)"
   ]
  },
  {
   "cell_type": "code",
   "execution_count": 251,
   "metadata": {},
   "outputs": [
    {
     "name": "stdout",
     "output_type": "stream",
     "text": [
      "[[4.         1.         2.        ]\n",
      " [0.         2.75       3.5       ]\n",
      " [0.         0.         1.36363636]]\n"
     ]
    }
   ],
   "source": [
    "print(U)"
   ]
  },
  {
   "cell_type": "markdown",
   "metadata": {},
   "source": [
    "### LU DecompositionのPsuedocode\n",
    "\n",
    "```\n",
    "function lu_decompose(A: matrix)\n",
    "    n = nrow(A)\n",
    "    P = indentity matrix, which is N times N\n",
    "    //row swap\n",
    "    for (i = 1; i <= n, i++) do\n",
    "         maxEl = |A[i,i]|\n",
    "         maxRow = i\n",
    "      \n",
    "         for (k = i + 1; k <= n; k++) dp\n",
    "             if |A[k, i]| > maxEl then\n",
    "                 maxEl = A[k, i]\n",
    "                 maxRow = k\n",
    "             end if\n",
    "         end for\n",
    "         \n",
    "         A[maxRow, :], A[i, :] = A[i, :], A[maxRow, :]\n",
    "         P[maxRow , i], P[i, i]  = 1, 0\n",
    "    end for\n",
    "    \n",
    "    L = I, which is N times N identity matrix\n",
    "    \n",
    "    for (i = 1; i <= n, i++) do\n",
    "        for (k = i + 1; k <= n; k++) do\n",
    "            m = A[k, i]/A[i, i]\n",
    "            A[k, :] = A[k, :] - A[i, :] * m\n",
    "            L[k, i] = m\n",
    "        end for\n",
    "    end for\n",
    "    \n",
    "    return P, L, A\n",
    "```"
   ]
  },
  {
   "cell_type": "code",
   "execution_count": 252,
   "metadata": {},
   "outputs": [],
   "source": [
    "def lu_decomposition(X):\n",
    "    A = X.copy()\n",
    "    n = A.shape[0]\n",
    "    P = np.identity(n)\n",
    "    L = np.identity(n)\n",
    "    \n",
    "    for i in range(n):\n",
    "        maxEl = abs(A[i, i])\n",
    "        maxRow = i\n",
    "        \n",
    "        for k in range(i+1, n):\n",
    "            if abs(A[k, i]) > maxEl:\n",
    "                maxEl = abs(A[k, i])\n",
    "                maxRow = k\n",
    "                \n",
    "        if i != maxRow:\n",
    "            P[i, i], P[i, maxRow], P[maxRow, i], P[maxRow, maxRow] = 0, 1, 1, 0\n",
    "            tmp = A[i, :].copy()\n",
    "            A[i, :] = A[maxRow, :]\n",
    "            A[maxRow, :] = tmp\n",
    "    for i in range(n):\n",
    "        for k in range(i + 1, n):\n",
    "            m = A[k, i]/A[i, i]\n",
    "            A[k, :] = A[k, :] - A[i, :] * m\n",
    "            L[k, i] = m\n",
    "            print(A)\n",
    "        \n",
    "    \n",
    "    return P, L, A\n",
    "        "
   ]
  },
  {
   "cell_type": "markdown",
   "metadata": {},
   "source": [
    "### [例題3]\n",
    "\n",
    "$$\n",
    "A = \\left(\\begin{array}{ccc}\n",
    "2&2&6\\\\\n",
    "3&5&13\\\\\n",
    "5&8&24\n",
    "\\end{array}\\right)\n",
    "$$\n",
    "をLU分解せよ"
   ]
  },
  {
   "cell_type": "code",
   "execution_count": 253,
   "metadata": {},
   "outputs": [
    {
     "name": "stdout",
     "output_type": "stream",
     "text": [
      "[[ 5.   8.  24. ]\n",
      " [ 0.   0.2 -1.4]\n",
      " [ 2.   2.   6. ]]\n",
      "[[ 5.   8.  24. ]\n",
      " [ 0.   0.2 -1.4]\n",
      " [ 0.  -1.2 -3.6]]\n",
      "[[  5.    8.   24. ]\n",
      " [  0.    0.2  -1.4]\n",
      " [  0.    0.  -12. ]]\n",
      "[[ 1.   0.   0. ]\n",
      " [ 0.6  1.   0. ]\n",
      " [ 0.4 -6.   1. ]]\n",
      "[[  5.    8.   24. ]\n",
      " [  0.    0.2  -1.4]\n",
      " [  0.    0.  -12. ]]\n",
      "[[0. 0. 1.]\n",
      " [0. 1. 0.]\n",
      " [1. 0. 0.]]\n"
     ]
    }
   ],
   "source": [
    "A = np.array(([2., 2., 6.]\n",
    "             ,[3., 5., 13.]\n",
    "             ,[5., 8., 24.]))\n",
    "\n",
    "P, L, U = lu_decomposition(A)\n",
    "print(L)\n",
    "print(U)\n",
    "print(P)"
   ]
  },
  {
   "cell_type": "code",
   "execution_count": 254,
   "metadata": {},
   "outputs": [
    {
     "name": "stdout",
     "output_type": "stream",
     "text": [
      "[[ 2.  2.  6.]\n",
      " [ 3.  5. 13.]\n",
      " [ 5.  8. 24.]]\n"
     ]
    }
   ],
   "source": [
    "print(P @ L @ U)"
   ]
  },
  {
   "cell_type": "markdown",
   "metadata": {},
   "source": [
    "### LU分解アルゴリズムの正当性\n",
    "#### 定理\n",
    "\n",
    "入力Aに対するLU分解のアルゴリズムの出力がL, Uならば$LU = A$\n",
    "\n",
    "#### [証明]\n",
    "\n",
    "任意の計算状態$<M_t, A_t>$において$M_tA_t = A$であることを帰納法を用いて示す。\n",
    "\n",
    "$t = 0$のときは $M_0A_0 = IA = A$より自明。\n",
    "\n",
    "次に、帰納法の仮定\n",
    "$$\n",
    "M_t A_t = A\n",
    "$$\n",
    "\n",
    "のもとで\n",
    "\n",
    "$$\n",
    "M_{t+1} A_{t+1} = A\n",
    "$$\n",
    "\n",
    "を示す。\n",
    "\n",
    "第$t+1$ stepで掃き出すのが$A_t$の(i, k)成分であるので、アルゴリズムより$ i > k$, このときの乗数を$m_{ik}$とする。ここで単位行列の(i, k)成分をそれぞれ$m_{i,k}, -m_{i,k}$としたものをそれぞれS, Tとする。\n",
    "\n",
    "$$\n",
    "S = \\left(\\begin{array}{cccccc}\n",
    "1 & 0 & ...& ...& ...& 0\\\\\n",
    "0 & ... & ...& ...& ...& 0\\\\\n",
    "0 & ... & 1 & ... & ...& ...\\\\\n",
    "...& ... & ...& ...& ...& ...\\\\\n",
    "0 & ... & m_{ik}& ... & ...& ...\\\\\n",
    "0 & ... & ...& 0& ...& 1\n",
    "\\end{array}\\right)\n",
    "$$\n",
    "\n",
    "$$\n",
    "T = \\left(\\begin{array}{cccccc}\n",
    "1 & 0 & ...& ...& ...& 0\\\\\n",
    "0 & ... & ...& ...& ...& 0\\\\\n",
    "0 & ... & 1 & ... & ...& ...\\\\\n",
    "...& ... & ...& ...& ...& ...\\\\\n",
    "0 & ... & -m_{ik}& ... & ...& ...\\\\\n",
    "0 & ... & ...& 0& ...& 1\n",
    "\\end{array}\\right)\n",
    "$$\n",
    "\n",
    "このとき以下の性質を用いる\n",
    "\n",
    "1. $ST = I$\n",
    "2. Sを任意の行列Mの右から掛けると、Mの第i列の$m_{ik}$倍をMの第k列に加える操作に相当する\n",
    "\n",
    "よって\n",
    "$$\n",
    "\\begin{aligned}\n",
    "M_{t + 1} &= M_t S\\\\\n",
    "A_{t + 1} & = T A_t\n",
    "\\end{aligned}\n",
    "$$\n",
    "\n",
    "Then,\n",
    "\n",
    "$$\n",
    "M_{t + 1}A_{t + 1} = (M_t S)(T A_t) = M_t A_t = A\n",
    "$$\n",
    "\n",
    "よって任意のtについて$M_t A_t = A$. Then $LU = M_{T}A_{T} = A$ where T は最終ステップ。"
   ]
  },
  {
   "cell_type": "markdown",
   "metadata": {},
   "source": [
    "### LUx = bを解くアルゴリズム\n",
    "\n",
    "```\n",
    "[INPUT]\n",
    "    L, U: LU分解\n",
    "    B: 定数ベクトル\n",
    "    \n",
    "[OUTPUT]\n",
    "    x: solution\n",
    "    \n",
    "[PROCESS]\n",
    "    n = nrows(L)\n",
    "    (前進代入)\n",
    "        y = b\n",
    "        for (i = 1; i <= n; i++) do\n",
    "            for (j = 1; j <= n; j++) do\n",
    "                y[i] = y[i] - L[i, j] * y[j]\n",
    "            end for\n",
    "        end for\n",
    "    \n",
    "    {後退代入}\n",
    "        x = y\n",
    "        for (i = n; i >= 1; i--) do\n",
    "            for (j = i + 1; i <= n; i++) do\n",
    "                x[i] = x[i] - U[i, j] * x[j]\n",
    "            end for\n",
    "            x[i] = x[i]/U[i, i]\n",
    "        end for\n",
    "        \n",
    "```\n"
   ]
  },
  {
   "cell_type": "code",
   "execution_count": 258,
   "metadata": {},
   "outputs": [
    {
     "data": {
      "text/plain": [
       "array([[ 1. ,  0. ,  0. ],\n",
       "       [ 0.6,  1. ,  0. ],\n",
       "       [ 0.4, -6. ,  1. ]])"
      ]
     },
     "execution_count": 258,
     "metadata": {},
     "output_type": "execute_result"
    }
   ],
   "source": []
  },
  {
   "cell_type": "code",
   "execution_count": null,
   "metadata": {},
   "outputs": [],
   "source": []
  }
 ],
 "metadata": {
  "kernelspec": {
   "display_name": "Python 3",
   "language": "python",
   "name": "python3"
  },
  "language_info": {
   "codemirror_mode": {
    "name": "ipython",
    "version": 3
   },
   "file_extension": ".py",
   "mimetype": "text/x-python",
   "name": "python",
   "nbconvert_exporter": "python",
   "pygments_lexer": "ipython3",
   "version": "3.7.4"
  }
 },
 "nbformat": 4,
 "nbformat_minor": 4
}
